{
  "cells": [
    {
      "cell_type": "markdown",
      "metadata": {
        "colab_type": "text",
        "id": "view-in-github"
      },
      "source": [
        "<a href=\"https://colab.research.google.com/github/PosgradoMNA/actividades-de-aprendizaje-jeesperon/blob/main/assignment01.ipynb\" target=\"_parent\"><img src=\"https://colab.research.google.com/assets/colab-badge.svg\" alt=\"Open In Colab\"/></a>"
      ]
    },
    {
      "cell_type": "markdown",
      "metadata": {
        "id": "zOR2vAB-M19Y"
      },
      "source": [
        "# ***Module 1 - Python Basics ***"
      ]
    },
    {
      "cell_type": "markdown",
      "metadata": {
        "id": "Q5UqfdY0Omn1"
      },
      "source": [
        "## **First Program**"
      ]
    },
    {
      "cell_type": "code",
      "execution_count": 27,
      "metadata": {
        "colab": {
          "base_uri": "https://localhost:8080/"
        },
        "id": "LzUSMM79NR9P",
        "outputId": "310a2773-250a-4d40-9882-1728c3695f3b"
      },
      "outputs": [
        {
          "name": "stdout",
          "output_type": "stream",
          "text": [
            "assignment01 for GitJobish03 and edited in git, and 18\n",
            "hola mundo\n"
          ]
        }
      ],
      "source": [
        "print('assignment01 for GitJobish03 and edited in git, and 18')\n",
        "print(\"hola mundo\")"
      ]
    },
    {
      "cell_type": "markdown",
      "metadata": {
        "id": "2kN-HOIfNdRc"
      },
      "source": [
        "La función print() permite mostrar el resultado de una operación"
      ]
    },
    {
      "cell_type": "code",
      "execution_count": 28,
      "metadata": {
        "colab": {
          "base_uri": "https://localhost:8080/"
        },
        "id": "R87rWATxNLID",
        "outputId": "50fd47db-ad85-4608-8ee3-07620c653609"
      },
      "outputs": [
        {
          "name": "stdout",
          "output_type": "stream",
          "text": [
            "Hola Mundo\n"
          ]
        }
      ],
      "source": [
        "print(\"Hola Mundo\")"
      ]
    },
    {
      "cell_type": "markdown",
      "metadata": {
        "id": "wmN7xZpaN7lf"
      },
      "source": [
        "Cuando usamos el comando \\n entre dos caracteres entrecomillados, hace un salto de línea"
      ]
    },
    {
      "cell_type": "code",
      "execution_count": 29,
      "metadata": {
        "colab": {
          "base_uri": "https://localhost:8080/"
        },
        "id": "mxM_WppZPMFx",
        "outputId": "3f6dc609-c9c0-449b-f682-c953535ecce0"
      },
      "outputs": [
        {
          "name": "stdout",
          "output_type": "stream",
          "text": [
            "Hello\n",
            "World\n"
          ]
        }
      ],
      "source": [
        "print(\"Hello\\nWorld\")"
      ]
    },
    {
      "cell_type": "markdown",
      "metadata": {
        "id": "Gvmao5iwOMKd"
      },
      "source": [
        "Los comentarios se guardan con el símbolo # al principio de la oración"
      ]
    },
    {
      "cell_type": "code",
      "execution_count": 30,
      "metadata": {
        "id": "3oyHZ0PpN5N3"
      },
      "outputs": [],
      "source": [
        "#Los comentarios se guardan de esta manera"
      ]
    },
    {
      "cell_type": "markdown",
      "metadata": {
        "id": "vyESKfJZTij2"
      },
      "source": [
        "## **Types**"
      ]
    },
    {
      "cell_type": "markdown",
      "metadata": {
        "id": "CiX8J7WzToGl"
      },
      "source": [
        "Se pueden encontrar los tipos de datos con la función `type`."
      ]
    },
    {
      "cell_type": "code",
      "execution_count": 31,
      "metadata": {
        "colab": {
          "base_uri": "https://localhost:8080/"
        },
        "id": "zcLVq9leT4-G",
        "outputId": "b603ed3b-8a0a-45f1-9a3b-b7de09f86b11"
      },
      "outputs": [
        {
          "data": {
            "text/plain": [
              "str"
            ]
          },
          "execution_count": 31,
          "metadata": {},
          "output_type": "execute_result"
        }
      ],
      "source": [
        "type(\"Hello World\")"
      ]
    },
    {
      "cell_type": "markdown",
      "metadata": {
        "id": "ZyKa0TuGDjOJ"
      },
      "source": [
        "Type Casting\n",
        "Find the type of the following using the <code>type</code> command"
      ]
    },
    {
      "cell_type": "code",
      "execution_count": 32,
      "metadata": {
        "colab": {
          "base_uri": "https://localhost:8080/"
        },
        "id": "y_TY0JSnDlTZ",
        "outputId": "1b4edc14-da36-4357-adb2-15ee847ba86f"
      },
      "outputs": [
        {
          "data": {
            "text/plain": [
              "str"
            ]
          },
          "execution_count": 32,
          "metadata": {},
          "output_type": "execute_result"
        }
      ],
      "source": [
        "type(\"1.1\")"
      ]
    },
    {
      "cell_type": "markdown",
      "metadata": {
        "id": "HXhV_qHzDwxE"
      },
      "source": [
        "<h3>Is a number always a number?\n",
        "</h3>\n",
        "Cast the following to an <code>int</code> and then to a <code>bool</code>:"
      ]
    },
    {
      "cell_type": "code",
      "execution_count": 33,
      "metadata": {
        "colab": {
          "base_uri": "https://localhost:8080/"
        },
        "id": "XLSWZLFVJ-64",
        "outputId": "df22f912-142b-4b71-dbb3-f28ef95e4a78"
      },
      "outputs": [
        {
          "name": "stdout",
          "output_type": "stream",
          "text": [
            "1\n",
            "True\n",
            "True\n"
          ]
        }
      ],
      "source": [
        "print(int(\"1\"))\n",
        "print(bool(\"1\"))\n",
        "\n",
        "print(bool(\"1\"))"
      ]
    },
    {
      "cell_type": "code",
      "execution_count": 36,
      "metadata": {
        "colab": {
          "base_uri": "https://localhost:8080/"
        },
        "id": "pIgCKa-TKnNs",
        "outputId": "1f347d3d-0b7e-49a3-954e-f3736c57a44b"
      },
      "outputs": [
        {
          "data": {
            "text/plain": [
              "17"
            ]
          },
          "execution_count": 36,
          "metadata": {},
          "output_type": "execute_result"
        }
      ],
      "source": [
        "# Write your code below. Don't forget to press Shift+Enter to execute the cell\n",
        "z=x+y\n",
        "z"
      ]
    },
    {
      "cell_type": "markdown",
      "metadata": {
        "id": "pq5QyvIXKpeR"
      },
      "source": []
    },
    {
      "cell_type": "markdown",
      "metadata": {
        "id": "5VIj3T7eWeHV"
      },
      "source": [
        "## **What are strings?**"
      ]
    },
    {
      "cell_type": "code",
      "execution_count": 37,
      "metadata": {
        "colab": {
          "base_uri": "https://localhost:8080/",
          "height": 36
        },
        "id": "vAlUB6QjWx2e",
        "outputId": "81434a6c-a342-47b7-e18e-031991b7674f"
      },
      "outputs": [
        {
          "data": {
            "application/vnd.google.colaboratory.intrinsic+json": {
              "type": "string"
            },
            "text/plain": [
              "'Michael Jackson'"
            ]
          },
          "execution_count": 37,
          "metadata": {},
          "output_type": "execute_result"
        }
      ],
      "source": [
        "# Use quotation marks for defining string\n",
        "\n",
        "\"Michael Jackson\""
      ]
    },
    {
      "cell_type": "code",
      "execution_count": 38,
      "metadata": {
        "colab": {
          "base_uri": "https://localhost:8080/",
          "height": 36
        },
        "id": "JM9MV-c0W0c_",
        "outputId": "c6c01782-76db-4935-98fd-0c042fcabe0d"
      },
      "outputs": [
        {
          "data": {
            "application/vnd.google.colaboratory.intrinsic+json": {
              "type": "string"
            },
            "text/plain": [
              "'Michael Jackson'"
            ]
          },
          "execution_count": 38,
          "metadata": {},
          "output_type": "execute_result"
        }
      ],
      "source": [
        "# Use single quotation marks for defining string\n",
        "\n",
        "'Michael Jackson'"
      ]
    },
    {
      "cell_type": "code",
      "execution_count": 39,
      "metadata": {
        "colab": {
          "base_uri": "https://localhost:8080/",
          "height": 36
        },
        "id": "eRbAo1gZW2m_",
        "outputId": "d48e8661-2137-4b89-aab7-6806784bfd39"
      },
      "outputs": [
        {
          "data": {
            "application/vnd.google.colaboratory.intrinsic+json": {
              "type": "string"
            },
            "text/plain": [
              "'1 2 3 4 5 6 '"
            ]
          },
          "execution_count": 39,
          "metadata": {},
          "output_type": "execute_result"
        }
      ],
      "source": [
        "# Digitals and spaces in string\n",
        "\n",
        "'1 2 3 4 5 6 '"
      ]
    },
    {
      "cell_type": "code",
      "execution_count": 40,
      "metadata": {
        "colab": {
          "base_uri": "https://localhost:8080/",
          "height": 36
        },
        "id": "snnuPFThW4q3",
        "outputId": "65f65e01-bc6b-48b1-aff7-43c5e30dce90"
      },
      "outputs": [
        {
          "data": {
            "application/vnd.google.colaboratory.intrinsic+json": {
              "type": "string"
            },
            "text/plain": [
              "'@#2_#]&*^%$'"
            ]
          },
          "execution_count": 40,
          "metadata": {},
          "output_type": "execute_result"
        }
      ],
      "source": [
        "# Special characters in string\n",
        "\n",
        "'@#2_#]&*^%$'"
      ]
    },
    {
      "cell_type": "code",
      "execution_count": 41,
      "metadata": {
        "colab": {
          "base_uri": "https://localhost:8080/"
        },
        "id": "TXzyXvJZW6A4",
        "outputId": "d31a4943-0f45-48db-d7f2-41059dc50497"
      },
      "outputs": [
        {
          "name": "stdout",
          "output_type": "stream",
          "text": [
            "hello!\n"
          ]
        }
      ],
      "source": [
        "# Print the string\n",
        "\n",
        "print(\"hello!\")"
      ]
    },
    {
      "cell_type": "code",
      "execution_count": 43,
      "metadata": {
        "colab": {
          "base_uri": "https://localhost:8080/",
          "height": 36
        },
        "id": "hFpC6a6YW7G7",
        "outputId": "29d3dabd-102a-4a7a-a254-47f3e243f3bc"
      },
      "outputs": [
        {
          "data": {
            "application/vnd.google.colaboratory.intrinsic+json": {
              "type": "string"
            },
            "text/plain": [
              "'Michael Jackson'"
            ]
          },
          "execution_count": 43,
          "metadata": {},
          "output_type": "execute_result"
        }
      ],
      "source": [
        "# Assign string to variable\n",
        "\n",
        "name = \"Michael Jackson\"\n",
        "name"
      ]
    },
    {
      "cell_type": "markdown",
      "metadata": {
        "id": "cmk414_HXFic"
      },
      "source": [
        "### Index"
      ]
    },
    {
      "cell_type": "markdown",
      "metadata": {
        "id": "dsbHCMQAXIcE"
      },
      "source": [
        "Because indexing starts at 0, it means the first index is on the index 0."
      ]
    },
    {
      "cell_type": "code",
      "execution_count": 44,
      "metadata": {
        "colab": {
          "base_uri": "https://localhost:8080/"
        },
        "id": "1VMx1F81XH1R",
        "outputId": "5c8c2e23-0cc1-4890-8283-04a5c79c6913"
      },
      "outputs": [
        {
          "name": "stdout",
          "output_type": "stream",
          "text": [
            "M\n"
          ]
        }
      ],
      "source": [
        "# Print the first element in the string\n",
        "\n",
        "print(name[0])"
      ]
    },
    {
      "cell_type": "code",
      "execution_count": 45,
      "metadata": {
        "colab": {
          "base_uri": "https://localhost:8080/"
        },
        "id": "F56K86wyXJWM",
        "outputId": "a9cde088-337b-42a7-ee67-7f94aa576bf7"
      },
      "outputs": [
        {
          "name": "stdout",
          "output_type": "stream",
          "text": [
            "l\n"
          ]
        }
      ],
      "source": [
        "# Print the element on index 6 in the string\n",
        "\n",
        "print(name[6])"
      ]
    },
    {
      "cell_type": "code",
      "execution_count": 46,
      "metadata": {
        "colab": {
          "base_uri": "https://localhost:8080/"
        },
        "id": "ok2rSNqsXNvt",
        "outputId": "f0e699e1-58bd-46a0-dc95-93b48aae8f03"
      },
      "outputs": [
        {
          "name": "stdout",
          "output_type": "stream",
          "text": [
            "o\n"
          ]
        }
      ],
      "source": [
        "# Print the element on the 13th index in the string\n",
        "\n",
        "print(name[13])"
      ]
    },
    {
      "cell_type": "markdown",
      "metadata": {
        "id": "9BWLnr_-XTB1"
      },
      "source": [
        "The last element is given by the index -1:"
      ]
    },
    {
      "cell_type": "code",
      "execution_count": 47,
      "metadata": {
        "colab": {
          "base_uri": "https://localhost:8080/"
        },
        "id": "XSLDTKTlXPKY",
        "outputId": "4ee29ef3-361b-4993-9adc-0084f3c23f40"
      },
      "outputs": [
        {
          "name": "stdout",
          "output_type": "stream",
          "text": [
            "n\n"
          ]
        }
      ],
      "source": [
        "# Print the last element in the string\n",
        "\n",
        "print(name[-1])"
      ]
    },
    {
      "cell_type": "code",
      "execution_count": 48,
      "metadata": {
        "colab": {
          "base_uri": "https://localhost:8080/"
        },
        "id": "840GaNARXUay",
        "outputId": "12d5be1b-7f78-48d3-e40d-9d877eec3509"
      },
      "outputs": [
        {
          "name": "stdout",
          "output_type": "stream",
          "text": [
            "M\n"
          ]
        }
      ],
      "source": [
        "# Print the first element in the string\n",
        "\n",
        "print(name[-15])"
      ]
    },
    {
      "cell_type": "code",
      "execution_count": 49,
      "metadata": {
        "colab": {
          "base_uri": "https://localhost:8080/"
        },
        "id": "-RiNPjktXWQ7",
        "outputId": "d25ea484-6a73-4f19-a2e8-4750ca5d0eff"
      },
      "outputs": [
        {
          "data": {
            "text/plain": [
              "15"
            ]
          },
          "execution_count": 49,
          "metadata": {},
          "output_type": "execute_result"
        }
      ],
      "source": [
        "# Find the length of string\n",
        "\n",
        "len(\"Michael Jackson\")"
      ]
    },
    {
      "cell_type": "code",
      "execution_count": 50,
      "metadata": {
        "colab": {
          "base_uri": "https://localhost:8080/"
        },
        "id": "iAXeSn5pXYB2",
        "outputId": "656d5f64-682d-46f9-f430-db5855942482"
      },
      "outputs": [
        {
          "data": {
            "text/plain": [
              "15"
            ]
          },
          "execution_count": 50,
          "metadata": {},
          "output_type": "execute_result"
        }
      ],
      "source": [
        "len(name)"
      ]
    },
    {
      "cell_type": "code",
      "execution_count": 50,
      "metadata": {
        "id": "pof1CK0mXanw"
      },
      "outputs": [],
      "source": []
    },
    {
      "cell_type": "markdown",
      "metadata": {
        "id": "sD_qejwwWFQH"
      },
      "source": [
        "### **Slicing**"
      ]
    },
    {
      "cell_type": "code",
      "execution_count": 51,
      "metadata": {
        "colab": {
          "base_uri": "https://localhost:8080/"
        },
        "id": "ieKh4OhoWH5r",
        "outputId": "041e8ec7-beb5-4667-99f8-86c4a3c526bb"
      },
      "outputs": [
        {
          "data": {
            "text/plain": [
              "1"
            ]
          },
          "execution_count": 51,
          "metadata": {},
          "output_type": "execute_result"
        }
      ],
      "source": [
        "#What is the result of the following line of code:\n",
        "\"0123456\".find('1') "
      ]
    },
    {
      "cell_type": "code",
      "execution_count": 52,
      "metadata": {
        "colab": {
          "base_uri": "https://localhost:8080/",
          "height": 0
        },
        "id": "D5FXG1BpWPAD",
        "outputId": "a68ca0b7-8348-4ec6-fb1f-47344945056b"
      },
      "outputs": [
        {
          "data": {
            "application/vnd.google.colaboratory.intrinsic+json": {
              "type": "string"
            },
            "text/plain": [
              "'ABCD'"
            ]
          },
          "execution_count": 52,
          "metadata": {},
          "output_type": "execute_result"
        }
      ],
      "source": [
        "Letters=\"ABCDEFGHIJK\"\n",
        "Letters[0:4]"
      ]
    },
    {
      "cell_type": "markdown",
      "metadata": {
        "id": "7Wl3lulBWTaq"
      },
      "source": [
        "Use a stride value of 2 on the following string :"
      ]
    },
    {
      "cell_type": "code",
      "execution_count": 53,
      "metadata": {
        "colab": {
          "base_uri": "https://localhost:8080/",
          "height": 0
        },
        "id": "iX8G_WMiWRqd",
        "outputId": "fd491838-3c5c-429c-e1f4-0da62d98a006"
      },
      "outputs": [
        {
          "data": {
            "application/vnd.google.colaboratory.intrinsic+json": {
              "type": "string"
            },
            "text/plain": [
              "'Good'"
            ]
          },
          "execution_count": 53,
          "metadata": {},
          "output_type": "execute_result"
        }
      ],
      "source": [
        "Good=\"GsoAo+d\"\n",
        "Good[::2]"
      ]
    },
    {
      "cell_type": "markdown",
      "metadata": {
        "id": "ZELkl9lWWYbm"
      },
      "source": [
        "Convert the following string to uppercase using the method <code>upper()</code>:"
      ]
    },
    {
      "cell_type": "code",
      "execution_count": 54,
      "metadata": {
        "colab": {
          "base_uri": "https://localhost:8080/",
          "height": 0
        },
        "id": "B5l7iLfIWXvi",
        "outputId": "ee919ea7-b210-4bf9-8d70-403ac2dd01db"
      },
      "outputs": [
        {
          "data": {
            "application/vnd.google.colaboratory.intrinsic+json": {
              "type": "string"
            },
            "text/plain": [
              "'UPPERCASE'"
            ]
          },
          "execution_count": 54,
          "metadata": {},
          "output_type": "execute_result"
        }
      ],
      "source": [
        "\"uppercase\"\n",
        "\"uppercase\".upper()"
      ]
    },
    {
      "cell_type": "code",
      "execution_count": 55,
      "metadata": {
        "colab": {
          "base_uri": "https://localhost:8080/",
          "height": 0
        },
        "id": "GdKDqL8WXoEF",
        "outputId": "11a63d68-712c-4e75-d51e-3c37ac4e5804"
      },
      "outputs": [
        {
          "data": {
            "application/vnd.google.colaboratory.intrinsic+json": {
              "type": "string"
            },
            "text/plain": [
              "'Mich'"
            ]
          },
          "execution_count": 55,
          "metadata": {},
          "output_type": "execute_result"
        }
      ],
      "source": [
        "# Take the slice on variable name with only index 0 to index 3\n",
        "\n",
        "name[0:4]"
      ]
    },
    {
      "cell_type": "code",
      "execution_count": 56,
      "metadata": {
        "colab": {
          "base_uri": "https://localhost:8080/",
          "height": 0
        },
        "id": "k7bdP48RXpfH",
        "outputId": "e3142586-00ff-45ee-cc55-784459cb230d"
      },
      "outputs": [
        {
          "data": {
            "application/vnd.google.colaboratory.intrinsic+json": {
              "type": "string"
            },
            "text/plain": [
              "'Jack'"
            ]
          },
          "execution_count": 56,
          "metadata": {},
          "output_type": "execute_result"
        }
      ],
      "source": [
        "# Take the slice on variable name with only index 8 to index 11\n",
        "\n",
        "name[8:12]"
      ]
    },
    {
      "cell_type": "markdown",
      "metadata": {
        "id": "9CodG1y9Xt9t"
      },
      "source": [
        "### Stride"
      ]
    },
    {
      "cell_type": "code",
      "execution_count": 57,
      "metadata": {
        "colab": {
          "base_uri": "https://localhost:8080/",
          "height": 0
        },
        "id": "eL3tGeW-Xq5R",
        "outputId": "d3203c23-d1fa-4024-9538-9cbb75fba17a"
      },
      "outputs": [
        {
          "data": {
            "application/vnd.google.colaboratory.intrinsic+json": {
              "type": "string"
            },
            "text/plain": [
              "'McalJcsn'"
            ]
          },
          "execution_count": 57,
          "metadata": {},
          "output_type": "execute_result"
        }
      ],
      "source": [
        "# Get every second element. The elments on index 1, 3, 5 ...\n",
        "name=\"Michael Jackson\"\n",
        "name[::2]"
      ]
    },
    {
      "cell_type": "markdown",
      "metadata": {
        "id": "QmeWVpApYAhS"
      },
      "source": [
        "We can also incorporate slicing  with the stride. In this case, we select the first five elements and then use the stride:"
      ]
    },
    {
      "cell_type": "code",
      "execution_count": 58,
      "metadata": {
        "colab": {
          "base_uri": "https://localhost:8080/",
          "height": 0
        },
        "id": "sZDsFdtpX101",
        "outputId": "f9870c67-d4e2-4f50-d7e2-a872166e0cc0"
      },
      "outputs": [
        {
          "data": {
            "application/vnd.google.colaboratory.intrinsic+json": {
              "type": "string"
            },
            "text/plain": [
              "'Mca'"
            ]
          },
          "execution_count": 58,
          "metadata": {},
          "output_type": "execute_result"
        }
      ],
      "source": [
        "# Get every second element in the range from index 0 to index 4\n",
        "\n",
        "name[0:5:2]"
      ]
    },
    {
      "cell_type": "markdown",
      "metadata": {
        "id": "QhAnsUT-YPsg"
      },
      "source": [
        "### Concatenate Strings"
      ]
    },
    {
      "cell_type": "markdown",
      "metadata": {
        "id": "OJQ9LvxYYhgT"
      },
      "source": [
        "We can concatenate or combine strings by using the addition symbols, and the result is a new string that is a combination of both:"
      ]
    },
    {
      "cell_type": "code",
      "execution_count": 59,
      "metadata": {
        "colab": {
          "base_uri": "https://localhost:8080/",
          "height": 0
        },
        "id": "3N5CEY34YDQ0",
        "outputId": "363ceb55-1a20-4d63-cf00-97a5f9ea9efb"
      },
      "outputs": [
        {
          "data": {
            "application/vnd.google.colaboratory.intrinsic+json": {
              "type": "string"
            },
            "text/plain": [
              "'Michael Jacksonis the best'"
            ]
          },
          "execution_count": 59,
          "metadata": {},
          "output_type": "execute_result"
        }
      ],
      "source": [
        "# Concatenate two strings\n",
        "\n",
        "statement = name + \"is the best\"\n",
        "statement"
      ]
    },
    {
      "cell_type": "code",
      "execution_count": 60,
      "metadata": {
        "colab": {
          "base_uri": "https://localhost:8080/",
          "height": 0
        },
        "id": "zvdY5kMMYlgp",
        "outputId": "fc9569ee-6722-4f0a-c2af-44b123c65142"
      },
      "outputs": [
        {
          "data": {
            "application/vnd.google.colaboratory.intrinsic+json": {
              "type": "string"
            },
            "text/plain": [
              "'Michael JacksonMichael JacksonMichael Jackson'"
            ]
          },
          "execution_count": 60,
          "metadata": {},
          "output_type": "execute_result"
        }
      ],
      "source": [
        "# Print the string for 3 times\n",
        "\n",
        "3 * \"Michael Jackson\""
      ]
    },
    {
      "cell_type": "code",
      "execution_count": 61,
      "metadata": {
        "colab": {
          "base_uri": "https://localhost:8080/",
          "height": 0
        },
        "id": "70MBSb-dY7O2",
        "outputId": "169a2127-3c07-4ff5-cc23-6a7122c74843"
      },
      "outputs": [
        {
          "data": {
            "application/vnd.google.colaboratory.intrinsic+json": {
              "type": "string"
            },
            "text/plain": [
              "'Michael Jackson is the best'"
            ]
          },
          "execution_count": 61,
          "metadata": {},
          "output_type": "execute_result"
        }
      ],
      "source": [
        "# Concatenate strings\n",
        "\n",
        "name = \"Michael Jackson\"\n",
        "name = name + \" is the best\"\n",
        "name"
      ]
    },
    {
      "cell_type": "markdown",
      "metadata": {
        "id": "s2w3zjr3ZF4h"
      },
      "source": [
        "### Scape Sequences"
      ]
    },
    {
      "cell_type": "markdown",
      "metadata": {
        "id": "5ByHBpYKZKT0"
      },
      "source": [
        "Back slashes represent the beginning  of escape sequences. Escape sequences represent strings that may be difficult to input. For example, back slash \"n\" represents a new line. The output is given by a new line after the back slash \"n\" is encountered:"
      ]
    },
    {
      "cell_type": "code",
      "execution_count": 62,
      "metadata": {
        "colab": {
          "base_uri": "https://localhost:8080/"
        },
        "id": "3SV-0chhZH88",
        "outputId": "b30d5800-1d46-4443-9aeb-6b0d00f5aba4"
      },
      "outputs": [
        {
          "name": "stdout",
          "output_type": "stream",
          "text": [
            " Michael Jackson \n",
            " is the best\n"
          ]
        }
      ],
      "source": [
        "# New line escape sequence\n",
        "\n",
        "print(\" Michael Jackson \\n is the best\" )"
      ]
    },
    {
      "cell_type": "code",
      "execution_count": 63,
      "metadata": {
        "colab": {
          "base_uri": "https://localhost:8080/"
        },
        "id": "sX4C5-OeZNCW",
        "outputId": "df6bded5-ff21-4f27-99e8-58e716116bd7"
      },
      "outputs": [
        {
          "name": "stdout",
          "output_type": "stream",
          "text": [
            " Michael Jackson \t is the best\n"
          ]
        }
      ],
      "source": [
        "# Tab escape sequence\n",
        "\n",
        "print(\" Michael Jackson \\t is the best\" )"
      ]
    },
    {
      "cell_type": "code",
      "execution_count": 64,
      "metadata": {
        "colab": {
          "base_uri": "https://localhost:8080/"
        },
        "id": "7_h8psMkZPDA",
        "outputId": "5aca8c39-83af-4360-f697-cdcf70a70790"
      },
      "outputs": [
        {
          "name": "stdout",
          "output_type": "stream",
          "text": [
            " Michael Jackson \\ is the best\n"
          ]
        }
      ],
      "source": [
        "# Include back slash in string\n",
        "\n",
        "print(\" Michael Jackson \\\\ is the best\" )"
      ]
    },
    {
      "cell_type": "code",
      "execution_count": 65,
      "metadata": {
        "colab": {
          "base_uri": "https://localhost:8080/"
        },
        "id": "tiW5KlF0ZQ8a",
        "outputId": "f48a8eb0-5699-4dca-9efb-e7a1e53f4885"
      },
      "outputs": [
        {
          "name": "stdout",
          "output_type": "stream",
          "text": [
            " Michael Jackson \\ is the best\n"
          ]
        }
      ],
      "source": [
        "# r will tell python that string will be display as raw string\n",
        "\n",
        "print(r\" Michael Jackson \\ is the best\" )"
      ]
    },
    {
      "cell_type": "code",
      "execution_count": 65,
      "metadata": {
        "id": "6XiFITEFZSsJ"
      },
      "outputs": [],
      "source": []
    },
    {
      "cell_type": "markdown",
      "metadata": {
        "id": "LAkCeDGJZVCN"
      },
      "source": [
        "### String Operations"
      ]
    },
    {
      "cell_type": "code",
      "execution_count": 66,
      "metadata": {
        "colab": {
          "base_uri": "https://localhost:8080/"
        },
        "id": "L5zUA0MWZW1D",
        "outputId": "3fd8f39f-890a-4513-b80c-82dfd31d4732"
      },
      "outputs": [
        {
          "name": "stdout",
          "output_type": "stream",
          "text": [
            "before upper: Thriller is the sixth studio album\n",
            "After upper: THRILLER IS THE SIXTH STUDIO ALBUM\n"
          ]
        }
      ],
      "source": [
        "# Convert all the characters in string to upper case\n",
        "\n",
        "a = \"Thriller is the sixth studio album\"\n",
        "print(\"before upper:\", a)\n",
        "b = a.upper()\n",
        "print(\"After upper:\", b)"
      ]
    },
    {
      "cell_type": "code",
      "execution_count": 67,
      "metadata": {
        "colab": {
          "base_uri": "https://localhost:8080/",
          "height": 0
        },
        "id": "bP0rulSHaEE6",
        "outputId": "eb7b90f6-e902-450e-d4ed-d7cb0fa2a898"
      },
      "outputs": [
        {
          "data": {
            "application/vnd.google.colaboratory.intrinsic+json": {
              "type": "string"
            },
            "text/plain": [
              "'Janet Jackson is the best'"
            ]
          },
          "execution_count": 67,
          "metadata": {},
          "output_type": "execute_result"
        }
      ],
      "source": [
        "# Replace the old substring with the new target substring is the segment has been found in the string\n",
        "\n",
        "a = \"Michael Jackson is the best\"\n",
        "b = a.replace('Michael', 'Janet')\n",
        "b"
      ]
    },
    {
      "cell_type": "code",
      "execution_count": 68,
      "metadata": {
        "colab": {
          "base_uri": "https://localhost:8080/"
        },
        "id": "HgUWDnjBaHkZ",
        "outputId": "6a94af2a-9a4f-4ee1-b3cd-9e8a94b17e2c"
      },
      "outputs": [
        {
          "data": {
            "text/plain": [
              "5"
            ]
          },
          "execution_count": 68,
          "metadata": {},
          "output_type": "execute_result"
        }
      ],
      "source": [
        "# Find the substring in the string. Only the index of the first elment of substring in string will be the output\n",
        "\n",
        "name = \"Michael Jackson\"\n",
        "name.find('el')"
      ]
    },
    {
      "cell_type": "code",
      "execution_count": 69,
      "metadata": {
        "colab": {
          "base_uri": "https://localhost:8080/"
        },
        "id": "bfnYlc0naMxQ",
        "outputId": "0b83656d-05e9-46fe-e0bd-1db05e13207d"
      },
      "outputs": [
        {
          "data": {
            "text/plain": [
              "8"
            ]
          },
          "execution_count": 69,
          "metadata": {},
          "output_type": "execute_result"
        }
      ],
      "source": [
        "# Find the substring in the string.\n",
        "\n",
        "name.find('Jack')"
      ]
    },
    {
      "cell_type": "code",
      "execution_count": 70,
      "metadata": {
        "colab": {
          "base_uri": "https://localhost:8080/"
        },
        "id": "5ovQhNVEaWrU",
        "outputId": "64d21dd3-f02c-48ea-bc54-e62cf70087f4"
      },
      "outputs": [
        {
          "data": {
            "text/plain": [
              "-1"
            ]
          },
          "execution_count": 70,
          "metadata": {},
          "output_type": "execute_result"
        }
      ],
      "source": [
        "# If cannot find the substring in the string\n",
        "\n",
        "name.find('Jasdfasdasdf')"
      ]
    },
    {
      "cell_type": "code",
      "execution_count": 70,
      "metadata": {
        "id": "ueZD2iCSaY5C"
      },
      "outputs": [],
      "source": []
    },
    {
      "cell_type": "markdown",
      "metadata": {
        "id": "JvnCyDc1ayY0"
      },
      "source": [
        "## Quiz On Strings"
      ]
    },
    {
      "cell_type": "markdown",
      "metadata": {
        "id": "V859ahnia2Dp"
      },
      "source": [
        "What is the value of the variable <code>a</code> after the following code is executed?"
      ]
    },
    {
      "cell_type": "code",
      "execution_count": 71,
      "metadata": {
        "colab": {
          "base_uri": "https://localhost:8080/",
          "height": 0
        },
        "id": "oMRdFLjXa0Qf",
        "outputId": "cb06bcad-a42c-4fc4-f45f-aa30a694aa78"
      },
      "outputs": [
        {
          "data": {
            "application/vnd.google.colaboratory.intrinsic+json": {
              "type": "string"
            },
            "text/plain": [
              "'1'"
            ]
          },
          "execution_count": 71,
          "metadata": {},
          "output_type": "execute_result"
        }
      ],
      "source": [
        "# Write your code below and press Shift+Enter to execute \n",
        "\n",
        "a = \"1\"\n",
        "a"
      ]
    },
    {
      "cell_type": "markdown",
      "metadata": {
        "id": "3mwKlUwObN1I"
      },
      "source": [
        "What is the value of the variable <code>b</code> after the following code is executed?"
      ]
    },
    {
      "cell_type": "code",
      "execution_count": 72,
      "metadata": {
        "colab": {
          "base_uri": "https://localhost:8080/",
          "height": 0
        },
        "id": "hZ3_owf1a-3o",
        "outputId": "7b9ae132-7111-43d6-d236-124a1471008a"
      },
      "outputs": [
        {
          "data": {
            "application/vnd.google.colaboratory.intrinsic+json": {
              "type": "string"
            },
            "text/plain": [
              "'2'"
            ]
          },
          "execution_count": 72,
          "metadata": {},
          "output_type": "execute_result"
        }
      ],
      "source": [
        "# Write your code below and press Shift+Enter to execute\n",
        "\n",
        "b = \"2\"\n",
        "b"
      ]
    },
    {
      "cell_type": "markdown",
      "metadata": {
        "id": "ngh_2_IebXWl"
      },
      "source": [
        "What is the value of the variable <code>c</code> after the following code is executed?"
      ]
    },
    {
      "cell_type": "code",
      "execution_count": 73,
      "metadata": {
        "colab": {
          "base_uri": "https://localhost:8080/",
          "height": 0
        },
        "id": "xKiIH30NbPwT",
        "outputId": "2d5718a1-6107-4b0a-bda7-8cd6317a2e31"
      },
      "outputs": [
        {
          "data": {
            "application/vnd.google.colaboratory.intrinsic+json": {
              "type": "string"
            },
            "text/plain": [
              "'12'"
            ]
          },
          "execution_count": 73,
          "metadata": {},
          "output_type": "execute_result"
        }
      ],
      "source": [
        "# Write your code below and press Shift+Enter to execute \n",
        "\n",
        "c = a + b\n",
        "c"
      ]
    },
    {
      "cell_type": "markdown",
      "metadata": {
        "id": "0rcdiq1TbeQY"
      },
      "source": [
        "Consider the variable <code>d</code> use slicing to print out the first three elements:"
      ]
    },
    {
      "cell_type": "code",
      "execution_count": 74,
      "metadata": {
        "colab": {
          "base_uri": "https://localhost:8080/"
        },
        "id": "WgMYDuTZbaGF",
        "outputId": "3fc18fd0-bde5-4935-9965-fd4e52d3e575"
      },
      "outputs": [
        {
          "name": "stdout",
          "output_type": "stream",
          "text": [
            "ABC\n"
          ]
        }
      ],
      "source": [
        "# Write your code below and press Shift+Enter to execute\n",
        "\n",
        "d = \"ABCDEFG\"\n",
        "print(d[0:3])"
      ]
    },
    {
      "cell_type": "markdown",
      "metadata": {
        "id": "EiJCexMgbwdY"
      },
      "source": [
        "Use a stride value of 2 to print out every second character of the string <code>e</code>:\n"
      ]
    },
    {
      "cell_type": "code",
      "execution_count": 75,
      "metadata": {
        "colab": {
          "base_uri": "https://localhost:8080/"
        },
        "id": "4ov9-hFabj7G",
        "outputId": "eed9f9f5-f5dc-4db5-81bc-857e9a127f99"
      },
      "outputs": [
        {
          "name": "stdout",
          "output_type": "stream",
          "text": [
            "correct\n"
          ]
        }
      ],
      "source": [
        "# Write your code below and press Shift+Enter to execute\n",
        "\n",
        "e = 'clocrkr1e1c1t'\n",
        "print(e[::2])"
      ]
    },
    {
      "cell_type": "markdown",
      "metadata": {
        "id": "c2CSJhp4cJi2"
      },
      "source": [
        "Print out a backslash:"
      ]
    },
    {
      "cell_type": "code",
      "execution_count": 76,
      "metadata": {
        "colab": {
          "base_uri": "https://localhost:8080/"
        },
        "id": "HmJ3Fomwb2VN",
        "outputId": "b7425c5b-14e4-4cb1-9274-d82e88c6d95b"
      },
      "outputs": [
        {
          "name": "stdout",
          "output_type": "stream",
          "text": [
            "\\ \n"
          ]
        }
      ],
      "source": [
        "# Write your code below and press Shift+Enter to execute\n",
        "print(r\"\\ \")"
      ]
    },
    {
      "cell_type": "markdown",
      "metadata": {
        "id": "S8RWURTicgpV"
      },
      "source": [
        "Convert the variable <code>f</code> to uppercase:"
      ]
    },
    {
      "cell_type": "code",
      "execution_count": 77,
      "metadata": {
        "colab": {
          "base_uri": "https://localhost:8080/",
          "height": 0
        },
        "id": "P7aLEkSWcRSU",
        "outputId": "343602d9-ad05-45f1-ffdc-d65a2d42171f"
      },
      "outputs": [
        {
          "data": {
            "application/vnd.google.colaboratory.intrinsic+json": {
              "type": "string"
            },
            "text/plain": [
              "'YOU ARE WRONG'"
            ]
          },
          "execution_count": 77,
          "metadata": {},
          "output_type": "execute_result"
        }
      ],
      "source": [
        "# Write your code below and press Shift+Enter to execute\n",
        "\n",
        "f = \"You are wrong\"\n",
        "f.upper()"
      ]
    },
    {
      "cell_type": "markdown",
      "metadata": {
        "id": "N5tYnBfyc4EM"
      },
      "source": [
        "Consider the variable g, and find the first index of the sub-string snow:"
      ]
    },
    {
      "cell_type": "code",
      "execution_count": 78,
      "metadata": {
        "colab": {
          "base_uri": "https://localhost:8080/"
        },
        "id": "Gs_p9lVlcko5",
        "outputId": "f61abef3-1097-4029-a3c1-9e8a33383b6d"
      },
      "outputs": [
        {
          "data": {
            "text/plain": [
              "95"
            ]
          },
          "execution_count": 78,
          "metadata": {},
          "output_type": "execute_result"
        }
      ],
      "source": [
        "# Write your code below and press Shift+Enter to execute\n",
        "\n",
        "g = \"Mary had a little lamb Little lamb, little lamb Mary had a little lamb \\\n",
        "Its fleece was white as snow And everywhere that Mary went Mary went, Mary went \\\n",
        "Everywhere that Mary went The lamb was sure to go\"\n",
        "g.find(\"snow\")"
      ]
    },
    {
      "cell_type": "markdown",
      "metadata": {
        "id": "sVLPIgy5dJWe"
      },
      "source": [
        "In the variable g, replace the sub-string Mary with Bob:"
      ]
    },
    {
      "cell_type": "code",
      "execution_count": 79,
      "metadata": {
        "colab": {
          "base_uri": "https://localhost:8080/",
          "height": 0
        },
        "id": "tQu08L1VdDAt",
        "outputId": "ee74bcd4-55e0-4d47-d1d6-6a1f42b191d4"
      },
      "outputs": [
        {
          "data": {
            "application/vnd.google.colaboratory.intrinsic+json": {
              "type": "string"
            },
            "text/plain": [
              "'Bob had a little lamb Little lamb, little lamb Bob had a little lamb Its fleece was white as snow And everywhere that Bob went Bob went, Bob went Everywhere that Bob went The lamb was sure to go'"
            ]
          },
          "execution_count": 79,
          "metadata": {},
          "output_type": "execute_result"
        }
      ],
      "source": [
        "g.replace(\"Mary\",\"Bob\")"
      ]
    },
    {
      "cell_type": "code",
      "execution_count": 79,
      "metadata": {
        "id": "jfalY8fndO-Y"
      },
      "outputs": [],
      "source": []
    },
    {
      "cell_type": "code",
      "execution_count": 80,
      "metadata": {
        "colab": {
          "base_uri": "https://localhost:8080/",
          "height": 0
        },
        "id": "GcohwcXvdnrE",
        "outputId": "7d6b9e9d-3317-43f3-8fbd-75320c44b9ea"
      },
      "outputs": [
        {
          "data": {
            "application/vnd.google.colaboratory.intrinsic+json": {
              "type": "string"
            },
            "text/plain": [
              "'Li'"
            ]
          },
          "execution_count": 80,
          "metadata": {},
          "output_type": "execute_result"
        }
      ],
      "source": [
        "name=\"Liz\"\n",
        "name[:2]"
      ]
    },
    {
      "cell_type": "code",
      "execution_count": 80,
      "metadata": {
        "id": "wS9baB1Fdq6Q"
      },
      "outputs": [],
      "source": []
    },
    {
      "cell_type": "markdown",
      "metadata": {
        "id": "J6YlA3-meCoR"
      },
      "source": [
        "# Module 2 - Python Data Structures"
      ]
    },
    {
      "cell_type": "markdown",
      "metadata": {
        "id": "r9wDxyfuaUnG"
      },
      "source": [
        "## Tuples & Lists"
      ]
    },
    {
      "cell_type": "markdown",
      "metadata": {
        "id": "bcIqLv-yeF8F"
      },
      "source": [
        "Create a tuple  <code> (0,1,2,3) </code> and assign it to variable <code>A</code>:"
      ]
    },
    {
      "cell_type": "code",
      "execution_count": 81,
      "metadata": {
        "colab": {
          "base_uri": "https://localhost:8080/"
        },
        "id": "e7nT1Bkhc-nm",
        "outputId": "988f750b-cb57-439a-d238-0b3d3cfe584e"
      },
      "outputs": [
        {
          "name": "stdout",
          "output_type": "stream",
          "text": [
            "(0, 1, 2, 3)\n"
          ]
        }
      ],
      "source": [
        "A=(0,1, 2, 3)\n",
        "print(A)"
      ]
    },
    {
      "cell_type": "markdown",
      "metadata": {
        "id": "7L16jrKFeHxW"
      },
      "source": [
        "Find the first two elements of tuple <code> A </code>"
      ]
    },
    {
      "cell_type": "code",
      "execution_count": 82,
      "metadata": {
        "colab": {
          "base_uri": "https://localhost:8080/"
        },
        "id": "INidWNIxeJ-x",
        "outputId": "641431b8-7c82-4866-afc7-ff6d7da8e280"
      },
      "outputs": [
        {
          "data": {
            "text/plain": [
              "(0, 1)"
            ]
          },
          "execution_count": 82,
          "metadata": {},
          "output_type": "execute_result"
        }
      ],
      "source": [
        "A[0:2]"
      ]
    },
    {
      "cell_type": "markdown",
      "metadata": {
        "id": "2bsmMWKReLdJ"
      },
      "source": [
        "For the next few questions, you will need the following list:"
      ]
    },
    {
      "cell_type": "code",
      "execution_count": 83,
      "metadata": {
        "id": "LJLkI1mjeOgl"
      },
      "outputs": [],
      "source": [
        "B=[\"a\",\"b\",\"c\"]"
      ]
    },
    {
      "cell_type": "markdown",
      "metadata": {
        "id": "wknzuRizeRsW"
      },
      "source": [
        "Find the first two elements of the list <code> B</code>:"
      ]
    },
    {
      "cell_type": "code",
      "execution_count": 84,
      "metadata": {
        "colab": {
          "base_uri": "https://localhost:8080/"
        },
        "id": "6w1LgrxoeP8N",
        "outputId": "861862dd-6357-4c1f-c0cf-ba7d789137ed"
      },
      "outputs": [
        {
          "data": {
            "text/plain": [
              "['a', 'b']"
            ]
          },
          "execution_count": 84,
          "metadata": {},
          "output_type": "execute_result"
        }
      ],
      "source": [
        "B[:2]"
      ]
    },
    {
      "cell_type": "markdown",
      "metadata": {
        "id": "NBLUs_6reWcx"
      },
      "source": [
        "Change the first element of the list to an uppercase <code>\"A\"</code>."
      ]
    },
    {
      "cell_type": "code",
      "execution_count": 85,
      "metadata": {
        "colab": {
          "base_uri": "https://localhost:8080/"
        },
        "id": "dpeTqYZseW2_",
        "outputId": "0436563c-07a3-4585-c7ca-c74d91002937"
      },
      "outputs": [
        {
          "name": "stdout",
          "output_type": "stream",
          "text": [
            "['A', 'b', 'c']\n"
          ]
        }
      ],
      "source": [
        "B[0]=\"A\"\n",
        "print(B)"
      ]
    },
    {
      "cell_type": "code",
      "execution_count": 85,
      "metadata": {
        "id": "iK6oSqWoeYSt"
      },
      "outputs": [],
      "source": []
    },
    {
      "cell_type": "markdown",
      "metadata": {
        "id": "lkXf-ox7wLW7"
      },
      "source": [
        "### Quiz on Tuples"
      ]
    },
    {
      "cell_type": "markdown",
      "metadata": {
        "id": "XomBTXiDwPue"
      },
      "source": [
        "Consider the following tuple:"
      ]
    },
    {
      "cell_type": "code",
      "execution_count": 86,
      "metadata": {
        "colab": {
          "base_uri": "https://localhost:8080/"
        },
        "id": "L7k7wJYdwSoO",
        "outputId": "94adecfb-09ed-4150-de1f-5923ca2b10f2"
      },
      "outputs": [
        {
          "data": {
            "text/plain": [
              "('pop',\n",
              " 'rock',\n",
              " 'soul',\n",
              " 'hard rock',\n",
              " 'soft rock',\n",
              " 'R&B',\n",
              " 'progressive rock',\n",
              " 'disco')"
            ]
          },
          "execution_count": 86,
          "metadata": {},
          "output_type": "execute_result"
        }
      ],
      "source": [
        "# sample tuple\n",
        "\n",
        "genres_tuple = (\"pop\", \"rock\", \"soul\", \"hard rock\", \"soft rock\", \\\n",
        "                \"R&B\", \"progressive rock\", \"disco\") \n",
        "genres_tuple"
      ]
    },
    {
      "cell_type": "markdown",
      "metadata": {
        "id": "5wPp3LbUwVMq"
      },
      "source": [
        "Find the length of the tuple, <code>genres_tuple</code>:"
      ]
    },
    {
      "cell_type": "code",
      "execution_count": 87,
      "metadata": {
        "colab": {
          "base_uri": "https://localhost:8080/"
        },
        "id": "3_cOV0C1wOPO",
        "outputId": "222acae1-d3d2-4b9b-9e85-8485b42df603"
      },
      "outputs": [
        {
          "data": {
            "text/plain": [
              "8"
            ]
          },
          "execution_count": 87,
          "metadata": {},
          "output_type": "execute_result"
        }
      ],
      "source": [
        "# Write your code below and press Shift+Enter to execute\n",
        "len(genres_tuple)"
      ]
    },
    {
      "cell_type": "markdown",
      "metadata": {
        "id": "EkHX8fMywYSu"
      },
      "source": [
        "Access the element, with respect to index 3:"
      ]
    },
    {
      "cell_type": "code",
      "execution_count": 88,
      "metadata": {
        "colab": {
          "base_uri": "https://localhost:8080/",
          "height": 0
        },
        "id": "tO8lq-ZBwWf8",
        "outputId": "b31eb6a0-b044-4c98-980b-8bcf9b1f4fe0"
      },
      "outputs": [
        {
          "data": {
            "application/vnd.google.colaboratory.intrinsic+json": {
              "type": "string"
            },
            "text/plain": [
              "'hard rock'"
            ]
          },
          "execution_count": 88,
          "metadata": {},
          "output_type": "execute_result"
        }
      ],
      "source": [
        "# Write your code below and press Shift+Enter to execute\n",
        "genres_tuple[3]"
      ]
    },
    {
      "cell_type": "markdown",
      "metadata": {
        "id": "er9vePpTwb_2"
      },
      "source": [
        "Find the first two elements of the tuple <code>genres_tuple</code>:"
      ]
    },
    {
      "cell_type": "code",
      "execution_count": 89,
      "metadata": {
        "colab": {
          "base_uri": "https://localhost:8080/"
        },
        "id": "6XFa9squwZn_",
        "outputId": "b61e1f3b-37a1-418b-adc6-342b2aa24579"
      },
      "outputs": [
        {
          "data": {
            "text/plain": [
              "('pop', 'rock')"
            ]
          },
          "execution_count": 89,
          "metadata": {},
          "output_type": "execute_result"
        }
      ],
      "source": [
        "# Write your code below and press Shift+Enter to execute\n",
        "genres_tuple[:2]"
      ]
    },
    {
      "cell_type": "markdown",
      "metadata": {
        "id": "Zb91JNVxwgxu"
      },
      "source": [
        "Find the first index of <code>\"disco\"</code>:"
      ]
    },
    {
      "cell_type": "code",
      "execution_count": 90,
      "metadata": {
        "colab": {
          "base_uri": "https://localhost:8080/"
        },
        "id": "dn9xKcqRwdR_",
        "outputId": "9b2fdabd-d1c1-4aa0-97c7-b50a9c219f87"
      },
      "outputs": [
        {
          "data": {
            "text/plain": [
              "7"
            ]
          },
          "execution_count": 90,
          "metadata": {},
          "output_type": "execute_result"
        }
      ],
      "source": [
        "# Write your code below and press Shift+Enter to execute\n",
        "genres_tuple.index(\"disco\")"
      ]
    },
    {
      "cell_type": "markdown",
      "metadata": {
        "id": "HrmsI4FYwoCz"
      },
      "source": [
        "Generate a sorted List from the Tuple <code>C_tuple=(-5, 1, -3)</code>:"
      ]
    },
    {
      "cell_type": "code",
      "execution_count": 91,
      "metadata": {
        "colab": {
          "base_uri": "https://localhost:8080/"
        },
        "id": "p_63rDnQwmH1",
        "outputId": "778fbd0c-1835-48b0-9b22-da546accf959"
      },
      "outputs": [
        {
          "name": "stdout",
          "output_type": "stream",
          "text": [
            "<class 'list'>\n"
          ]
        }
      ],
      "source": [
        "# Write your code below and press Shift+Enter to execute\n",
        "c_tuple=(-5,1,-3)\n",
        "c_list=sorted(c_tuple)\n",
        "c_list\n",
        "print(type(c_list))"
      ]
    },
    {
      "cell_type": "markdown",
      "metadata": {
        "id": "TQv90skcvah2"
      },
      "source": [
        "### Quiz on List"
      ]
    },
    {
      "cell_type": "markdown",
      "metadata": {
        "id": "2hUCzNBzvvcB"
      },
      "source": [
        "Create a list <code>a_list</code>, with the following elements <code>1</code>, <code>hello</code>, <code>\\[1,2,3]</code> and <code>True</code>."
      ]
    },
    {
      "cell_type": "code",
      "execution_count": 92,
      "metadata": {
        "colab": {
          "base_uri": "https://localhost:8080/"
        },
        "id": "umYHEdSevxlX",
        "outputId": "97a1b583-2e22-4cee-c82e-1baa388bb8ed"
      },
      "outputs": [
        {
          "data": {
            "text/plain": [
              "[1, 'hello', [1, 2, 3], True]"
            ]
          },
          "execution_count": 92,
          "metadata": {},
          "output_type": "execute_result"
        }
      ],
      "source": [
        "# Write your code below and press Shift+Enter to execute\n",
        "a_list=[1,\"hello\",[1,2,3],True]\n",
        "a_list"
      ]
    },
    {
      "cell_type": "markdown",
      "metadata": {
        "id": "bMCr1HUgvyxt"
      },
      "source": [
        "Find the value stored at index 1 of <code>a_list</code>.\n"
      ]
    },
    {
      "cell_type": "code",
      "execution_count": 93,
      "metadata": {
        "colab": {
          "base_uri": "https://localhost:8080/"
        },
        "id": "MCKf2kOkv0Lj",
        "outputId": "f543945f-ce0e-4542-ee4f-597c8db4245b"
      },
      "outputs": [
        {
          "data": {
            "text/plain": [
              "1"
            ]
          },
          "execution_count": 93,
          "metadata": {},
          "output_type": "execute_result"
        }
      ],
      "source": [
        "# Write your code below and press Shift+Enter to execute\n",
        "a_list[0]"
      ]
    },
    {
      "cell_type": "markdown",
      "metadata": {
        "id": "bFVTD3ASwAQa"
      },
      "source": [
        "Retrieve the elements stored at index 1, 2 and 3 of <code>a_list</code>."
      ]
    },
    {
      "cell_type": "code",
      "execution_count": 94,
      "metadata": {
        "colab": {
          "base_uri": "https://localhost:8080/"
        },
        "id": "8M1OGgrsv2xT",
        "outputId": "0a98a94e-9622-4340-925c-cedadddbcc93"
      },
      "outputs": [
        {
          "data": {
            "text/plain": [
              "['hello', [1, 2, 3], True]"
            ]
          },
          "execution_count": 94,
          "metadata": {},
          "output_type": "execute_result"
        }
      ],
      "source": [
        "# Write your code below and press Shift+Enter to execute\n",
        "a_list[1:4]"
      ]
    },
    {
      "cell_type": "markdown",
      "metadata": {
        "id": "DPozWhf0wDsP"
      },
      "source": [
        "Concatenate the following lists <code>A = \\[1, 'a']</code> and <code>B = \\[2, 1, 'd']</code>:"
      ]
    },
    {
      "cell_type": "code",
      "execution_count": 95,
      "metadata": {
        "colab": {
          "base_uri": "https://localhost:8080/"
        },
        "id": "CvPxY25nwCBq",
        "outputId": "7f14e9f5-36b9-4c6f-b077-d8e665262807"
      },
      "outputs": [
        {
          "name": "stdout",
          "output_type": "stream",
          "text": [
            "[1, 'a']\n"
          ]
        },
        {
          "data": {
            "text/plain": [
              "[1, 'a', 2, 1, 'd']"
            ]
          },
          "execution_count": 95,
          "metadata": {},
          "output_type": "execute_result"
        }
      ],
      "source": [
        "# Write your code below and press Shift+Enter to execute\n",
        "A=[1,\"a\"]\n",
        "B=[2,1,\"d\"]\n",
        "#A.extend(B)\n",
        "print(A)\n",
        "A+B"
      ]
    },
    {
      "cell_type": "markdown",
      "metadata": {
        "id": "EY8QFg4iwwiH"
      },
      "source": [
        "## Sets"
      ]
    },
    {
      "cell_type": "markdown",
      "metadata": {
        "id": "_aoITttPw53R"
      },
      "source": [
        "Cast a List to a Set "
      ]
    },
    {
      "cell_type": "code",
      "execution_count": 96,
      "metadata": {
        "colab": {
          "base_uri": "https://localhost:8080/"
        },
        "id": "p-Z1YnJcwzAf",
        "outputId": "cda373c7-2124-49d2-824a-ca5ac35cd08b"
      },
      "outputs": [
        {
          "data": {
            "text/plain": [
              "{'A', 'B', 'C'}"
            ]
          },
          "execution_count": 96,
          "metadata": {},
          "output_type": "execute_result"
        }
      ],
      "source": [
        "to_set=['A','B','C','A','B','C']\n",
        "set(to_set)"
      ]
    },
    {
      "cell_type": "markdown",
      "metadata": {
        "id": "UEpMKQpEw8Ii"
      },
      "source": [
        "Add the string 'D' to the set S."
      ]
    },
    {
      "cell_type": "code",
      "execution_count": 97,
      "metadata": {
        "colab": {
          "base_uri": "https://localhost:8080/"
        },
        "id": "j_rwmrdrw64s",
        "outputId": "a6b14bd7-63d6-47a8-e797-74f8a49e6a17"
      },
      "outputs": [
        {
          "data": {
            "text/plain": [
              "{'A', 'B', 'C', 'D'}"
            ]
          },
          "execution_count": 97,
          "metadata": {},
          "output_type": "execute_result"
        }
      ],
      "source": [
        "S={'A','B','C'}\n",
        "S.add(\"D\")\n",
        "S"
      ]
    },
    {
      "cell_type": "markdown",
      "metadata": {
        "id": "Na6TdqBEw-4m"
      },
      "source": [
        "Find the intersection of set A and B."
      ]
    },
    {
      "cell_type": "code",
      "execution_count": 98,
      "metadata": {
        "colab": {
          "base_uri": "https://localhost:8080/"
        },
        "id": "ALNwQ4T7w9PF",
        "outputId": "f447600c-c197-4b74-b028-fc5d626c450c"
      },
      "outputs": [
        {
          "name": "stdout",
          "output_type": "stream",
          "text": [
            "{1, 3}\n",
            "{1, 3}\n"
          ]
        }
      ],
      "source": [
        "A={1,2,3,4,5}\n",
        "B={1,3,9, 12}\n",
        "print(A.intersection(B))\n",
        "print(A&B)"
      ]
    },
    {
      "cell_type": "code",
      "execution_count": 98,
      "metadata": {
        "id": "YBdDRtImw_6v"
      },
      "outputs": [],
      "source": []
    },
    {
      "cell_type": "markdown",
      "metadata": {
        "id": "lJsMX_mVxF0G"
      },
      "source": [
        "### Quiz on Sets"
      ]
    },
    {
      "cell_type": "markdown",
      "metadata": {
        "id": "A-VSE89cxLNn"
      },
      "source": [
        "Convert the list <code>\\['rap','house','electronic music', 'rap']</code> to a set:"
      ]
    },
    {
      "cell_type": "code",
      "execution_count": 99,
      "metadata": {
        "colab": {
          "base_uri": "https://localhost:8080/"
        },
        "id": "9BkTHiNTxHgE",
        "outputId": "a585d754-8f06-46b0-ffed-57d3f2ce0d56"
      },
      "outputs": [
        {
          "data": {
            "text/plain": [
              "{'electronic music', 'house', 'rap'}"
            ]
          },
          "execution_count": 99,
          "metadata": {},
          "output_type": "execute_result"
        }
      ],
      "source": [
        "# Write your code below and press Shift+Enter to execute\n",
        "set([\"rap\",\"house\",\"electronic music\",\"rap\"])"
      ]
    },
    {
      "cell_type": "markdown",
      "metadata": {
        "id": "YczH3tdBxOhC"
      },
      "source": [
        "Consider the list <code>A = \\[1, 2, 2, 1]</code> and set <code>B = set(\\[1, 2, 2, 1])</code>, does <code>sum(A) == sum(B)</code>?"
      ]
    },
    {
      "cell_type": "code",
      "execution_count": 100,
      "metadata": {
        "colab": {
          "base_uri": "https://localhost:8080/"
        },
        "id": "eBpw0AzxxMtm",
        "outputId": "34fa06ef-e49f-4957-9934-e685df288fa5"
      },
      "outputs": [
        {
          "name": "stdout",
          "output_type": "stream",
          "text": [
            "the sum of A is: 6\n",
            "the sum of B is: 3\n"
          ]
        }
      ],
      "source": [
        "# Write your code below and press Shift+Enter to execute\n",
        "A = [1, 2, 2, 1]  \n",
        "B = set([1, 2, 2, 1])\n",
        "print(\"the sum of A is:\", sum(A))\n",
        "print(\"the sum of B is:\", sum(B))"
      ]
    },
    {
      "cell_type": "markdown",
      "metadata": {
        "id": "3mBisC8wxSgl"
      },
      "source": [
        "Create a new set <code>album_set3</code> that is the union of <code>album_set1</code> and <code>album_set2</code>:"
      ]
    },
    {
      "cell_type": "code",
      "execution_count": 101,
      "metadata": {
        "colab": {
          "base_uri": "https://localhost:8080/"
        },
        "id": "kxTPXRKwxP_F",
        "outputId": "19223c67-32ef-4b94-df4d-0a0b67017fb9"
      },
      "outputs": [
        {
          "data": {
            "text/plain": [
              "{'AC/DC', 'Back in Black', 'The Dark Side of the Moon', 'Thriller'}"
            ]
          },
          "execution_count": 101,
          "metadata": {},
          "output_type": "execute_result"
        }
      ],
      "source": [
        "# Write your code below and press Shift+Enter to execute\n",
        "\n",
        "album_set1 = set([\"Thriller\", 'AC/DC', 'Back in Black'])\n",
        "album_set2 = set([ \"AC/DC\", \"Back in Black\", \"The Dark Side of the Moon\"])\n",
        "album_set3=album_set1.union(album_set2)\n",
        "album_set3"
      ]
    },
    {
      "cell_type": "markdown",
      "metadata": {
        "id": "4ZAdBawXxWnl"
      },
      "source": [
        "Find out if <code>album_set1</code> is a subset of <code>album_set3</code>:"
      ]
    },
    {
      "cell_type": "code",
      "execution_count": 102,
      "metadata": {
        "colab": {
          "base_uri": "https://localhost:8080/"
        },
        "id": "g1J6sGKfxUTZ",
        "outputId": "98d029e7-306c-4dd1-d73e-72ff6b3a62b4"
      },
      "outputs": [
        {
          "data": {
            "text/plain": [
              "True"
            ]
          },
          "execution_count": 102,
          "metadata": {},
          "output_type": "execute_result"
        }
      ],
      "source": [
        "# Write your code below and press Shift+Enter to execute\n",
        "album_set1.issubset(album_set3)"
      ]
    },
    {
      "cell_type": "code",
      "execution_count": 102,
      "metadata": {
        "id": "YYhvcYWGxYEz"
      },
      "outputs": [],
      "source": []
    },
    {
      "cell_type": "markdown",
      "metadata": {
        "id": "4z2JxEPCxfRk"
      },
      "source": [
        "## Dictionaries"
      ]
    },
    {
      "cell_type": "code",
      "execution_count": 103,
      "metadata": {
        "id": "8P0qFj11xg06"
      },
      "outputs": [],
      "source": [
        "#Usando el diccionario:\n",
        "D={'a':0,'b':1,'c':2}"
      ]
    },
    {
      "cell_type": "code",
      "execution_count": 104,
      "metadata": {
        "colab": {
          "base_uri": "https://localhost:8080/"
        },
        "id": "Wxmto1sQx_D0",
        "outputId": "489e5b66-e593-4b87-aef0-ff8c6f498d4d"
      },
      "outputs": [
        {
          "data": {
            "text/plain": [
              "0"
            ]
          },
          "execution_count": 104,
          "metadata": {},
          "output_type": "execute_result"
        }
      ],
      "source": [
        "#encontrar el valor de 'a'\n",
        "D[\"a\"]"
      ]
    },
    {
      "cell_type": "code",
      "execution_count": 105,
      "metadata": {
        "colab": {
          "base_uri": "https://localhost:8080/"
        },
        "id": "Vy6s-aHeyERt",
        "outputId": "abc42c9c-d06c-4a12-f97e-6187f5bdae03"
      },
      "outputs": [
        {
          "data": {
            "text/plain": [
              "dict_keys(['a', 'b', 'c'])"
            ]
          },
          "execution_count": 105,
          "metadata": {},
          "output_type": "execute_result"
        }
      ],
      "source": [
        "#find the keys of dict D\n",
        "D.keys()"
      ]
    },
    {
      "cell_type": "markdown",
      "metadata": {
        "id": "QemVy2Rp0pO8"
      },
      "source": [
        "### Quiz on Dictionaries"
      ]
    },
    {
      "cell_type": "code",
      "execution_count": 106,
      "metadata": {
        "colab": {
          "base_uri": "https://localhost:8080/"
        },
        "id": "NtDiZ9Hs2HPO",
        "outputId": "dd770231-0aa4-4dd5-964e-42a031ca5a2d"
      },
      "outputs": [
        {
          "data": {
            "text/plain": [
              "{'The Bodyguard': '1992', 'Saturday Night Fever': '1977'}"
            ]
          },
          "execution_count": 106,
          "metadata": {},
          "output_type": "execute_result"
        }
      ],
      "source": [
        "# Question sample dictionary\n",
        "\n",
        "soundtrack_dic = {\"The Bodyguard\":\"1992\", \"Saturday Night Fever\":\"1977\"}\n",
        "soundtrack_dic "
      ]
    },
    {
      "cell_type": "markdown",
      "metadata": {
        "id": "oEOdyEaZ0sy7"
      },
      "source": [
        "a) In the dictionary <code>soundtrack_dic</code> what are the keys ?"
      ]
    },
    {
      "cell_type": "code",
      "execution_count": 107,
      "metadata": {
        "colab": {
          "base_uri": "https://localhost:8080/"
        },
        "id": "voNxRuAMyLCI",
        "outputId": "b668cad6-8352-42fa-9ae1-5d0563f9917c"
      },
      "outputs": [
        {
          "data": {
            "text/plain": [
              "dict_keys(['The Bodyguard', 'Saturday Night Fever'])"
            ]
          },
          "execution_count": 107,
          "metadata": {},
          "output_type": "execute_result"
        }
      ],
      "source": [
        "# Write your code below and press Shift+Enter to execute\n",
        "soundtrack_dic.keys()"
      ]
    },
    {
      "cell_type": "markdown",
      "metadata": {
        "id": "shnZPhBE2Nte"
      },
      "source": [
        "b) In the dictionary <code>soundtrack_dic</code> what are the values ?"
      ]
    },
    {
      "cell_type": "code",
      "execution_count": 108,
      "metadata": {
        "colab": {
          "base_uri": "https://localhost:8080/"
        },
        "id": "YnOCAYJO2LmU",
        "outputId": "7910f34a-f194-4691-eaae-73814369330c"
      },
      "outputs": [
        {
          "data": {
            "text/plain": [
              "dict_values(['1992', '1977'])"
            ]
          },
          "execution_count": 108,
          "metadata": {},
          "output_type": "execute_result"
        }
      ],
      "source": [
        "# Write your code below and press Shift+Enter to execute\n",
        "soundtrack_dic.values()"
      ]
    },
    {
      "cell_type": "markdown",
      "metadata": {
        "id": "bDEKlu1Q2RDi"
      },
      "source": [
        "The Albums <b>Back in Black</b>, <b>The Bodyguard</b> and <b>Thriller</b> have the following music recording sales in millions 50, 50 and 65 respectively:"
      ]
    },
    {
      "cell_type": "markdown",
      "metadata": {
        "id": "yCi5Ab-l2SzW"
      },
      "source": [
        "a) Create a dictionary <code>album_sales_dict</code> where the keys are the album name and the sales in millions are the values.\n"
      ]
    },
    {
      "cell_type": "code",
      "execution_count": 109,
      "metadata": {
        "colab": {
          "base_uri": "https://localhost:8080/"
        },
        "id": "v26qmkZm2PAD",
        "outputId": "e5ebba14-74d1-4749-88e9-07020e7c4eee"
      },
      "outputs": [
        {
          "data": {
            "text/plain": [
              "{'Back in Black': '50M', 'The Bodyguard': '50M', 'Thriller': '65M'}"
            ]
          },
          "execution_count": 109,
          "metadata": {},
          "output_type": "execute_result"
        }
      ],
      "source": [
        "# Write your code below and press Shift+Enter to execute\n",
        "album_sales_dict={\"Back in Black\":\"50M\",\"The Bodyguard\":\"50M\",\"Thriller\":\"65M\"}\n",
        "album_sales_dict"
      ]
    },
    {
      "cell_type": "markdown",
      "metadata": {
        "id": "FpLbuFXC2XrQ"
      },
      "source": [
        "b) Use the dictionary to find the total sales of <b>Thriller</b>:"
      ]
    },
    {
      "cell_type": "code",
      "execution_count": 110,
      "metadata": {
        "colab": {
          "base_uri": "https://localhost:8080/",
          "height": 0
        },
        "id": "yLuIBUmc2X3K",
        "outputId": "86a2e58b-b500-43a8-ca77-0f3438475207"
      },
      "outputs": [
        {
          "data": {
            "application/vnd.google.colaboratory.intrinsic+json": {
              "type": "string"
            },
            "text/plain": [
              "'65M'"
            ]
          },
          "execution_count": 110,
          "metadata": {},
          "output_type": "execute_result"
        }
      ],
      "source": [
        "# Write your code below and press Shift+Enter to execute\n",
        "album_sales_dict[\"Thriller\"]"
      ]
    },
    {
      "cell_type": "markdown",
      "metadata": {
        "id": "O1naO5Xh2amn"
      },
      "source": [
        "c) Find the names of the albums from the dictionary using the method <code>keys()</code>:"
      ]
    },
    {
      "cell_type": "code",
      "execution_count": 111,
      "metadata": {
        "colab": {
          "base_uri": "https://localhost:8080/"
        },
        "id": "q2RXw_XH2Y5x",
        "outputId": "c57ca2a9-4496-4c78-977e-ae7b3f7a6bc0"
      },
      "outputs": [
        {
          "data": {
            "text/plain": [
              "dict_keys(['Back in Black', 'The Bodyguard', 'Thriller'])"
            ]
          },
          "execution_count": 111,
          "metadata": {},
          "output_type": "execute_result"
        }
      ],
      "source": [
        "# Write your code below and press Shift+Enter to execute\n",
        "album_sales_dict.keys()"
      ]
    },
    {
      "cell_type": "markdown",
      "metadata": {
        "id": "0KHh7EYI2dqC"
      },
      "source": [
        "d) Find the values of the recording sales from the dictionary using the method <code>values</code>:"
      ]
    },
    {
      "cell_type": "code",
      "execution_count": 112,
      "metadata": {
        "colab": {
          "base_uri": "https://localhost:8080/"
        },
        "id": "VC-uMUBw2b8O",
        "outputId": "a7f8870e-979b-470c-9891-34f37db37126"
      },
      "outputs": [
        {
          "data": {
            "text/plain": [
              "dict_values(['50M', '50M', '65M'])"
            ]
          },
          "execution_count": 112,
          "metadata": {},
          "output_type": "execute_result"
        }
      ],
      "source": [
        "# Write your code below and press Shift+Enter to execute\n",
        "album_sales_dict.values()"
      ]
    },
    {
      "cell_type": "code",
      "execution_count": 112,
      "metadata": {
        "id": "vXbHZjG02e7t"
      },
      "outputs": [],
      "source": []
    },
    {
      "cell_type": "markdown",
      "metadata": {
        "id": "iaRKpY5M26FC"
      },
      "source": [
        "#Module 3 - Python programming fundamentals"
      ]
    },
    {
      "cell_type": "markdown",
      "metadata": {
        "id": "150q6yYsJhY-"
      },
      "source": [
        "## Conditions & Branchings"
      ]
    },
    {
      "cell_type": "markdown",
      "metadata": {
        "id": "zFLgJYISJ_LF"
      },
      "source": [
        "Find the value of i that produces a True:"
      ]
    },
    {
      "cell_type": "code",
      "execution_count": 113,
      "metadata": {
        "colab": {
          "base_uri": "https://localhost:8080/"
        },
        "id": "XrFOc1XSJ311",
        "outputId": "a6abc273-fb2b-480e-c2e7-c42e8d802326"
      },
      "outputs": [
        {
          "data": {
            "text/plain": [
              "True"
            ]
          },
          "execution_count": 113,
          "metadata": {},
          "output_type": "execute_result"
        }
      ],
      "source": [
        "i=1\n",
        "i!=0"
      ]
    },
    {
      "cell_type": "markdown",
      "metadata": {
        "id": "27Gu9JTeKCsG"
      },
      "source": [
        "Find the value of <code>x</code> that prints the statement <code>\"this is a\"</code>:"
      ]
    },
    {
      "cell_type": "code",
      "execution_count": 114,
      "metadata": {
        "colab": {
          "base_uri": "https://localhost:8080/"
        },
        "id": "8uiylb-NKBvz",
        "outputId": "1c4dc608-6ae5-4e88-c37b-9aa0861d9c14"
      },
      "outputs": [
        {
          "name": "stdout",
          "output_type": "stream",
          "text": [
            "this is a\n"
          ]
        }
      ],
      "source": [
        "x = \"a\"\n",
        "if(x=='a'):\n",
        "    print(\"this is a\")\n",
        "else:\n",
        "    print(\"this is  not a\")"
      ]
    },
    {
      "cell_type": "markdown",
      "metadata": {
        "id": "WTzbtI4YKHIq"
      },
      "source": [
        "Find the value of <code>y</code> that produces a <code>True</code> statement:"
      ]
    },
    {
      "cell_type": "code",
      "execution_count": 115,
      "metadata": {
        "colab": {
          "base_uri": "https://localhost:8080/"
        },
        "id": "HN2DZnwdKFZK",
        "outputId": "7fff870d-f1b9-4127-a17c-8745d791f3e7"
      },
      "outputs": [
        {
          "data": {
            "text/plain": [
              "True"
            ]
          },
          "execution_count": 115,
          "metadata": {},
          "output_type": "execute_result"
        }
      ],
      "source": [
        "    y=5\n",
        "    x=1\n",
        "    x>0 and y<10"
      ]
    },
    {
      "cell_type": "markdown",
      "metadata": {
        "id": "b9iJjmTeKOUY"
      },
      "source": [
        "Write an if statement to determine if an album had a rating greater than 8. Test it using the rating for the album <b>“Back in Black”</b> that had a rating of 8.5. If the statement is true print \"This album is Amazing!\""
      ]
    },
    {
      "cell_type": "code",
      "execution_count": 116,
      "metadata": {
        "colab": {
          "base_uri": "https://localhost:8080/"
        },
        "id": "LMn0dl0nKIIq",
        "outputId": "349c950b-5fc9-4383-c1cd-58bcf3a51878"
      },
      "outputs": [
        {
          "name": "stdout",
          "output_type": "stream",
          "text": [
            "This album is Amazing!\n"
          ]
        }
      ],
      "source": [
        "# Write your code below and press Shift+Enter to execute\n",
        "rating=8.5\n",
        "if rating>8:\n",
        "    print(\"This album is Amazing!\")"
      ]
    },
    {
      "cell_type": "markdown",
      "metadata": {
        "id": "mhLsb5vsKRFX"
      },
      "source": [
        "Write an if-else statement that performs the following. If the rating is larger then eight print “this album is amazing”. If the rating is less than or equal to 8 print “this album is ok”."
      ]
    },
    {
      "cell_type": "code",
      "execution_count": 117,
      "metadata": {
        "colab": {
          "base_uri": "https://localhost:8080/"
        },
        "id": "nPIufhVLKPef",
        "outputId": "899d016c-47a0-4f69-e3e3-03be69a87d93"
      },
      "outputs": [
        {
          "name": "stdout",
          "output_type": "stream",
          "text": [
            "this album is amazing\n"
          ]
        }
      ],
      "source": [
        "# Write your code below and press Shift+Enter to execute\n",
        "rating=9\n",
        "if rating>8:\n",
        "    print(\"this album is amazing\")\n",
        "else:\n",
        "    print(\"this album is ok\")"
      ]
    },
    {
      "cell_type": "markdown",
      "metadata": {
        "id": "LiIThcLdKUom"
      },
      "source": [
        "Write an if statement to determine if an album came out before 1980 or in the years: 1991 or 1993. If the condition is true print out the year the album came out.\n"
      ]
    },
    {
      "cell_type": "code",
      "execution_count": 118,
      "metadata": {
        "colab": {
          "base_uri": "https://localhost:8080/"
        },
        "id": "3sjacH3aKSTf",
        "outputId": "efb9ed93-0b82-437d-cf7c-c73533870a9d"
      },
      "outputs": [
        {
          "name": "stdout",
          "output_type": "stream",
          "text": [
            "it's an album out of those years\n"
          ]
        }
      ],
      "source": [
        "# Write your code below and press Shift+Enter to execute\n",
        "album_yr=1990\n",
        "if album_yr<1980 or album_yr==1991 or album_yr==1993:\n",
        "    print(\"the year album is:\",album_yr)\n",
        "print(\"it's an album out of those years\")"
      ]
    },
    {
      "cell_type": "code",
      "execution_count": 118,
      "metadata": {
        "id": "NuCIw2XcKWO6"
      },
      "outputs": [],
      "source": []
    },
    {
      "cell_type": "markdown",
      "metadata": {
        "id": "4acMzEkY8pl-"
      },
      "source": [
        "## Loops"
      ]
    },
    {
      "cell_type": "markdown",
      "metadata": {
        "id": "v4yLRIWl8rxS"
      },
      "source": [
        "Use loops to print out the elements in the list <code>A</code>:"
      ]
    },
    {
      "cell_type": "code",
      "execution_count": 119,
      "metadata": {
        "colab": {
          "base_uri": "https://localhost:8080/"
        },
        "id": "5IkpfEQJ8rG0",
        "outputId": "e9607a09-54f3-421d-dbc2-1757342e39ad"
      },
      "outputs": [
        {
          "name": "stdout",
          "output_type": "stream",
          "text": [
            "3\n",
            "4\n",
            "5\n"
          ]
        }
      ],
      "source": [
        "A=[3,4,5]\n",
        "for i in A:\n",
        "    print(i)"
      ]
    },
    {
      "cell_type": "markdown",
      "metadata": {
        "id": "sR_zIe4h8z99"
      },
      "source": [
        "Find the value of <code> x </code> that will print out the sequence <code> 1,2,..,10 </code>:"
      ]
    },
    {
      "cell_type": "code",
      "execution_count": 120,
      "metadata": {
        "colab": {
          "base_uri": "https://localhost:8080/"
        },
        "id": "bL_EjEY38wj1",
        "outputId": "efd80b95-55c3-428b-de9e-efcd97c4cabb"
      },
      "outputs": [
        {
          "name": "stdout",
          "output_type": "stream",
          "text": [
            "1\n",
            "2\n",
            "3\n",
            "4\n",
            "5\n",
            "6\n",
            "7\n",
            "8\n",
            "9\n",
            "10\n"
          ]
        }
      ],
      "source": [
        "x=11\n",
        "y=1\n",
        "while(y != x):\n",
        "    print(y)\n",
        "    y=y+1"
      ]
    },
    {
      "cell_type": "markdown",
      "metadata": {
        "id": "GeMEWOt_-gS5"
      },
      "source": [
        "Write a <code>for</code> loop the prints out all the element between <b>-5</b> and <b>5</b> using the range function.\n"
      ]
    },
    {
      "cell_type": "code",
      "execution_count": 121,
      "metadata": {
        "colab": {
          "base_uri": "https://localhost:8080/"
        },
        "id": "LBbFGHpC81U9",
        "outputId": "86536dc7-b85d-4bc6-d24c-0c586c303b41"
      },
      "outputs": [
        {
          "name": "stdout",
          "output_type": "stream",
          "text": [
            "-4\n",
            "-3\n",
            "-2\n",
            "-1\n",
            "0\n",
            "1\n",
            "2\n",
            "3\n",
            "4\n"
          ]
        }
      ],
      "source": [
        "# Write your code below and press Shift+Enter to execute\n",
        "for i in range(-4, 5):\n",
        "    print(i)"
      ]
    },
    {
      "cell_type": "markdown",
      "metadata": {
        "id": "KYjqMdQP-pyo"
      },
      "source": [
        "Print the elements of the following list: <code>Genres=\\[ 'rock', 'R\\&B', 'Soundtrack', 'R\\&B', 'soul', 'pop']</code>\n",
        "Make sure you follow Python conventions."
      ]
    },
    {
      "cell_type": "code",
      "execution_count": 122,
      "metadata": {
        "colab": {
          "base_uri": "https://localhost:8080/"
        },
        "id": "gry1oH1R-lH8",
        "outputId": "53847bcd-a669-47f8-a4f7-2845f268367c"
      },
      "outputs": [
        {
          "name": "stdout",
          "output_type": "stream",
          "text": [
            "rock\n",
            "R&B\n",
            "Soundtrack\n",
            "R&B\n",
            "soul\n",
            "pop\n"
          ]
        }
      ],
      "source": [
        "# Write your code below and press Shift+Enter to execute\n",
        "Genres = ['rock', 'R&B', 'Soundtrack', 'R&B', 'soul', 'pop']\n",
        "for Genre in Genres:\n",
        "    print(Genre)"
      ]
    },
    {
      "cell_type": "markdown",
      "metadata": {
        "id": "U42zhsBT-waK"
      },
      "source": [
        "Write a for loop that prints out the following list: <code>squares=\\['red', 'yellow', 'green', 'purple', 'blue']</code>\n"
      ]
    },
    {
      "cell_type": "code",
      "execution_count": 123,
      "metadata": {
        "colab": {
          "base_uri": "https://localhost:8080/"
        },
        "id": "7ip2s8Qs-trB",
        "outputId": "08a2fb32-d6ca-4d9a-fc8c-257740637d41"
      },
      "outputs": [
        {
          "name": "stdout",
          "output_type": "stream",
          "text": [
            "red\n",
            "yellow\n",
            "green\n",
            "purple\n",
            "blue\n"
          ]
        }
      ],
      "source": [
        "squares=['red', 'yellow', 'green', 'purple', 'blue']\n",
        "for square in squares:\n",
        "    print(square)"
      ]
    },
    {
      "cell_type": "markdown",
      "metadata": {
        "id": "x_EQghsr-1Z_"
      },
      "source": [
        "Write a while loop to display the values of the Rating of an album playlist stored in the list <code>PlayListRatings</code>. If the score is less than 6, exit the loop. The list <code>PlayListRatings</code> is given by: <code>PlayListRatings = \\[10, 9.5, 10, 8, 7.5, 5, 10, 10]</code>\n"
      ]
    },
    {
      "cell_type": "code",
      "execution_count": 124,
      "metadata": {
        "colab": {
          "base_uri": "https://localhost:8080/"
        },
        "id": "NTn69Q2A-ztZ",
        "outputId": "9bda5c9d-1e6c-4831-db06-08a0d2a4ea08"
      },
      "outputs": [
        {
          "name": "stdout",
          "output_type": "stream",
          "text": [
            "10\n",
            "10\n",
            "9.5\n",
            "10\n",
            "8\n",
            "7.5\n"
          ]
        }
      ],
      "source": [
        "# Write your code below and press Shift+Enter to execute\n",
        "PlayListRatings = [10, 9.5, 10, 8, 7.5, 5, 10, 10]\n",
        "i = 0\n",
        "Rating = PlayListRatings[0]\n",
        "while(i < len(PlayListRatings) and Rating >= 6):\n",
        "    print(Rating)\n",
        "    Rating = PlayListRatings[i]\n",
        "    i = i + 1"
      ]
    },
    {
      "cell_type": "markdown",
      "metadata": {
        "id": "QoseC0DEB3y2"
      },
      "source": [
        "Write a while loop to copy the strings <code>'orange'</code> of the list <code>squares</code> to the list <code>new_squares</code>. Stop and exit the loop if the value on the list is not <code>'orange'</code>:"
      ]
    },
    {
      "cell_type": "code",
      "execution_count": 125,
      "metadata": {
        "colab": {
          "base_uri": "https://localhost:8080/"
        },
        "id": "8aIAG0u3_Kz7",
        "outputId": "5b6f2a05-dcf4-4644-988c-b9dd112f5a2f"
      },
      "outputs": [
        {
          "name": "stdout",
          "output_type": "stream",
          "text": [
            "['orange', 'orange']\n"
          ]
        }
      ],
      "source": [
        "# Write your code below and press Shift+Enter to execute\n",
        "\n",
        "squares = ['orange', 'orange', 'purple', 'blue ', 'orange']\n",
        "new_squares = []\n",
        "i = 0\n",
        "while(i < len(squares) and squares[i] == 'orange'):\n",
        "    new_squares.append(squares[i])\n",
        "    i = i + 1\n",
        "print (new_squares)"
      ]
    },
    {
      "cell_type": "markdown",
      "metadata": {
        "id": "0DU6uKO8JdsN"
      },
      "source": [
        "## Functions"
      ]
    },
    {
      "cell_type": "markdown",
      "metadata": {
        "id": "Q-_WZCu5JnlD"
      },
      "source": [
        "Complete the function <code> f </code> so that it returns the product of <code>a</code> and <code>b</code>. Use the next cell to test the function."
      ]
    },
    {
      "cell_type": "code",
      "execution_count": 126,
      "metadata": {
        "id": "A2SbZM9wJzqS"
      },
      "outputs": [],
      "source": [
        "def f(a,b):\n",
        "    \n",
        "    return a*b"
      ]
    },
    {
      "cell_type": "markdown",
      "metadata": {
        "id": "6QAxWABGJ_nu"
      },
      "source": [
        "Test the function using the next cell:"
      ]
    },
    {
      "cell_type": "code",
      "execution_count": 127,
      "metadata": {
        "colab": {
          "base_uri": "https://localhost:8080/"
        },
        "id": "CH9VPR4yJm8Z",
        "outputId": "1672a63e-724b-4ac6-8b20-e770075eb382"
      },
      "outputs": [
        {
          "name": "stdout",
          "output_type": "stream",
          "text": [
            "Correct.\n"
          ]
        }
      ],
      "source": [
        "a=4\n",
        "b=2\n",
        "\n",
        "if a*b==f(a,b):   \n",
        "    print(\"Correct.\")   \n",
        "else:    \n",
        "    print(\"Incorrect.\")"
      ]
    },
    {
      "cell_type": "markdown",
      "metadata": {
        "id": "qA7XTbbwKIOK"
      },
      "source": [
        "Complete the function <code>g</code> such that the input <code>c</code> is a list of integers and the output is the sum of all the elements in the list."
      ]
    },
    {
      "cell_type": "code",
      "execution_count": 128,
      "metadata": {
        "id": "2Ex2AGxaKDNd"
      },
      "outputs": [],
      "source": [
        "def g(c):\n",
        "\n",
        "    return sum(c)"
      ]
    },
    {
      "cell_type": "markdown",
      "metadata": {
        "id": "k_cj3SPqKNh4"
      },
      "source": [
        "Test the function using the next cell:\n"
      ]
    },
    {
      "cell_type": "code",
      "execution_count": 129,
      "metadata": {
        "colab": {
          "base_uri": "https://localhost:8080/"
        },
        "id": "qh0VxJYSKKmn",
        "outputId": "5857adcb-99d5-420b-cf1b-194212c95c26"
      },
      "outputs": [
        {
          "name": "stdout",
          "output_type": "stream",
          "text": [
            "Correct.\n"
          ]
        }
      ],
      "source": [
        "c=[1,2,3,4,5]\n",
        "\n",
        "if sum(c)==g(c):   \n",
        "    print(\"Correct.\")   \n",
        "else:    \n",
        "    print(\"Incorrect.\")"
      ]
    },
    {
      "cell_type": "markdown",
      "metadata": {
        "id": "zq8tWiHLNSTI"
      },
      "source": [
        "Come up with a function that divides the first input by the second input:"
      ]
    },
    {
      "cell_type": "code",
      "execution_count": 130,
      "metadata": {
        "id": "rl4X43D-KQyS"
      },
      "outputs": [],
      "source": [
        "# Write your code below and press Shift+Enter to execute\n",
        "def div(a, b):\n",
        "    return(a/b)"
      ]
    },
    {
      "cell_type": "markdown",
      "metadata": {
        "id": "9vAXOkXlNe87"
      },
      "source": [
        "Use the function <code>con</code> for the following question."
      ]
    },
    {
      "cell_type": "code",
      "execution_count": 131,
      "metadata": {
        "id": "BCnIdWKrNdJu"
      },
      "outputs": [],
      "source": [
        "# Use the con function for the following question\n",
        "\n",
        "def con(a, b):\n",
        "    return(a + b)"
      ]
    },
    {
      "cell_type": "markdown",
      "metadata": {
        "id": "l-XkpMLZNick"
      },
      "source": [
        "Can the <code>con</code> function we defined before be used to add two integers or strings?"
      ]
    },
    {
      "cell_type": "code",
      "execution_count": 132,
      "metadata": {
        "colab": {
          "base_uri": "https://localhost:8080/"
        },
        "id": "FPqHZcaXNgfQ",
        "outputId": "20a9238a-4e6d-4328-de6d-6992dfc0c1b3"
      },
      "outputs": [
        {
          "data": {
            "text/plain": [
              "4"
            ]
          },
          "execution_count": 132,
          "metadata": {},
          "output_type": "execute_result"
        }
      ],
      "source": [
        "# Write your code below and press Shift+Enter to execute\n",
        "con(2,2)"
      ]
    },
    {
      "cell_type": "code",
      "execution_count": 132,
      "metadata": {
        "id": "etJuA9nZNj6U"
      },
      "outputs": [],
      "source": []
    },
    {
      "cell_type": "markdown",
      "metadata": {
        "id": "0GE_DAZPN-rX"
      },
      "source": [
        "## Object & Classes"
      ]
    },
    {
      "cell_type": "markdown",
      "metadata": {
        "id": "mY1LmSKDOBph"
      },
      "source": []
    },
    {
      "cell_type": "code",
      "execution_count": 136,
      "metadata": {
        "id": "GQt84qKiROg_"
      },
      "outputs": [],
      "source": [
        "class Car(object):\n",
        "    def __init__(self,make,model,color):\n",
        "        self.make=make;\n",
        "        self.model=model;\n",
        "        self.color=color;\n",
        "        self.owner_number=0 \n",
        "    def car_info(self):\n",
        "        print(\"make: \",self.make)\n",
        "        print(\"model:\", self.model)\n",
        "        print(\"color:\",self.color)\n",
        "        print(\"number of owners:\",self.owner_number)\n",
        "    def sell(self):\n",
        "        self.owner_number=self.owner_number+1"
      ]
    },
    {
      "cell_type": "markdown",
      "metadata": {
        "id": "-EPL_5c2SCvX"
      },
      "source": [
        "Create a <code> Car </code> object \"my_car\" with the given data attributes:"
      ]
    },
    {
      "cell_type": "code",
      "execution_count": 140,
      "metadata": {
        "id": "pp7R_y58OAek"
      },
      "outputs": [],
      "source": [
        "make=\"BMW\"\n",
        "model=\"M3\"\n",
        "color=\"red\"\n",
        "my_car = Car(make,model,color)"
      ]
    },
    {
      "cell_type": "markdown",
      "metadata": {
        "id": "6vZcMADNR_tr"
      },
      "source": [
        "Use the method `car_info()` to print out the data attributes."
      ]
    },
    {
      "cell_type": "code",
      "execution_count": 141,
      "metadata": {
        "colab": {
          "base_uri": "https://localhost:8080/"
        },
        "id": "zQNFtPpYRWLp",
        "outputId": "b34cc57a-0317-4162-8a6e-cd015ff15e01"
      },
      "outputs": [
        {
          "name": "stdout",
          "output_type": "stream",
          "text": [
            "make:  BMW\n",
            "model: M3\n",
            "color: red\n",
            "number of owners: 0\n"
          ]
        }
      ],
      "source": [
        "my_car.car_info()"
      ]
    },
    {
      "cell_type": "markdown",
      "metadata": {
        "id": "yG30NXQDR8mb"
      },
      "source": [
        "Call the method <code> sell() </code> in the loop, then call the method <code> car_info()</code> again"
      ]
    },
    {
      "cell_type": "code",
      "execution_count": 142,
      "metadata": {
        "colab": {
          "base_uri": "https://localhost:8080/"
        },
        "id": "TFCXn-suRoDn",
        "outputId": "4e3946d8-9ecf-4366-909b-60d4b19e4283"
      },
      "outputs": [
        {
          "name": "stdout",
          "output_type": "stream",
          "text": [
            "make:  BMW\n",
            "model: M3\n",
            "color: red\n",
            "number of owners: 5\n"
          ]
        }
      ],
      "source": [
        "for i in range(5):\n",
        "    my_car.sell()\n",
        "\n",
        "my_car.car_info()"
      ]
    },
    {
      "cell_type": "code",
      "execution_count": 144,
      "metadata": {
        "colab": {
          "base_uri": "https://localhost:8080/"
        },
        "id": "-VSybt6oS4Tc",
        "outputId": "a2fc6676-d6aa-4dd5-a17e-31eec5855c54"
      },
      "outputs": [
        {
          "name": "stdout",
          "output_type": "stream",
          "text": [
            "Constructor: \n",
            "Test Passed\n",
            "freqAll: \n",
            "Test Passed\n",
            "freqOf: \n",
            "Test Passed\n"
          ]
        }
      ],
      "source": [
        "import sys\n",
        "\n",
        "sampleMap = {'eirmod': 1,'sed': 1, 'amet': 2, 'diam': 5, 'consetetur': 1, 'labore': 1, 'tempor': 1, 'dolor': 1, 'magna': 2, 'et': 3, 'nonumy': 1, 'ipsum': 1, 'lorem': 2}\n",
        "\n",
        "def testMsg(passed):\n",
        "    if passed:\n",
        "       return 'Test Passed'\n",
        "    else :\n",
        "       return 'Test Failed'\n",
        "\n",
        "print(\"Constructor: \")\n",
        "try:\n",
        "    samplePassage = analysedText(\"Lorem ipsum dolor! diam amet, consetetur Lorem magna. sed diam nonumy eirmod tempor. diam et labore? et diam magna. et diam amet.\")\n",
        "    print(testMsg(samplePassage.fmtText == \"lorem ipsum dolor diam amet consetetur lorem magna sed diam nonumy eirmod tempor diam et labore et diam magna et diam amet\"))\n",
        "except:\n",
        "    print(\"Error detected. Recheck your function \" )\n",
        "print(\"freqAll: \")\n",
        "try:\n",
        "    wordMap = samplePassage.freqAll()\n",
        "    print(testMsg(wordMap==sampleMap))\n",
        "except:\n",
        "    print(\"Error detected. Recheck your function \" )\n",
        "print(\"freqOf: \")\n",
        "try:\n",
        "    passed = True\n",
        "    for word in sampleMap:\n",
        "        if samplePassage.freqOf(word) != sampleMap[word]:\n",
        "            passed = False\n",
        "            break\n",
        "    print(testMsg(passed))\n",
        "    \n",
        "except:\n",
        "    print(\"Error detected. Recheck your function  \" )"
      ]
    },
    {
      "cell_type": "code",
      "execution_count": 145,
      "metadata": {
        "id": "cwZnB1-LR6Do"
      },
      "outputs": [],
      "source": [
        "class analysedText(object):\n",
        "    \n",
        "    def __init__ (self, text):\n",
        "        # remove punctuation\n",
        "        formattedText = text.replace('.','').replace('!','').replace('?','').replace(',','')\n",
        "        \n",
        "        # make text lowercase\n",
        "        formattedText = formattedText.lower()\n",
        "        \n",
        "        self.fmtText = formattedText\n",
        "        \n",
        "    def freqAll(self):        \n",
        "        # split text into words\n",
        "        wordList = self.fmtText.split(' ')\n",
        "        \n",
        "        # Create dictionary\n",
        "        freqMap = {}\n",
        "        for word in set(wordList): # use set to remove duplicates in list\n",
        "            freqMap[word] = wordList.count(word)\n",
        "        \n",
        "        return freqMap\n",
        "    \n",
        "    def freqOf(self,word):\n",
        "        # get frequency map\n",
        "        freqDict = self.freqAll()\n",
        "        \n",
        "        if word in freqDict:\n",
        "            return freqDict[word]\n",
        "        else:\n",
        "            return 0"
      ]
    },
    {
      "cell_type": "code",
      "execution_count": null,
      "metadata": {
        "id": "qQoJgDpESr4p"
      },
      "outputs": [],
      "source": [
        "# ***Module 4 - Files with Python ***"
      ]
    },
    {
      "cell_type": "markdown",
      "metadata": {},
      "source": [
        "<h2 id=\"write\">Writing Files</h2>\n"
      ]
    },
    {
      "cell_type": "markdown",
      "metadata": {},
      "source": [
        "We can open a file object using the method <code>write()</code> to save the text file to a list. To write to a file, the mode argument must be set to **w**. Let’s write a file **Example2.txt** with the line: **“This is line A”**\n"
      ]
    },
    {
      "cell_type": "code",
      "execution_count": null,
      "metadata": {},
      "outputs": [],
      "source": [
        "# Write line to file\n",
        "exmp2 = 'Example2.txt'\n",
        "with open(exmp2, 'w') as writefile:\n",
        "    writefile.write(\"This is line A\")"
      ]
    },
    {
      "cell_type": "markdown",
      "metadata": {},
      "source": [
        "We can read the file to see if it worked:\n"
      ]
    },
    {
      "cell_type": "code",
      "execution_count": null,
      "metadata": {},
      "outputs": [],
      "source": [
        "# Read file\n",
        "\n",
        "with open(exmp2, 'r') as testwritefile:\n",
        "    print(testwritefile.read())"
      ]
    },
    {
      "cell_type": "markdown",
      "metadata": {},
      "source": [
        "We can write multiple lines:\n"
      ]
    },
    {
      "cell_type": "code",
      "execution_count": null,
      "metadata": {},
      "outputs": [],
      "source": [
        "# Write lines to file\n",
        "\n",
        "with open(exmp2, 'w') as writefile:\n",
        "    writefile.write(\"This is line A\\n\")\n",
        "    writefile.write(\"This is line B\\n\")"
      ]
    },
    {
      "cell_type": "markdown",
      "metadata": {},
      "source": [
        "You can check the file to see if your results are correct\n"
      ]
    },
    {
      "cell_type": "code",
      "execution_count": null,
      "metadata": {},
      "outputs": [],
      "source": [
        "# Check whether write to file\n",
        "\n",
        "with open(exmp2, 'r') as testwritefile:\n",
        "    print(testwritefile.read())"
      ]
    },
    {
      "cell_type": "markdown",
      "metadata": {},
      "source": [
        "We write a list to a **.txt** file  as follows:\n"
      ]
    },
    {
      "cell_type": "code",
      "execution_count": null,
      "metadata": {},
      "outputs": [],
      "source": [
        "# Sample list of text\n",
        "\n",
        "Lines = [\"This is line A\\n\", \"This is line B\\n\", \"This is line C\\n\"]\n",
        "Lines"
      ]
    },
    {
      "cell_type": "code",
      "execution_count": null,
      "metadata": {},
      "outputs": [],
      "source": [
        "# Write the strings in the list to text file\n",
        "\n",
        "with open('Example2.txt', 'w') as writefile:\n",
        "    for line in Lines:\n",
        "        print(line)\n",
        "        writefile.write(line)"
      ]
    },
    {
      "cell_type": "markdown",
      "metadata": {},
      "source": [
        "We can verify the file is written by reading it and printing out the values:\n"
      ]
    },
    {
      "cell_type": "code",
      "execution_count": null,
      "metadata": {},
      "outputs": [],
      "source": [
        "# Verify if writing to file is successfully executed\n",
        "\n",
        "with open('Example2.txt', 'r') as testwritefile:\n",
        "    print(testwritefile.read())"
      ]
    },
    {
      "cell_type": "markdown",
      "metadata": {},
      "source": [
        "However, note that setting the mode to **w** overwrites all the existing data in the file.\n"
      ]
    },
    {
      "cell_type": "code",
      "execution_count": null,
      "metadata": {},
      "outputs": [],
      "source": [
        "with open('Example2.txt', 'w') as writefile:\n",
        "    writefile.write(\"Overwrite\\n\")\n",
        "with open('Example2.txt', 'r') as testwritefile:\n",
        "    print(testwritefile.read())"
      ]
    },
    {
      "cell_type": "markdown",
      "metadata": {},
      "source": [
        "<hr>\n",
        "<h2 id=\"Append\">Appending Files</h2>\n"
      ]
    },
    {
      "cell_type": "markdown",
      "metadata": {},
      "source": [
        "We can write to files without losing any of the existing data as follows by setting the mode argument to append: **a**.  you can append a new line as follows:\n"
      ]
    },
    {
      "cell_type": "code",
      "execution_count": null,
      "metadata": {},
      "outputs": [],
      "source": [
        "# Write a new line to text file\n",
        "\n",
        "with open('Example2.txt', 'a') as testwritefile:\n",
        "    testwritefile.write(\"This is line C\\n\")\n",
        "    testwritefile.write(\"This is line D\\n\")\n",
        "    testwritefile.write(\"This is line E\\n\")"
      ]
    },
    {
      "cell_type": "markdown",
      "metadata": {},
      "source": [
        "You can verify the file has changed by running the following cell:\n"
      ]
    },
    {
      "cell_type": "code",
      "execution_count": null,
      "metadata": {},
      "outputs": [],
      "source": [
        "# Verify if the new line is in the text file\n",
        "\n",
        "with open('Example2.txt', 'r') as testwritefile:\n",
        "    print(testwritefile.read())"
      ]
    },
    {
      "cell_type": "markdown",
      "metadata": {},
      "source": [
        "<hr>\n",
        "<h2 id=\"add\">Additional modes</h2> \n"
      ]
    },
    {
      "cell_type": "markdown",
      "metadata": {},
      "source": [
        "It's fairly ineffecient to open the file in **a** or **w** and then reopening it in **r** to read any lines. Luckily we can access the file in the following modes:\n",
        "\n",
        "*   **r+** : Reading and writing. Cannot truncate the file.\n",
        "*   **w+** : Writing and reading. Truncates the file.\n",
        "*   **a+** : Appending and Reading. Creates a new file, if none exists.\n",
        "\n",
        "You dont have to dwell on the specifics of each mode for this lab.\n"
      ]
    },
    {
      "cell_type": "markdown",
      "metadata": {},
      "source": [
        "Let's try out the **a+** mode:\n"
      ]
    },
    {
      "cell_type": "code",
      "execution_count": null,
      "metadata": {},
      "outputs": [],
      "source": [
        "with open('Example2.txt', 'a+') as testwritefile:\n",
        "    testwritefile.write(\"This is line E\\n\")\n",
        "    print(testwritefile.read())"
      ]
    },
    {
      "cell_type": "markdown",
      "metadata": {},
      "source": [
        "There were no errors but <code>read()</code> also did not output anything. This is because of our location in the file.\n"
      ]
    },
    {
      "cell_type": "markdown",
      "metadata": {},
      "source": [
        "Most of the file methods we've looked at work in a certain location in the file. <code>.write() </code> writes at a certain location in the file. <code>.read()</code> reads at a certain location in the file and so on. You can think of this as moving your pointer around in the notepad to make changes at specific location.\n"
      ]
    },
    {
      "cell_type": "markdown",
      "metadata": {},
      "source": [
        "Opening the file in **w** is akin to opening the .txt file, moving your cursor to the beginning of the text file, writing new text and deleting everything that follows.\n",
        "Whereas opening the file in **a** is similiar to opening the .txt file, moving your cursor to the very end and then adding the new pieces of text. <br>\n",
        "It is often very useful to know where the 'cursor' is in a file and be able to control it. The following methods allow us to do precisely this -\n",
        "\n",
        "*   <code>.tell()</code> - returns the current position in bytes\n",
        "*   <code>.seek(offset,from)</code> - changes the position by 'offset' bytes with respect to 'from'. From can take the value of 0,1,2 corresponding to beginning, relative to current position and end\n"
      ]
    },
    {
      "cell_type": "markdown",
      "metadata": {},
      "source": [
        "Now lets revisit **a+**\n"
      ]
    },
    {
      "cell_type": "code",
      "execution_count": null,
      "metadata": {},
      "outputs": [],
      "source": [
        "with open('Example2.txt', 'a+') as testwritefile:\n",
        "    print(\"Initial Location: {}\".format(testwritefile.tell()))\n",
        "    \n",
        "    data = testwritefile.read()\n",
        "    if (not data):  #empty strings return false in python\n",
        "            print('Read nothing') \n",
        "    else: \n",
        "            print(testwritefile.read())\n",
        "            \n",
        "    testwritefile.seek(0,0) # move 0 bytes from beginning.\n",
        "    \n",
        "    print(\"\\nNew Location : {}\".format(testwritefile.tell()))\n",
        "    data = testwritefile.read()\n",
        "    if (not data): \n",
        "            print('Read nothing') \n",
        "    else: \n",
        "            print(data)\n",
        "    \n",
        "    print(\"Location after read: {}\".format(testwritefile.tell()) )"
      ]
    },
    {
      "cell_type": "markdown",
      "metadata": {},
      "source": [
        "Finally, a note on the difference between **w+** and **r+**. Both of these modes allow access to read and write methods, however, opening a file in **w+** overwrites it and deletes all pre-existing data. <br>\n",
        "To work with a file on existing data, use **r+** and **a+**. While using **r+**, it can be useful to add a <code>.truncate()</code> method at the end of your data. This will reduce the file to your data and delete everything that follows. <br>\n",
        "In the following code block, Run the code as it is first and then run it with the <code>.truncate()</code>.\n"
      ]
    },
    {
      "cell_type": "code",
      "execution_count": null,
      "metadata": {},
      "outputs": [],
      "source": [
        "with open('Example2.txt', 'r+') as testwritefile:\n",
        "    data = testwritefile.readlines()\n",
        "    testwritefile.seek(0,0) #write at beginning of file\n",
        "   \n",
        "    testwritefile.write(\"Line 1\" + \"\\n\")\n",
        "    testwritefile.write(\"Line 2\" + \"\\n\")\n",
        "    testwritefile.write(\"Line 3\" + \"\\n\")\n",
        "    testwritefile.write(\"finished\\n\")\n",
        "    #Uncomment the line below\n",
        "    #testwritefile.truncate()\n",
        "    testwritefile.seek(0,0)\n",
        "    print(testwritefile.read())\n",
        "    "
      ]
    },
    {
      "cell_type": "markdown",
      "metadata": {},
      "source": [
        "<hr>\n"
      ]
    },
    {
      "cell_type": "markdown",
      "metadata": {},
      "source": [
        "<h2 id=\"copy\">Copy a File</h2> \n"
      ]
    },
    {
      "cell_type": "markdown",
      "metadata": {},
      "source": [
        "Let's copy the file **Example2.txt** to the file **Example3.txt**:\n"
      ]
    },
    {
      "cell_type": "code",
      "execution_count": null,
      "metadata": {},
      "outputs": [],
      "source": [
        "# Copy file to another\n",
        "\n",
        "with open('Example2.txt','r') as readfile:\n",
        "    with open('Example3.txt','w') as writefile:\n",
        "          for line in readfile:\n",
        "                writefile.write(line)"
      ]
    },
    {
      "cell_type": "markdown",
      "metadata": {},
      "source": [
        "We can read the file to see if everything works:\n"
      ]
    },
    {
      "cell_type": "code",
      "execution_count": null,
      "metadata": {},
      "outputs": [],
      "source": [
        "# Verify if the copy is successfully executed\n",
        "\n",
        "with open('Example3.txt','r') as testwritefile:\n",
        "    print(testwritefile.read())"
      ]
    },
    {
      "cell_type": "markdown",
      "metadata": {},
      "source": [
        "After reading files, we can also write data into files and save them in different file formats like **.txt, .csv, .xls (for excel files) etc**. You will come across these in further examples\n"
      ]
    },
    {
      "cell_type": "markdown",
      "metadata": {},
      "source": [
        "**NOTE:** If you wish to open and view the `example3.txt` file, download this lab [here](https://cf-courses-data.s3.us.cloud-object-storage.appdomain.cloud/IBMDeveloperSkillsNetwork-PY0101EN-SkillsNetwork/labs/Module%204/PY0101EN-4-2-WriteFile.ipynb) and run it locally on your machine. Then go to the working directory to ensure the `example3.txt` file exists and contains the summary data that we wrote.\n"
      ]
    },
    {
      "cell_type": "markdown",
      "metadata": {},
      "source": [
        "<h2 id=\"download\">Download Data</h2>\n"
      ]
    },
    {
      "cell_type": "code",
      "execution_count": null,
      "metadata": {
        "trusted": true
      },
      "outputs": [],
      "source": [
        "## Uncomment these if working locally, else let the following code cell run.\n",
        "\n",
        "# import urllib.request\n",
        "# url = 'https://cf-courses-data.s3.us.cloud-object-storage.appdomain.cloud/IBMDeveloperSkillsNetwork-PY0101EN-SkillsNetwork/labs/Module%204/data/example1.txt'\n",
        "# filename = 'Example1.txt'\n",
        "# urllib.request.urlretrieve(url, filename)\n",
        "\n",
        "## Download Example file\n",
        "# !wget -O /resources/data/Example1.txt https://cf-courses-data.s3.us.cloud-object-storage.appdomain.cloud/IBMDeveloperSkillsNetwork-PY0101EN-SkillsNetwork/labs/Module%204/data/example1.txt"
      ]
    },
    {
      "cell_type": "code",
      "execution_count": null,
      "metadata": {
        "trusted": true
      },
      "outputs": [],
      "source": [
        "from pyodide.http import pyfetch\n",
        "import pandas as pd\n",
        "\n",
        "filename = \"https://cf-courses-data.s3.us.cloud-object-storage.appdomain.cloud/IBMDeveloperSkillsNetwork-PY0101EN-SkillsNetwork/labs/Module%204/data/example1.txt\"\n",
        "\n",
        "async def download(url, filename):\n",
        "    response = await pyfetch(url)\n",
        "    if response.status == 200:\n",
        "        with open(filename, \"wb\") as f:\n",
        "            f.write(await response.bytes())\n",
        "\n",
        "\n",
        "await download(filename, \"Example1.txt\")"
      ]
    },
    {
      "cell_type": "markdown",
      "metadata": {},
      "source": [
        "<hr>\n"
      ]
    },
    {
      "cell_type": "markdown",
      "metadata": {},
      "source": [
        "<h2 id=\"read\">Reading Text Files</h2>\n"
      ]
    },
    {
      "cell_type": "markdown",
      "metadata": {},
      "source": [
        "One way to read or write a file in Python is to use the built-in <code>open</code> function. The <code>open</code> function provides a **File object** that contains the methods and attributes you need in order to read, save, and manipulate the file. In this notebook, we will only cover **.txt** files. The first parameter you need is the file path and the file name. An example is shown as follow:\n"
      ]
    },
    {
      "cell_type": "markdown",
      "metadata": {},
      "source": [
        "<img src=\"https://cf-courses-data.s3.us.cloud-object-storage.appdomain.cloud/IBMDeveloperSkillsNetwork-PY0101EN-SkillsNetwork/labs/Module%204/images/ReadOpen.png\" width=\"500\" />\n"
      ]
    },
    {
      "cell_type": "markdown",
      "metadata": {},
      "source": [
        "The mode argument is optional and the default value is **r**. In this notebook we only cover two modes:\n",
        "\n",
        "<ul>\n",
        "    <li>**r**: Read mode for reading files </li>\n",
        "    <li>**w**: Write mode for writing files</li>\n",
        "</ul>\n"
      ]
    },
    {
      "cell_type": "markdown",
      "metadata": {},
      "source": [
        "For the next example, we will use the text file **Example1.txt**. The file is shown as follows:\n"
      ]
    },
    {
      "cell_type": "markdown",
      "metadata": {},
      "source": [
        "<img src=\"https://cf-courses-data.s3.us.cloud-object-storage.appdomain.cloud/IBMDeveloperSkillsNetwork-PY0101EN-SkillsNetwork/labs/Module%204/images/ReadFile.png\" width=\"100\" />\n"
      ]
    },
    {
      "cell_type": "markdown",
      "metadata": {},
      "source": [
        "We read the file:\n"
      ]
    },
    {
      "cell_type": "code",
      "execution_count": null,
      "metadata": {
        "trusted": true
      },
      "outputs": [],
      "source": [
        "# Read the Example1.txt\n",
        "example1 = \"Example1.txt\"\n",
        "file1 = open(example1, \"r\")\n"
      ]
    },
    {
      "cell_type": "markdown",
      "metadata": {},
      "source": [
        "We can view the attributes of the file.\n"
      ]
    },
    {
      "cell_type": "markdown",
      "metadata": {},
      "source": [
        "The name of the file:\n"
      ]
    },
    {
      "cell_type": "code",
      "execution_count": null,
      "metadata": {
        "trusted": true
      },
      "outputs": [],
      "source": [
        "# Print the path of file\n",
        "\n",
        "file1.name"
      ]
    },
    {
      "cell_type": "markdown",
      "metadata": {},
      "source": [
        "The mode the file object is in:\n"
      ]
    },
    {
      "cell_type": "code",
      "execution_count": null,
      "metadata": {
        "trusted": true
      },
      "outputs": [],
      "source": [
        "# Print the mode of file, either 'r' or 'w'\n",
        "\n",
        "file1.mode"
      ]
    },
    {
      "cell_type": "markdown",
      "metadata": {},
      "source": [
        "We can read the file and assign it to a variable :\n"
      ]
    },
    {
      "cell_type": "code",
      "execution_count": null,
      "metadata": {
        "trusted": true
      },
      "outputs": [],
      "source": [
        "# Read the file\n",
        "\n",
        "FileContent = file1.read()\n",
        "FileContent"
      ]
    },
    {
      "cell_type": "markdown",
      "metadata": {},
      "source": [
        "The **/n** means that there is a new line.\n"
      ]
    },
    {
      "cell_type": "markdown",
      "metadata": {},
      "source": [
        "We can print the file:\n"
      ]
    },
    {
      "cell_type": "code",
      "execution_count": null,
      "metadata": {
        "trusted": true
      },
      "outputs": [],
      "source": [
        "# Print the file with '\\n' as a new line\n",
        "\n",
        "print(FileContent)"
      ]
    },
    {
      "cell_type": "markdown",
      "metadata": {},
      "source": [
        "The file is of type string:\n"
      ]
    },
    {
      "cell_type": "code",
      "execution_count": null,
      "metadata": {
        "trusted": true
      },
      "outputs": [],
      "source": [
        "# Type of file content\n",
        "\n",
        "type(FileContent)"
      ]
    },
    {
      "cell_type": "markdown",
      "metadata": {},
      "source": [
        "It is very important that the file is closed in the end. This frees up resources and ensures consistency across different python versions.\n"
      ]
    },
    {
      "cell_type": "code",
      "execution_count": null,
      "metadata": {
        "trusted": true
      },
      "outputs": [],
      "source": [
        "# Close file after finish\n",
        "\n",
        "file1.close()"
      ]
    },
    {
      "cell_type": "markdown",
      "metadata": {},
      "source": [
        "<hr>\n"
      ]
    },
    {
      "cell_type": "markdown",
      "metadata": {},
      "source": [
        "<h2 id=\"better\">A Better Way to Open a File</h2>\n"
      ]
    },
    {
      "cell_type": "markdown",
      "metadata": {},
      "source": [
        "Using the <code>with</code> statement is better practice, it automatically closes the file even if the code encounters an exception. The code will run everything in the indent block then close the file object.\n"
      ]
    },
    {
      "cell_type": "code",
      "execution_count": null,
      "metadata": {
        "trusted": true
      },
      "outputs": [],
      "source": [
        "# Open file using with\n",
        "\n",
        "with open(example1, \"r\") as file1:\n",
        "    FileContent = file1.read()\n",
        "    print(FileContent)"
      ]
    },
    {
      "cell_type": "markdown",
      "metadata": {},
      "source": [
        "The file object is closed, you can verify it by running the following cell:\n"
      ]
    },
    {
      "cell_type": "code",
      "execution_count": null,
      "metadata": {
        "trusted": true
      },
      "outputs": [],
      "source": [
        "# Verify if the file is closed\n",
        "\n",
        "file1.closed"
      ]
    },
    {
      "cell_type": "markdown",
      "metadata": {},
      "source": [
        "We can see the info in the file:\n"
      ]
    },
    {
      "cell_type": "code",
      "execution_count": null,
      "metadata": {
        "trusted": true
      },
      "outputs": [],
      "source": [
        "# See the content of file\n",
        "\n",
        "print(FileContent)"
      ]
    },
    {
      "cell_type": "markdown",
      "metadata": {},
      "source": [
        "The syntax is a little confusing as the file object is after the <code>as</code> statement. We also don’t explicitly close the file. Therefore we summarize the steps in a figure:\n"
      ]
    },
    {
      "cell_type": "markdown",
      "metadata": {},
      "source": [
        "<img src=\"https://cf-courses-data.s3.us.cloud-object-storage.appdomain.cloud/IBMDeveloperSkillsNetwork-PY0101EN-SkillsNetwork/labs/Module%204/images/ReadWith.png\" width=\"500\" />\n"
      ]
    },
    {
      "cell_type": "markdown",
      "metadata": {},
      "source": [
        "We don’t have to read the entire file, for example, we can read the first 4 characters by entering three as a parameter to the method **.read()**:\n"
      ]
    },
    {
      "cell_type": "code",
      "execution_count": null,
      "metadata": {
        "trusted": true
      },
      "outputs": [],
      "source": [
        "# Read first four characters\n",
        "\n",
        "with open(example1, \"r\") as file1:\n",
        "    print(file1.read(4))"
      ]
    },
    {
      "cell_type": "markdown",
      "metadata": {},
      "source": [
        "Once the method <code>.read(4)</code> is called the first 4 characters are called. If we call the method again, the next 4 characters are called. The output for the following cell will demonstrate the process for different inputs to the method <code>read()</code>:\n"
      ]
    },
    {
      "cell_type": "code",
      "execution_count": null,
      "metadata": {
        "trusted": true
      },
      "outputs": [],
      "source": [
        "# Read certain amount of characters\n",
        "\n",
        "with open(example1, \"r\") as file1:\n",
        "    print(file1.read(4))\n",
        "    print(file1.read(4))\n",
        "    print(file1.read(7))\n",
        "    print(file1.read(15))"
      ]
    },
    {
      "cell_type": "markdown",
      "metadata": {},
      "source": [
        "The process is illustrated in the below figure, and each color represents the part of the file read after the method <code>read()</code> is called:\n"
      ]
    },
    {
      "cell_type": "markdown",
      "metadata": {},
      "source": [
        "<img src=\"https://cf-courses-data.s3.us.cloud-object-storage.appdomain.cloud/IBMDeveloperSkillsNetwork-PY0101EN-SkillsNetwork/labs/Module%204/images/read.png\" width=\"500\" />\n"
      ]
    },
    {
      "cell_type": "markdown",
      "metadata": {},
      "source": [
        "Here is an example using the same file, but instead we read 16, 5, and then 9 characters at a time:\n"
      ]
    },
    {
      "cell_type": "code",
      "execution_count": null,
      "metadata": {
        "trusted": true
      },
      "outputs": [],
      "source": [
        "# Read certain amount of characters\n",
        "\n",
        "with open(example1, \"r\") as file1:\n",
        "    print(file1.read(16))\n",
        "    print(file1.read(5))\n",
        "    print(file1.read(9))"
      ]
    },
    {
      "cell_type": "markdown",
      "metadata": {},
      "source": [
        "We can also read one line of the file at a time using the method <code>readline()</code>:\n"
      ]
    },
    {
      "cell_type": "code",
      "execution_count": null,
      "metadata": {
        "trusted": true
      },
      "outputs": [],
      "source": [
        "# Read one line\n",
        "\n",
        "with open(example1, \"r\") as file1:\n",
        "    print(\"first line: \" + file1.readline())"
      ]
    },
    {
      "cell_type": "markdown",
      "metadata": {},
      "source": [
        "We can also pass an argument to <code> readline() </code> to specify the number of charecters we want to read. However, unlike <code> read()</code>, <code> readline()</code> can only read one line at most.\n"
      ]
    },
    {
      "cell_type": "code",
      "execution_count": null,
      "metadata": {
        "trusted": true
      },
      "outputs": [],
      "source": [
        "with open(example1, \"r\") as file1:\n",
        "    print(file1.readline(20)) # does not read past the end of line\n",
        "    print(file1.read(20)) # Returns the next 20 chars\n"
      ]
    },
    {
      "cell_type": "markdown",
      "metadata": {},
      "source": [
        "We can use a loop to iterate through each line:\n"
      ]
    },
    {
      "cell_type": "code",
      "execution_count": null,
      "metadata": {
        "trusted": true
      },
      "outputs": [],
      "source": [
        "# Iterate through the lines\n",
        "\n",
        "with open(example1,\"r\") as file1:\n",
        "        i = 0;\n",
        "        for line in file1:\n",
        "            print(\"Iteration\", str(i), \": \", line)\n",
        "            i = i + 1"
      ]
    },
    {
      "cell_type": "markdown",
      "metadata": {},
      "source": [
        "We can use the method <code>readlines()</code> to save the text file to a list:\n"
      ]
    },
    {
      "cell_type": "code",
      "execution_count": null,
      "metadata": {
        "trusted": true
      },
      "outputs": [],
      "source": [
        "# Read all lines and save as a list\n",
        "\n",
        "with open(example1, \"r\") as file1:\n",
        "    FileasList = file1.readlines()"
      ]
    },
    {
      "cell_type": "markdown",
      "metadata": {},
      "source": [
        "Each element of the list corresponds to a line of text:\n"
      ]
    },
    {
      "cell_type": "code",
      "execution_count": null,
      "metadata": {
        "trusted": true
      },
      "outputs": [],
      "source": [
        "# Print the first line\n",
        "\n",
        "FileasList[0]"
      ]
    },
    {
      "cell_type": "markdown",
      "metadata": {},
      "source": [
        "# Print the second line\n",
        "\n",
        "FileasList\\[1]\n"
      ]
    },
    {
      "cell_type": "code",
      "execution_count": null,
      "metadata": {
        "trusted": true
      },
      "outputs": [],
      "source": [
        "# Print the third line\n",
        "\n",
        "FileasList[2]"
      ]
    },
    {
      "cell_type": "markdown",
      "metadata": {},
      "source": [
        "# Introduction to Pandas in Python"
      ]
    },
    {
      "cell_type": "markdown",
      "metadata": {},
      "source": [
        "<h2 id=\"dataset\">About the Dataset</h2>\n"
      ]
    },
    {
      "cell_type": "markdown",
      "metadata": {},
      "source": [
        "The table has one row for each album and several columns.\n",
        "\n",
        "<ul>\n",
        "    <li><b>artist</b>: Name of the artist</li>\n",
        "    <li><b>album</b>: Name of the album</li>\n",
        "    <li><b>released_year</b>: Year the album was released</li>\n",
        "    <li><b>length_min_sec</b>: Length of the album (hours,minutes,seconds)</li>\n",
        "    <li><b>genre</b>: Genre of the album</li>\n",
        "    <li><b>music_recording_sales_millions</b>: Music recording sales (millions in USD) on <a href=\"http://www.song-database.com/?utm_medium=Exinfluencer&utm_source=Exinfluencer&utm_content=000026UJ&utm_term=10006555&utm_id=NA-SkillsNetwork-Channel-SkillsNetworkCoursesIBMDeveloperSkillsNetworkPY0101ENSkillsNetwork19487395-2022-01-01?utm_medium=Exinfluencer&utm_source=Exinfluencer&utm_content=000026UJ&utm_term=10006555&utm_id=NA-SkillsNetwork-Channel-SkillsNetworkCoursesIBMDeveloperSkillsNetworkPY0101ENSkillsNetwork19487395-2021-01-01\">[SONG://DATABASE]</a></li>\n",
        "    <li><b>claimed_sales_millions</b>: Album's claimed sales (millions in USD) on <a href=\"http://www.song-database.com/\">[SONG://DATABASE]</a></li>\n",
        "    <li><b>date_released</b>: Date on which the album was released</li>\n",
        "    <li><b>soundtrack</b>: Indicates if the album is the movie soundtrack (Y) or (N)</li>\n",
        "    <li><b>rating_of_friends</b>: Indicates the rating from your friends from 1 to 10</li>\n",
        "</ul>\n",
        "\n",
        "You can see the dataset here:\n",
        "\n",
        "<font size=\"1\">\n",
        "<table font-size:xx-small>\n",
        "  <tr>\n",
        "    <th>Artist</th>\n",
        "    <th>Album</th> \n",
        "    <th>Released</th>\n",
        "    <th>Length</th>\n",
        "    <th>Genre</th> \n",
        "    <th>Music recording sales (millions)</th>\n",
        "    <th>Claimed sales (millions)</th>\n",
        "    <th>Released</th>\n",
        "    <th>Soundtrack</th>\n",
        "    <th>Rating (friends)</th>\n",
        "  </tr>\n",
        "  <tr>\n",
        "    <td>Michael Jackson</td>\n",
        "    <td>Thriller</td> \n",
        "    <td>1982</td>\n",
        "    <td>00:42:19</td>\n",
        "    <td>Pop, rock, R&B</td>\n",
        "    <td>46</td>\n",
        "    <td>65</td>\n",
        "    <td>30-Nov-82</td>\n",
        "    <td></td>\n",
        "    <td>10.0</td>\n",
        "  </tr>\n",
        "  <tr>\n",
        "    <td>AC/DC</td>\n",
        "    <td>Back in Black</td> \n",
        "    <td>1980</td>\n",
        "    <td>00:42:11</td>\n",
        "    <td>Hard rock</td>\n",
        "    <td>26.1</td>\n",
        "    <td>50</td>\n",
        "    <td>25-Jul-80</td>\n",
        "    <td></td>\n",
        "    <td>8.5</td>\n",
        "  </tr>\n",
        "    <tr>\n",
        "    <td>Pink Floyd</td>\n",
        "    <td>The Dark Side of the Moon</td> \n",
        "    <td>1973</td>\n",
        "    <td>00:42:49</td>\n",
        "    <td>Progressive rock</td>\n",
        "    <td>24.2</td>\n",
        "    <td>45</td>\n",
        "    <td>01-Mar-73</td>\n",
        "    <td></td>\n",
        "    <td>9.5</td>\n",
        "  </tr>\n",
        "    <tr>\n",
        "    <td>Whitney Houston</td>\n",
        "    <td>The Bodyguard</td> \n",
        "    <td>1992</td>\n",
        "    <td>00:57:44</td>\n",
        "    <td>Soundtrack/R&B, soul, pop</td>\n",
        "    <td>26.1</td>\n",
        "    <td>50</td>\n",
        "    <td>25-Jul-80</td>\n",
        "    <td>Y</td>\n",
        "    <td>7.0</td>\n",
        "  </tr>\n",
        "    <tr>\n",
        "    <td>Meat Loaf</td>\n",
        "    <td>Bat Out of Hell</td> \n",
        "    <td>1977</td>\n",
        "    <td>00:46:33</td>\n",
        "    <td>Hard rock, progressive rock</td>\n",
        "    <td>20.6</td>\n",
        "    <td>43</td>\n",
        "    <td>21-Oct-77</td>\n",
        "    <td></td>\n",
        "    <td>7.0</td>\n",
        "  </tr>\n",
        "    <tr>\n",
        "    <td>Eagles</td>\n",
        "    <td>Their Greatest Hits (1971-1975)</td> \n",
        "    <td>1976</td>\n",
        "    <td>00:43:08</td>\n",
        "    <td>Rock, soft rock, folk rock</td>\n",
        "    <td>32.2</td>\n",
        "    <td>42</td>\n",
        "    <td>17-Feb-76</td>\n",
        "    <td></td>\n",
        "    <td>9.5</td>\n",
        "  </tr>\n",
        "    <tr>\n",
        "    <td>Bee Gees</td>\n",
        "    <td>Saturday Night Fever</td> \n",
        "    <td>1977</td>\n",
        "    <td>1:15:54</td>\n",
        "    <td>Disco</td>\n",
        "    <td>20.6</td>\n",
        "    <td>40</td>\n",
        "    <td>15-Nov-77</td>\n",
        "    <td>Y</td>\n",
        "    <td>9.0</td>\n",
        "  </tr>\n",
        "    <tr>\n",
        "    <td>Fleetwood Mac</td>\n",
        "    <td>Rumours</td> \n",
        "    <td>1977</td>\n",
        "    <td>00:40:01</td>\n",
        "    <td>Soft rock</td>\n",
        "    <td>27.9</td>\n",
        "    <td>40</td>\n",
        "    <td>04-Feb-77</td>\n",
        "    <td></td>\n",
        "    <td>9.5</td>\n",
        "  </tr>\n",
        "</table></font>\n"
      ]
    },
    {
      "cell_type": "markdown",
      "metadata": {},
      "source": [
        "<hr>\n"
      ]
    },
    {
      "cell_type": "markdown",
      "metadata": {},
      "source": [
        "<h2 id=\"pandas\">Introduction of <code>Pandas</code></h2>\n"
      ]
    },
    {
      "cell_type": "code",
      "execution_count": null,
      "metadata": {
        "trusted": true
      },
      "outputs": [],
      "source": [
        "# Dependency needed to install file \n",
        "\n",
        "# If running the notebook on your machine, else leave it commented\n",
        "# !pip install xlrd\n",
        "\n",
        "import piplite\n",
        "await piplite.install(['xlrd','openpyxl'])"
      ]
    },
    {
      "cell_type": "code",
      "execution_count": null,
      "metadata": {
        "trusted": true
      },
      "outputs": [],
      "source": [
        "# Import required library\n",
        "\n",
        "import pandas as pd"
      ]
    },
    {
      "cell_type": "markdown",
      "metadata": {},
      "source": [
        "After the import command, we now have access to a large number of pre-built classes and functions. This assumes the library is installed; in our lab environment all the necessary libraries are installed. One way pandas allows you to work with data is a dataframe. Let's go through the process to go from a comma separated values (<b>.csv</b>) file to a dataframe. This variable <code>csv_path</code> stores the path of the <b>.csv</b>, that is  used as an argument to the <code>read_csv</code> function. The result is stored in the object <code>df</code>, this is a common short form used for a variable referring to a Pandas dataframe.\n"
      ]
    },
    {
      "cell_type": "code",
      "execution_count": null,
      "metadata": {
        "scrolled": true,
        "trusted": true
      },
      "outputs": [],
      "source": [
        "# Read data from CSV file\n",
        "\n",
        "# csv_path = 'https://cf-courses-data.s3.us.cloud-object-storage.appdomain.cloud/IBMDeveloperSkillsNetwork-PY0101EN-SkillsNetwork/labs/Module%204/data/TopSellingAlbums.csv'\n",
        "# df = pd.read_csv(csv_path)\n",
        "\n",
        "from pyodide.http import pyfetch\n",
        "import pandas as pd\n",
        "\n",
        "filename = \"https://cf-courses-data.s3.us.cloud-object-storage.appdomain.cloud/IBMDeveloperSkillsNetwork-PY0101EN-SkillsNetwork/labs/Module%204/data/TopSellingAlbums.csv\"\n",
        "\n",
        "async def download(url, filename):\n",
        "    response = await pyfetch(url)\n",
        "    if response.status == 200:\n",
        "        with open(filename, \"wb\") as f:\n",
        "            f.write(await response.bytes())\n",
        "\n",
        "\n",
        "await download(filename, \"TopSellingAlbums.csv\")\n",
        "df = pd.read_csv(\"TopSellingAlbums.csv\")"
      ]
    },
    {
      "cell_type": "markdown",
      "metadata": {},
      "source": [
        "We can use the method <code>head()</code> to examine the first five rows of a dataframe:\n"
      ]
    },
    {
      "cell_type": "code",
      "execution_count": null,
      "metadata": {
        "trusted": true
      },
      "outputs": [],
      "source": [
        "# Print first five rows of the dataframe\n",
        "\n",
        "df.head()"
      ]
    },
    {
      "cell_type": "markdown",
      "metadata": {},
      "source": [
        "We use the path of the excel file and the function <code>read_excel</code>. The result is a data frame as before:\n"
      ]
    },
    {
      "cell_type": "code",
      "execution_count": null,
      "metadata": {
        "trusted": true
      },
      "outputs": [],
      "source": [
        "# Read data from Excel File and print the first five rows\n",
        "\n",
        "xlsx_path = 'https://s3-api.us-geo.objectstorage.softlayer.net/cf-courses-data/CognitiveClass/PY0101EN/Chapter%204/Datasets/TopSellingAlbums.xlsx'\n",
        "\n",
        "await download(xlsx_path, \"TopSellingAlbums.xlsx\")\n",
        "df = pd.read_excel(\"TopSellingAlbums.xlsx\")\n",
        "df.head()"
      ]
    },
    {
      "cell_type": "markdown",
      "metadata": {},
      "source": [
        "We can access the column <b>Length</b> and assign it a new dataframe <b>x</b>:\n"
      ]
    },
    {
      "cell_type": "code",
      "execution_count": null,
      "metadata": {
        "trusted": true
      },
      "outputs": [],
      "source": [
        "# Access to the column Length\n",
        "\n",
        "x = df[['Length']]\n",
        "x"
      ]
    },
    {
      "cell_type": "markdown",
      "metadata": {},
      "source": [
        "The process is shown in the figure:\n"
      ]
    },
    {
      "cell_type": "markdown",
      "metadata": {},
      "source": [
        "<img src=\"https://cf-courses-data.s3.us.cloud-object-storage.appdomain.cloud/IBMDeveloperSkillsNetwork-PY0101EN-SkillsNetwork/labs/Module%204/images/DataEgOne.png\" width=\"750\" />\n"
      ]
    },
    {
      "cell_type": "markdown",
      "metadata": {},
      "source": [
        "<hr>\n"
      ]
    },
    {
      "cell_type": "markdown",
      "metadata": {},
      "source": [
        "<h2 id=\"data\">Viewing Data and Accessing Data</h2>\n"
      ]
    },
    {
      "cell_type": "markdown",
      "metadata": {},
      "source": [
        "You can also get a column as a series. You can think of a Pandas series as a 1-D dataframe. Just use one bracket:\n"
      ]
    },
    {
      "cell_type": "code",
      "execution_count": null,
      "metadata": {
        "trusted": true
      },
      "outputs": [],
      "source": [
        "# Get the column as a series\n",
        "\n",
        "x = df['Length']\n",
        "x"
      ]
    },
    {
      "cell_type": "markdown",
      "metadata": {},
      "source": [
        "You can also get a column as a dataframe. For example, we can assign the column <b>Artist</b>:\n"
      ]
    },
    {
      "cell_type": "code",
      "execution_count": null,
      "metadata": {
        "trusted": true
      },
      "outputs": [],
      "source": [
        "# Get the column as a dataframe\n",
        "\n",
        "x = df[['Artist']]\n",
        "type(x)"
      ]
    },
    {
      "cell_type": "markdown",
      "metadata": {},
      "source": [
        "You can do the same thing for multiple columns; we just put the dataframe name, in this case, <code>df</code>, and the name of the multiple column headers enclosed in double brackets. The result is a new dataframe comprised of the specified columns:\n"
      ]
    },
    {
      "cell_type": "code",
      "execution_count": null,
      "metadata": {
        "trusted": true
      },
      "outputs": [],
      "source": [
        "# Access to multiple columns\n",
        "\n",
        "y = df[['Artist','Length','Genre']]\n",
        "y"
      ]
    },
    {
      "cell_type": "markdown",
      "metadata": {},
      "source": [
        "The process is shown in the figure:\n"
      ]
    },
    {
      "cell_type": "markdown",
      "metadata": {},
      "source": [
        "<img src = \"https://cf-courses-data.s3.us.cloud-object-storage.appdomain.cloud/IBMDeveloperSkillsNetwork-PY0101EN-SkillsNetwork/labs/Module%204/images/DataEgTwo.png\" width=\"1100\" />\n"
      ]
    },
    {
      "cell_type": "markdown",
      "metadata": {},
      "source": [
        "One way to access unique elements is the <code>iloc</code> method, where you can access the 1st row and the 1st column as follows:\n"
      ]
    },
    {
      "cell_type": "code",
      "execution_count": null,
      "metadata": {
        "trusted": true
      },
      "outputs": [],
      "source": [
        "# Access the value on the first row and the first column\n",
        "\n",
        "df.iloc[0, 0]"
      ]
    },
    {
      "cell_type": "markdown",
      "metadata": {},
      "source": [
        "You can access the 2nd row and the 1st column as follows:\n"
      ]
    },
    {
      "cell_type": "code",
      "execution_count": null,
      "metadata": {
        "trusted": true
      },
      "outputs": [],
      "source": [
        "# Access the value on the second row and the first column\n",
        "\n",
        "df.iloc[1,0]"
      ]
    },
    {
      "cell_type": "markdown",
      "metadata": {},
      "source": [
        "You can access the 1st row and the 3rd column as follows:\n"
      ]
    },
    {
      "cell_type": "code",
      "execution_count": null,
      "metadata": {
        "trusted": true
      },
      "outputs": [],
      "source": [
        "# Access the value on the first row and the third column\n",
        "\n",
        "df.iloc[0,2]"
      ]
    },
    {
      "cell_type": "code",
      "execution_count": null,
      "metadata": {
        "trusted": true
      },
      "outputs": [],
      "source": [
        "# Access the value on the second row and the third column\n",
        "df.iloc[1,2]"
      ]
    },
    {
      "cell_type": "code",
      "execution_count": null,
      "metadata": {},
      "outputs": [],
      "source": []
    },
    {
      "cell_type": "markdown",
      "metadata": {},
      "source": [
        "This is shown in the following image\n"
      ]
    },
    {
      "cell_type": "markdown",
      "metadata": {},
      "source": [
        "<img src=\"https://cf-courses-data.s3.us.cloud-object-storage.appdomain.cloud/IBMDeveloperSkillsNetwork-PY0101EN-SkillsNetwork/labs/Module%204/images/2_loc.PNG\" width=\"750\" />\n"
      ]
    },
    {
      "cell_type": "markdown",
      "metadata": {},
      "source": [
        "You can access the column using the name as well, the following are the same as above:\n"
      ]
    },
    {
      "cell_type": "code",
      "execution_count": null,
      "metadata": {
        "trusted": true
      },
      "outputs": [],
      "source": [
        "# Access the column using the name\n",
        "\n",
        "df.loc[1, 'Artist']"
      ]
    },
    {
      "cell_type": "code",
      "execution_count": null,
      "metadata": {
        "trusted": true
      },
      "outputs": [],
      "source": [
        "# Access the column using the name\n",
        "\n",
        "df.loc[1, 'Artist']"
      ]
    },
    {
      "cell_type": "code",
      "execution_count": null,
      "metadata": {
        "trusted": true
      },
      "outputs": [],
      "source": [
        "# Access the column using the name\n",
        "\n",
        "df.loc[0, 'Released']"
      ]
    },
    {
      "cell_type": "code",
      "execution_count": null,
      "metadata": {
        "trusted": true
      },
      "outputs": [],
      "source": [
        "# Access the column using the name\n",
        "\n",
        "df.loc[1, 'Released']"
      ]
    },
    {
      "cell_type": "markdown",
      "metadata": {},
      "source": [
        "<img src=\"https://cf-courses-data.s3.us.cloud-object-storage.appdomain.cloud/IBMDeveloperSkillsNetwork-PY0101EN-SkillsNetwork/labs/Module%204/images/1_loc.png\" width=\"750\" />\n"
      ]
    },
    {
      "cell_type": "markdown",
      "metadata": {},
      "source": [
        "You can perform slicing using both the index and the name of the column:\n"
      ]
    },
    {
      "cell_type": "code",
      "execution_count": null,
      "metadata": {
        "trusted": true
      },
      "outputs": [],
      "source": [
        "# Slicing the dataframe\n",
        "\n",
        "df.iloc[0:2, 0:3]"
      ]
    },
    {
      "cell_type": "markdown",
      "metadata": {},
      "source": [
        "<img src=\"https://cf-courses-data.s3.us.cloud-object-storage.appdomain.cloud/IBMDeveloperSkillsNetwork-PY0101EN-SkillsNetwork/labs/Module%204/images/4_loc.png\" width=\"750\" />\n"
      ]
    },
    {
      "cell_type": "code",
      "execution_count": null,
      "metadata": {
        "trusted": true
      },
      "outputs": [],
      "source": [
        "# Slicing the dataframe using name\n",
        "\n",
        "df.loc[0:2, 'Artist':'Released']"
      ]
    },
    {
      "cell_type": "markdown",
      "metadata": {},
      "source": [
        "<img src=\"https://cf-courses-data.s3.us.cloud-object-storage.appdomain.cloud/IBMDeveloperSkillsNetwork-PY0101EN-SkillsNetwork/labs/Module%204/images/3_loc.png\" width=\"750\" />\n"
      ]
    },
    {
      "cell_type": "code",
      "execution_count": null,
      "metadata": {},
      "outputs": [],
      "source": [
        "# ***Module 5 - Numpy Arrays and APIs ***"
      ]
    },
    {
      "cell_type": "markdown",
      "metadata": {},
      "source": [
        "<h2 id=\"numpy\">What is Numpy?</h2>\n"
      ]
    },
    {
      "cell_type": "markdown",
      "metadata": {},
      "source": [
        "NumPy is a Python library used for working with arrays, linear algebra, fourier transform, and matrices.A numpy array is similar to a list. NumPy stands for Numerical Python and it is an open source project.The array object in NumPy is called **ndarray**, it provides a lot of supporting functions that make working with ndarray very easy.\n",
        "\n",
        "Arrays are very frequently used in data science, where speed and resources are very important.\n",
        "\n",
        "NumPy is usually imported under the np alias.\n",
        "\n",
        "It's usually fixed in size and each element is of the same type. We can cast a list to a numpy array by first importing `numpy`:\n"
      ]
    },
    {
      "cell_type": "code",
      "execution_count": null,
      "metadata": {},
      "outputs": [],
      "source": [
        "# import numpy library\n",
        "\n",
        "import numpy as np "
      ]
    },
    {
      "cell_type": "markdown",
      "metadata": {},
      "source": [
        "We then cast the list as follows:\n"
      ]
    },
    {
      "cell_type": "code",
      "execution_count": null,
      "metadata": {},
      "outputs": [],
      "source": [
        "# Create a numpy array\n",
        "\n",
        "a = np.array([0, 1, 2, 3, 4])\n",
        "a"
      ]
    },
    {
      "cell_type": "markdown",
      "metadata": {},
      "source": [
        "Each element is of the same type, in this case integers:\n"
      ]
    },
    {
      "cell_type": "markdown",
      "metadata": {},
      "source": [
        "<img src=\"https://cf-courses-data.s3.us.cloud-object-storage.appdomain.cloud/IBMDeveloperSkillsNetwork-PY0101EN-SkillsNetwork/labs/Module%205/images/NumOneNp.png\" width=\"500\" />\n"
      ]
    },
    {
      "cell_type": "markdown",
      "metadata": {},
      "source": [
        "As with lists, we can access each element via a square bracket:\n"
      ]
    },
    {
      "cell_type": "code",
      "execution_count": null,
      "metadata": {},
      "outputs": [],
      "source": [
        "# Print each element\n",
        "\n",
        "print(\"a[0]:\", a[0])\n",
        "print(\"a[1]:\", a[1])\n",
        "print(\"a[2]:\", a[2])\n",
        "print(\"a[3]:\", a[3])\n",
        "print(\"a[4]:\", a[4])"
      ]
    },
    {
      "cell_type": "markdown",
      "metadata": {},
      "source": [
        "### Checking NumPy Version\n",
        "\n",
        "The version string is stored under **version** attribute.\n"
      ]
    },
    {
      "cell_type": "code",
      "execution_count": null,
      "metadata": {},
      "outputs": [],
      "source": [
        "print(np.__version__)"
      ]
    },
    {
      "cell_type": "markdown",
      "metadata": {},
      "source": [
        "<h3 id=\"type\">Type</h3>\n"
      ]
    },
    {
      "cell_type": "markdown",
      "metadata": {},
      "source": [
        "If we check the type of the array we get <b>numpy.ndarray</b>:\n"
      ]
    },
    {
      "cell_type": "code",
      "execution_count": null,
      "metadata": {},
      "outputs": [],
      "source": [
        "# Check the type of the array\n",
        "\n",
        "type(a)"
      ]
    },
    {
      "cell_type": "markdown",
      "metadata": {},
      "source": [
        "As numpy arrays contain data of the same type, we can use the attribute \"dtype\" to obtain the data type of the array’s elements. In this case, it's a 64-bit integer:\n"
      ]
    },
    {
      "cell_type": "code",
      "execution_count": null,
      "metadata": {},
      "outputs": [],
      "source": [
        "# Check the type of the values stored in numpy array\n",
        "\n",
        "a.dtype"
      ]
    },
    {
      "cell_type": "markdown",
      "metadata": {},
      "source": [
        "<h3 id=\"val\">Assign value</h3>\n"
      ]
    },
    {
      "cell_type": "markdown",
      "metadata": {},
      "source": [
        "We can change the value of the array. Consider the array <code>c</code>:\n"
      ]
    },
    {
      "cell_type": "code",
      "execution_count": null,
      "metadata": {},
      "outputs": [],
      "source": [
        "# Create numpy array\n",
        "\n",
        "c = np.array([20, 1, 2, 3, 4])\n",
        "c"
      ]
    },
    {
      "cell_type": "markdown",
      "metadata": {},
      "source": [
        "We can change the first element of the array to 100 as follows:\n"
      ]
    },
    {
      "cell_type": "code",
      "execution_count": null,
      "metadata": {},
      "outputs": [],
      "source": [
        "# Assign the first element to 100\n",
        "\n",
        "c[0] = 100\n",
        "c"
      ]
    },
    {
      "cell_type": "markdown",
      "metadata": {},
      "source": [
        "We can change the 5th element of the array to 0 as follows:\n"
      ]
    },
    {
      "cell_type": "code",
      "execution_count": null,
      "metadata": {},
      "outputs": [],
      "source": [
        "# Assign the 5th element to 0\n",
        "\n",
        "c[4] = 0\n",
        "c"
      ]
    },
    {
      "cell_type": "markdown",
      "metadata": {},
      "source": [
        "<h3 id=\"slice\">Slicing</h3>\n"
      ]
    },
    {
      "cell_type": "markdown",
      "metadata": {},
      "source": [
        "Like lists, we can slice the numpy array. Slicing in python means taking the elements from the given index to another given index.\n",
        "\n",
        "We pass slice like this: \\[start:end].\n",
        "\n",
        "We can select the elements from 1 to 3 and assign it to a new numpy array <code>d</code> as follows:\n"
      ]
    },
    {
      "cell_type": "code",
      "execution_count": null,
      "metadata": {},
      "outputs": [],
      "source": [
        "# Slicing the numpy array\n",
        "\n",
        "d = c[1:4]\n",
        "d"
      ]
    },
    {
      "cell_type": "markdown",
      "metadata": {},
      "source": [
        "We can assign the corresponding indexes to new values as follows:\n"
      ]
    },
    {
      "cell_type": "code",
      "execution_count": null,
      "metadata": {},
      "outputs": [],
      "source": [
        "# Set the fourth element and fifth element to 300 and 400\n",
        "\n",
        "c[3:5] = 300, 400\n",
        "c"
      ]
    },
    {
      "cell_type": "markdown",
      "metadata": {},
      "source": [
        "We can also define the steps in slicing, like this: \\[start\\:end:step].\n"
      ]
    },
    {
      "cell_type": "code",
      "execution_count": null,
      "metadata": {},
      "outputs": [],
      "source": [
        "arr = np.array([1, 2, 3, 4, 5, 6, 7])\n",
        "\n",
        "print(arr[1:5:2])"
      ]
    },
    {
      "cell_type": "markdown",
      "metadata": {},
      "source": [
        "If we don't pass start its considered 0\n"
      ]
    },
    {
      "cell_type": "code",
      "execution_count": null,
      "metadata": {},
      "outputs": [],
      "source": [
        "print(arr[:4])"
      ]
    },
    {
      "cell_type": "markdown",
      "metadata": {},
      "source": [
        "If we don't pass end it considers till the length of array.\n"
      ]
    },
    {
      "cell_type": "code",
      "execution_count": null,
      "metadata": {},
      "outputs": [],
      "source": [
        "print(arr[4:])"
      ]
    },
    {
      "cell_type": "markdown",
      "metadata": {},
      "source": [
        "If we don't pass step its considered 1\n"
      ]
    },
    {
      "cell_type": "code",
      "execution_count": null,
      "metadata": {},
      "outputs": [],
      "source": [
        "print(arr[1:5:])"
      ]
    },
    {
      "cell_type": "markdown",
      "metadata": {},
      "source": [
        "<h3 id=\"list\">Assign Value with List</h3>\n"
      ]
    },
    {
      "cell_type": "markdown",
      "metadata": {},
      "source": [
        "Similarly, we can use a list to select more than one specific index.\n",
        "The list `select` contains several values:\n"
      ]
    },
    {
      "cell_type": "code",
      "execution_count": null,
      "metadata": {},
      "outputs": [],
      "source": [
        "# Create the index list\n",
        "\n",
        "select = [0, 2, 3, 4]\n",
        "select"
      ]
    },
    {
      "cell_type": "markdown",
      "metadata": {},
      "source": [
        "We can use the list as an argument in the brackets. The output is the elements corresponding to the particular indexes:\n"
      ]
    },
    {
      "cell_type": "code",
      "execution_count": null,
      "metadata": {},
      "outputs": [],
      "source": [
        "# Use List to select elements\n",
        "\n",
        "d = c[select]\n",
        "d"
      ]
    },
    {
      "cell_type": "markdown",
      "metadata": {},
      "source": [
        "We can assign the specified elements to a new value. For example, we can assign the values to 100 000 as follows:\n"
      ]
    },
    {
      "cell_type": "code",
      "execution_count": null,
      "metadata": {},
      "outputs": [],
      "source": [
        "# Assign the specified elements to new value\n",
        "\n",
        "c[select] = 100000\n",
        "c"
      ]
    },
    {
      "cell_type": "markdown",
      "metadata": {},
      "source": [
        "<h3 id=\"other\">Other Attributes</h3>\n"
      ]
    },
    {
      "cell_type": "markdown",
      "metadata": {},
      "source": [
        "Let's review some basic array attributes using the array <code>a</code>:\n"
      ]
    },
    {
      "cell_type": "code",
      "execution_count": null,
      "metadata": {},
      "outputs": [],
      "source": [
        "# Create a numpy array\n",
        "\n",
        "a = np.array([0, 1, 2, 3, 4])\n",
        "a"
      ]
    },
    {
      "cell_type": "markdown",
      "metadata": {},
      "source": [
        "The attribute <code>size</code> is the number of elements in the array:\n"
      ]
    },
    {
      "cell_type": "code",
      "execution_count": null,
      "metadata": {},
      "outputs": [],
      "source": [
        "# Get the size of numpy array\n",
        "\n",
        "a.size"
      ]
    },
    {
      "cell_type": "markdown",
      "metadata": {},
      "source": [
        "The next two attributes will make more sense when we get to higher dimensions but let's review them. The attribute <code>ndim</code> represents the number of array dimensions, or the rank of the array. In this case, one:\n"
      ]
    },
    {
      "cell_type": "code",
      "execution_count": null,
      "metadata": {},
      "outputs": [],
      "source": [
        "# Get the number of dimensions of numpy array\n",
        "\n",
        "a.ndim"
      ]
    },
    {
      "cell_type": "markdown",
      "metadata": {},
      "source": [
        "The attribute <code>shape</code> is a tuple of integers indicating the size of the array in each dimension:\n"
      ]
    },
    {
      "cell_type": "markdown",
      "metadata": {},
      "source": [
        "### Numpy Statistical Functions\n"
      ]
    },
    {
      "cell_type": "code",
      "execution_count": null,
      "metadata": {},
      "outputs": [],
      "source": [
        "# Create a numpy array\n",
        "\n",
        "a = np.array([1, -1, 1, -1])"
      ]
    },
    {
      "cell_type": "code",
      "execution_count": null,
      "metadata": {},
      "outputs": [],
      "source": [
        "# Get the mean of numpy array\n",
        "\n",
        "mean = a.mean()\n",
        "mean"
      ]
    },
    {
      "cell_type": "code",
      "execution_count": null,
      "metadata": {},
      "outputs": [],
      "source": [
        "# Get the standard deviation of numpy array\n",
        "\n",
        "standard_deviation=a.std()\n",
        "standard_deviation"
      ]
    },
    {
      "cell_type": "code",
      "execution_count": null,
      "metadata": {},
      "outputs": [],
      "source": [
        "# Create a numpy array\n",
        "\n",
        "b = np.array([-1, 2, 3, 4, 5])\n",
        "b"
      ]
    },
    {
      "cell_type": "code",
      "execution_count": null,
      "metadata": {},
      "outputs": [],
      "source": [
        "# Get the biggest value in the numpy array\n",
        "\n",
        "max_b = b.max()\n",
        "max_b"
      ]
    },
    {
      "cell_type": "code",
      "execution_count": null,
      "metadata": {},
      "outputs": [],
      "source": [
        "# Get the smallest value in the numpy array\n",
        "\n",
        "min_b = b.min()\n",
        "min_b"
      ]
    },
    {
      "cell_type": "markdown",
      "metadata": {},
      "source": [
        "<h2 id=\"op\">Numpy Array Operations</h2>\n",
        "\n",
        "You could use arithmetic operators directly between NumPy arrays\n"
      ]
    },
    {
      "cell_type": "markdown",
      "metadata": {},
      "source": [
        "<h3 id=\"add\">Array Addition</h3>\n"
      ]
    },
    {
      "cell_type": "markdown",
      "metadata": {},
      "source": [
        "Consider the numpy array <code>u</code>:\n"
      ]
    },
    {
      "cell_type": "code",
      "execution_count": null,
      "metadata": {},
      "outputs": [],
      "source": [
        "u = np.array([1, 0])\n",
        "u"
      ]
    },
    {
      "cell_type": "markdown",
      "metadata": {},
      "source": [
        "Consider the numpy array <code>v</code>:\n"
      ]
    },
    {
      "cell_type": "code",
      "execution_count": null,
      "metadata": {},
      "outputs": [],
      "source": [
        "v = np.array([0, 1])\n",
        "v"
      ]
    },
    {
      "cell_type": "markdown",
      "metadata": {},
      "source": [
        "We can add the two arrays and assign it to z:\n"
      ]
    },
    {
      "cell_type": "code",
      "execution_count": null,
      "metadata": {},
      "outputs": [],
      "source": [
        "# Numpy Array Addition\n",
        "\n",
        "z = np.add(u, v)\n",
        "z"
      ]
    },
    {
      "cell_type": "markdown",
      "metadata": {},
      "source": [
        "The operation is equivalent to vector addition:\n"
      ]
    },
    {
      "cell_type": "code",
      "execution_count": null,
      "metadata": {},
      "outputs": [],
      "source": [
        "# Plotting functions\n",
        "\n",
        "\n",
        "import time \n",
        "import sys\n",
        "import numpy as np \n",
        "\n",
        "import matplotlib.pyplot as plt\n",
        "%matplotlib inline  \n",
        "\n",
        "def Plotvec1(u, z, v):\n",
        "    \n",
        "    ax = plt.axes() # to generate the full window axes\n",
        "    ax.arrow(0, 0, *u, head_width=0.05, color='r', head_length=0.1)# Add an arrow to the  U Axes with arrow head width 0.05, color red and arrow head length 0.1\n",
        "    plt.text(*(u + 0.1), 'u')#Adds the text u to the Axes \n",
        "    \n",
        "    ax.arrow(0, 0, *v, head_width=0.05, color='b', head_length=0.1)# Add an arrow to the  v Axes with arrow head width 0.05, color red and arrow head length 0.1\n",
        "    plt.text(*(v + 0.1), 'v')#Adds the text v to the Axes \n",
        "    \n",
        "    ax.arrow(0, 0, *z, head_width=0.05, head_length=0.1)\n",
        "    plt.text(*(z + 0.1), 'z')#Adds the text z to the Axes \n",
        "    plt.ylim(-2, 2)#set the ylim to bottom(-2), top(2)\n",
        "    plt.xlim(-2, 2)#set the xlim to left(-2), right(2)\n",
        "\n",
        "  \n"
      ]
    },
    {
      "cell_type": "code",
      "execution_count": null,
      "metadata": {},
      "outputs": [],
      "source": [
        "# Plot numpy arrays\n",
        "\n",
        "Plotvec1(u, z, v)"
      ]
    },
    {
      "cell_type": "markdown",
      "metadata": {},
      "source": [
        "### Array Subtraction\n"
      ]
    },
    {
      "cell_type": "markdown",
      "metadata": {},
      "source": [
        "Consider the numpy array a:\n"
      ]
    },
    {
      "cell_type": "code",
      "execution_count": null,
      "metadata": {},
      "outputs": [],
      "source": [
        "a = np.array([10, 20, 30])\n",
        "a"
      ]
    },
    {
      "cell_type": "markdown",
      "metadata": {},
      "source": [
        "Consider the numpy array b:\n"
      ]
    },
    {
      "cell_type": "code",
      "execution_count": null,
      "metadata": {},
      "outputs": [],
      "source": [
        "b = np.array([5, 10, 15])\n",
        "b"
      ]
    },
    {
      "cell_type": "markdown",
      "metadata": {},
      "source": [
        "We can subtract the two arrays and assign it to c:\n"
      ]
    },
    {
      "cell_type": "code",
      "execution_count": null,
      "metadata": {},
      "outputs": [],
      "source": [
        "c = np.subtract(a, b)\n",
        "\n",
        "print(c)"
      ]
    },
    {
      "cell_type": "markdown",
      "metadata": {},
      "source": [
        "<h3 id=\"multi\">Array Multiplication</h3>\n"
      ]
    },
    {
      "cell_type": "markdown",
      "metadata": {},
      "source": [
        "Consider the vector numpy array <code>y</code>:\n"
      ]
    },
    {
      "cell_type": "code",
      "execution_count": null,
      "metadata": {},
      "outputs": [],
      "source": [
        "# Create a numpy array\n",
        "\n",
        "x = np.array([1, 2])\n",
        "x"
      ]
    },
    {
      "cell_type": "code",
      "execution_count": null,
      "metadata": {},
      "outputs": [],
      "source": [
        "# Create a numpy array\n",
        "\n",
        "y = np.array([2, 1])\n",
        "y"
      ]
    },
    {
      "cell_type": "markdown",
      "metadata": {},
      "source": [
        "We can multiply every element in the array by 2:\n"
      ]
    },
    {
      "cell_type": "code",
      "execution_count": null,
      "metadata": {},
      "outputs": [],
      "source": [
        "# Numpy Array Multiplication\n",
        "\n",
        "z = np.multiply(x, y)\n",
        "z"
      ]
    },
    {
      "cell_type": "markdown",
      "metadata": {},
      "source": [
        "This is equivalent to multiplying a vector by a scaler:\n"
      ]
    },
    {
      "cell_type": "markdown",
      "metadata": {},
      "source": [
        "### Array Division\n"
      ]
    },
    {
      "cell_type": "markdown",
      "metadata": {},
      "source": [
        "Consider the vector numpy array a:\n"
      ]
    },
    {
      "cell_type": "code",
      "execution_count": null,
      "metadata": {},
      "outputs": [],
      "source": [
        "a = np.array([10, 20, 30])\n",
        "a"
      ]
    },
    {
      "cell_type": "markdown",
      "metadata": {},
      "source": [
        "Consider the vector numpy array b:\n"
      ]
    },
    {
      "cell_type": "code",
      "execution_count": null,
      "metadata": {},
      "outputs": [],
      "source": [
        "b = np.array([2, 10, 5])\n",
        "b"
      ]
    },
    {
      "cell_type": "markdown",
      "metadata": {},
      "source": [
        "We can divide the two arrays and assign it to c:\n"
      ]
    },
    {
      "cell_type": "code",
      "execution_count": null,
      "metadata": {},
      "outputs": [],
      "source": [
        "c = np.divide(a, b)\n",
        "c"
      ]
    },
    {
      "cell_type": "markdown",
      "metadata": {},
      "source": [
        "<h3 id=\"dot\">Dot Product</h3>\n"
      ]
    },
    {
      "cell_type": "markdown",
      "metadata": {},
      "source": [
        "The dot product of the two numpy arrays <code>u</code> and <code>v</code> is given by:\n"
      ]
    },
    {
      "cell_type": "code",
      "execution_count": null,
      "metadata": {},
      "outputs": [],
      "source": [
        "X = np.array([1, 2])\n",
        "Y = np.array([3, 2])"
      ]
    },
    {
      "cell_type": "code",
      "execution_count": null,
      "metadata": {},
      "outputs": [],
      "source": [
        "# Calculate the dot product\n",
        "\n",
        "np.dot(X, Y)"
      ]
    },
    {
      "cell_type": "code",
      "execution_count": null,
      "metadata": {},
      "outputs": [],
      "source": [
        "#Elements of X\n",
        "print(X[0])\n",
        "print(X[1])"
      ]
    },
    {
      "cell_type": "code",
      "execution_count": null,
      "metadata": {},
      "outputs": [],
      "source": [
        "#Elements of Y\n",
        "print(Y[0])\n",
        "print(Y[1])"
      ]
    },
    {
      "cell_type": "markdown",
      "metadata": {},
      "source": [
        "We are performing the dot product which is shown as below\n"
      ]
    },
    {
      "cell_type": "markdown",
      "metadata": {},
      "source": [
        "<img src =\"https://cf-courses-data.s3.us.cloud-object-storage.appdomain.cloud/IBMDeveloperSkillsNetwork-PY0101EN-SkillsNetwork/labs/Module%205/images/dot1.png\"/>\n"
      ]
    },
    {
      "cell_type": "markdown",
      "metadata": {},
      "source": [
        "<h3 id=\"cons\">Adding Constant to a Numpy Array</h3>\n"
      ]
    },
    {
      "cell_type": "markdown",
      "metadata": {},
      "source": [
        "Consider the following array:\n"
      ]
    },
    {
      "cell_type": "code",
      "execution_count": null,
      "metadata": {},
      "outputs": [],
      "source": [
        "# Create a constant to numpy array\n",
        "\n",
        "u = np.array([1, 2, 3, -1]) \n",
        "u"
      ]
    },
    {
      "cell_type": "markdown",
      "metadata": {},
      "source": [
        "Adding the constant 1 to each element in the array:\n"
      ]
    },
    {
      "cell_type": "code",
      "execution_count": null,
      "metadata": {},
      "outputs": [],
      "source": [
        "# Add the constant to array\n",
        "\n",
        "u + 1"
      ]
    },
    {
      "cell_type": "markdown",
      "metadata": {},
      "source": [
        "The process is summarised in the following animation:\n"
      ]
    },
    {
      "cell_type": "markdown",
      "metadata": {},
      "source": [
        "<img src=\"https://cf-courses-data.s3.us.cloud-object-storage.appdomain.cloud/IBMDeveloperSkillsNetwork-PY0101EN-SkillsNetwork/labs/Module%205/images/NumOneAdd.gif\" width=\"500\" />\n"
      ]
    },
    {
      "cell_type": "markdown",
      "metadata": {},
      "source": [
        "<hr>\n"
      ]
    },
    {
      "cell_type": "markdown",
      "metadata": {},
      "source": [
        "<h2 id=\"math\">Mathematical Functions</h2>\n"
      ]
    },
    {
      "cell_type": "markdown",
      "metadata": {},
      "source": [
        "We can access the value of <code>pi</code> in numpy as follows :\n"
      ]
    },
    {
      "cell_type": "code",
      "execution_count": null,
      "metadata": {},
      "outputs": [],
      "source": [
        "# The value of pi\n",
        "\n",
        "np.pi"
      ]
    },
    {
      "cell_type": "markdown",
      "metadata": {},
      "source": [
        "We can create the following numpy array in Radians:\n"
      ]
    },
    {
      "cell_type": "code",
      "execution_count": null,
      "metadata": {},
      "outputs": [],
      "source": [
        "# Create the numpy array in radians\n",
        "\n",
        "x = np.array([0, np.pi/2 , np.pi])"
      ]
    },
    {
      "cell_type": "markdown",
      "metadata": {},
      "source": [
        "We can apply the function <code>sin</code> to the array <code>x</code> and assign the values to the array <code>y</code>; this applies the sine function to each element in the array:\n"
      ]
    },
    {
      "cell_type": "code",
      "execution_count": null,
      "metadata": {},
      "outputs": [],
      "source": [
        "# Calculate the sin of each elements\n",
        "\n",
        "y = np.sin(x)\n",
        "y"
      ]
    },
    {
      "cell_type": "markdown",
      "metadata": {},
      "source": [
        "<hr>\n"
      ]
    },
    {
      "cell_type": "markdown",
      "metadata": {},
      "source": [
        "<h2 id=\"lin\">Linspace</h2>\n"
      ]
    },
    {
      "cell_type": "markdown",
      "metadata": {},
      "source": [
        "A useful function for plotting mathematical functions is <code>linspace</code>.   Linspace returns evenly spaced numbers over a specified interval.\n",
        "\n",
        "**numpy.linspace(start, stop, num = int value)**\n",
        "\n",
        "start  :  start of interval range\n",
        "\n",
        "stop   :  end of interval range\n",
        "\n",
        "num    :  Number of samples to generate.\n"
      ]
    },
    {
      "cell_type": "code",
      "execution_count": null,
      "metadata": {},
      "outputs": [],
      "source": [
        "# Makeup a numpy array within [-2, 2] and 5 elements\n",
        "\n",
        "np.linspace(-2, 2, num=5)"
      ]
    },
    {
      "cell_type": "markdown",
      "metadata": {},
      "source": [
        "If we change the parameter <code>num</code> to 9, we get 9 evenly spaced numbers over the interval from -2 to 2:\n"
      ]
    },
    {
      "cell_type": "code",
      "execution_count": null,
      "metadata": {},
      "outputs": [],
      "source": [
        "# Make a numpy array within [-2, 2] and 9 elements\n",
        "\n",
        "np.linspace(-2, 2, num=9)"
      ]
    },
    {
      "cell_type": "markdown",
      "metadata": {},
      "source": [
        "We can use the function <code>linspace</code> to generate 100 evenly spaced samples from the interval 0 to 2π:\n"
      ]
    },
    {
      "cell_type": "code",
      "execution_count": null,
      "metadata": {},
      "outputs": [],
      "source": [
        "# Make a numpy array within [0, 2π] and 100 elements \n",
        "\n",
        "x = np.linspace(0, 2*np.pi, num=100)"
      ]
    },
    {
      "cell_type": "markdown",
      "metadata": {},
      "source": [
        "We can apply the sine function to each element in the array <code>x</code> and assign it to the array <code>y</code>:\n"
      ]
    },
    {
      "cell_type": "code",
      "execution_count": null,
      "metadata": {},
      "outputs": [],
      "source": [
        "# Calculate the sine of x list\n",
        "\n",
        "y = np.sin(x)"
      ]
    },
    {
      "cell_type": "code",
      "execution_count": null,
      "metadata": {},
      "outputs": [],
      "source": [
        "# Plot the result\n",
        "\n",
        "plt.plot(x, y)"
      ]
    },
    {
      "cell_type": "markdown",
      "metadata": {},
      "source": [
        "<hr>\n"
      ]
    },
    {
      "cell_type": "markdown",
      "metadata": {},
      "source": [
        "### Iterating 1-D Arrays\n",
        "\n",
        "Iterating means going through elements one by one.\n",
        "\n",
        "If we iterate on a 1-D array it will go through each element one by one.\n"
      ]
    },
    {
      "cell_type": "markdown",
      "metadata": {},
      "source": [
        "If we execute the numpy array, we get in the array format\n"
      ]
    },
    {
      "cell_type": "code",
      "execution_count": null,
      "metadata": {},
      "outputs": [],
      "source": [
        "arr1 = np.array([1, 2, 3])\n",
        "print(arr1)"
      ]
    },
    {
      "cell_type": "markdown",
      "metadata": {},
      "source": [
        "But if you want to result in the form of the list, then you can use for loop:\n"
      ]
    },
    {
      "cell_type": "code",
      "execution_count": null,
      "metadata": {},
      "outputs": [],
      "source": [
        "for x in arr1:\n",
        "  print(x)"
      ]
    },
    {
      "cell_type": "markdown",
      "metadata": {},
      "source": [
        "<h2 id=\"create\">Create a 2D Numpy Array</h2>\n"
      ]
    },
    {
      "cell_type": "code",
      "execution_count": null,
      "metadata": {},
      "outputs": [],
      "source": [
        "# Import the libraries\n",
        "\n",
        "import numpy as np \n",
        "import matplotlib.pyplot as plt"
      ]
    },
    {
      "cell_type": "markdown",
      "metadata": {},
      "source": [
        "Consider the list <code>a</code>, which contains three nested lists **each of equal size**.\n"
      ]
    },
    {
      "cell_type": "code",
      "execution_count": null,
      "metadata": {},
      "outputs": [],
      "source": [
        "# Create a list\n",
        "\n",
        "a = [[11, 12, 13], [21, 22, 23], [31, 32, 33]]\n",
        "a"
      ]
    },
    {
      "cell_type": "markdown",
      "metadata": {},
      "source": [
        "We can cast the list to a Numpy Array as follows:\n"
      ]
    },
    {
      "cell_type": "code",
      "execution_count": null,
      "metadata": {},
      "outputs": [],
      "source": [
        "# Convert list to Numpy Array\n",
        "# Every element is the same type\n",
        "\n",
        "A = np.array(a)\n",
        "A"
      ]
    },
    {
      "cell_type": "markdown",
      "metadata": {},
      "source": [
        "We can use the attribute <code>ndim</code> to obtain the number of axes or dimensions, referred to as the rank.\n"
      ]
    },
    {
      "cell_type": "code",
      "execution_count": null,
      "metadata": {},
      "outputs": [],
      "source": [
        "# Show the numpy array dimensions\n",
        "\n",
        "A.ndim"
      ]
    },
    {
      "cell_type": "markdown",
      "metadata": {},
      "source": [
        "Attribute <code>shape</code> returns a tuple corresponding to the size or number of each dimension.\n"
      ]
    },
    {
      "cell_type": "code",
      "execution_count": null,
      "metadata": {},
      "outputs": [],
      "source": [
        "# Show the numpy array shape\n",
        "\n",
        "A.shape"
      ]
    },
    {
      "cell_type": "markdown",
      "metadata": {},
      "source": [
        "The total number of elements in the array is given by the attribute <code>size</code>.\n"
      ]
    },
    {
      "cell_type": "code",
      "execution_count": null,
      "metadata": {},
      "outputs": [],
      "source": [
        "# Show the numpy array size\n",
        "\n",
        "A.size"
      ]
    },
    {
      "cell_type": "markdown",
      "metadata": {},
      "source": [
        "<hr>\n"
      ]
    },
    {
      "cell_type": "markdown",
      "metadata": {},
      "source": [
        "<h2 id=\"access\">Accessing different elements of a Numpy Array</h2>\n"
      ]
    },
    {
      "cell_type": "markdown",
      "metadata": {},
      "source": [
        "We can use rectangular brackets to access the different elements of the array. The correspondence between the rectangular brackets and the list and the rectangular representation is shown in the following figure for a 3x3 array:\n"
      ]
    },
    {
      "cell_type": "markdown",
      "metadata": {},
      "source": [
        "<img src=\"https://cf-courses-data.s3.us.cloud-object-storage.appdomain.cloud/IBMDeveloperSkillsNetwork-PY0101EN-SkillsNetwork/labs/Module%205/images/NumTwoEg.png\" width=\"500\" />\n"
      ]
    },
    {
      "cell_type": "markdown",
      "metadata": {},
      "source": [
        "We can access the 2nd-row, 3rd column as shown in the following figure:\n"
      ]
    },
    {
      "cell_type": "markdown",
      "metadata": {},
      "source": [
        "<img src=\"https://cf-courses-data.s3.us.cloud-object-storage.appdomain.cloud/IBMDeveloperSkillsNetwork-PY0101EN-SkillsNetwork/labs/Module%205/images/NumTwoFT.png\" width=\"400\" />\n"
      ]
    },
    {
      "cell_type": "markdown",
      "metadata": {},
      "source": [
        "We simply use the square brackets and the indices corresponding to the element we would like:\n"
      ]
    },
    {
      "cell_type": "code",
      "execution_count": null,
      "metadata": {},
      "outputs": [],
      "source": [
        "# Access the element on the second row and third column\n",
        "\n",
        "A[1, 2]"
      ]
    },
    {
      "cell_type": "markdown",
      "metadata": {},
      "source": [
        "We can also use the following notation to obtain the elements:\n"
      ]
    },
    {
      "cell_type": "code",
      "execution_count": null,
      "metadata": {},
      "outputs": [],
      "source": [
        "# Access the element on the second row and third column\n",
        "\n",
        "A[1][2]"
      ]
    },
    {
      "cell_type": "markdown",
      "metadata": {},
      "source": [
        "Consider the elements shown in the following figure\n"
      ]
    },
    {
      "cell_type": "markdown",
      "metadata": {},
      "source": [
        "<img src=\"https://cf-courses-data.s3.us.cloud-object-storage.appdomain.cloud/IBMDeveloperSkillsNetwork-PY0101EN-SkillsNetwork/labs/Module%205/images/NumTwoFF.png\" width=\"400\" />\n"
      ]
    },
    {
      "cell_type": "markdown",
      "metadata": {},
      "source": [
        "We can access the element as follows:\n"
      ]
    },
    {
      "cell_type": "code",
      "execution_count": null,
      "metadata": {},
      "outputs": [],
      "source": [
        "# Access the element on the first row and first column\n",
        "\n",
        "A[0][0]"
      ]
    },
    {
      "cell_type": "markdown",
      "metadata": {},
      "source": [
        "We can also use slicing in numpy arrays. Consider the following figure. We would like to obtain the first two columns in the first row\n"
      ]
    },
    {
      "cell_type": "markdown",
      "metadata": {},
      "source": [
        "<img src=\"https://cf-courses-data.s3.us.cloud-object-storage.appdomain.cloud/IBMDeveloperSkillsNetwork-PY0101EN-SkillsNetwork/labs/Module%205/images/NumTwoFSF.png\" width=\"400\" />\n"
      ]
    },
    {
      "cell_type": "markdown",
      "metadata": {},
      "source": [
        "This can be done with the following syntax:\n"
      ]
    },
    {
      "cell_type": "code",
      "execution_count": null,
      "metadata": {},
      "outputs": [],
      "source": [
        "# Access the element on the first row and first and second columns\n",
        "\n",
        "A[0][0:2]"
      ]
    },
    {
      "cell_type": "markdown",
      "metadata": {},
      "source": [
        "Similarly, we can obtain the first two rows of the 3rd column as follows:\n"
      ]
    },
    {
      "cell_type": "code",
      "execution_count": null,
      "metadata": {},
      "outputs": [],
      "source": [
        "# Access the element on the first and second rows and third column\n",
        "\n",
        "A[0:2, 2]"
      ]
    },
    {
      "cell_type": "markdown",
      "metadata": {},
      "source": [
        "Corresponding to the following figure:\n"
      ]
    },
    {
      "cell_type": "markdown",
      "metadata": {},
      "source": [
        "<img src=\"https://cf-courses-data.s3.us.cloud-object-storage.appdomain.cloud/IBMDeveloperSkillsNetwork-PY0101EN-SkillsNetwork/labs/Module%205/images/2D_numpy.png\" width=\"550\"><br />\n"
      ]
    },
    {
      "cell_type": "markdown",
      "metadata": {},
      "source": [
        "<h2 id=\"op\">Basic Operations</h2>\n"
      ]
    },
    {
      "cell_type": "markdown",
      "metadata": {},
      "source": [
        "We can also add arrays. The process is identical to matrix addition. Matrix addition of <code>X</code> and <code>Y</code> is shown in the following figure:\n"
      ]
    },
    {
      "cell_type": "markdown",
      "metadata": {},
      "source": [
        "<img src=\"https://cf-courses-data.s3.us.cloud-object-storage.appdomain.cloud/IBMDeveloperSkillsNetwork-PY0101EN-SkillsNetwork/labs/Module%205/images/NumTwoAdd.png\" width=\"500\" />\n"
      ]
    },
    {
      "cell_type": "markdown",
      "metadata": {},
      "source": [
        "The numpy array is given by <code>X</code> and <code>Y</code>\n"
      ]
    },
    {
      "cell_type": "code",
      "execution_count": null,
      "metadata": {},
      "outputs": [],
      "source": [
        "# Create a numpy array X\n",
        "\n",
        "X = np.array([[1, 0], [0, 1]]) \n",
        "X"
      ]
    },
    {
      "cell_type": "code",
      "execution_count": null,
      "metadata": {},
      "outputs": [],
      "source": [
        "# Create a numpy array Y\n",
        "\n",
        "Y = np.array([[2, 1], [1, 2]]) \n",
        "Y"
      ]
    },
    {
      "cell_type": "markdown",
      "metadata": {},
      "source": [
        "We can add the numpy arrays as follows.\n"
      ]
    },
    {
      "cell_type": "code",
      "execution_count": null,
      "metadata": {},
      "outputs": [],
      "source": [
        "# Add X and Y\n",
        "\n",
        "Z = X + Y\n",
        "Z"
      ]
    },
    {
      "cell_type": "markdown",
      "metadata": {},
      "source": [
        "Multiplying a numpy array by a scaler is identical to multiplying a matrix by a scaler. If we multiply the matrix <code>Y</code> by the scaler 2, we simply multiply every element in the matrix by 2, as shown in the figure.\n"
      ]
    },
    {
      "cell_type": "markdown",
      "metadata": {},
      "source": [
        "<img src=\"https://cf-courses-data.s3.us.cloud-object-storage.appdomain.cloud/IBMDeveloperSkillsNetwork-PY0101EN-SkillsNetwork/labs/Module%205/images/NumTwoDb.png\" width=\"500\" />\n"
      ]
    },
    {
      "cell_type": "markdown",
      "metadata": {},
      "source": [
        "We can perform the same operation in numpy as follows\n"
      ]
    },
    {
      "cell_type": "code",
      "execution_count": null,
      "metadata": {},
      "outputs": [],
      "source": [
        "# Create a numpy array Y\n",
        "\n",
        "Y = np.array([[2, 1], [1, 2]]) \n",
        "Y"
      ]
    },
    {
      "cell_type": "code",
      "execution_count": null,
      "metadata": {},
      "outputs": [],
      "source": [
        "# Multiply Y with 2\n",
        "\n",
        "Z = 2 * Y\n",
        "Z"
      ]
    },
    {
      "cell_type": "markdown",
      "metadata": {},
      "source": [
        "Multiplication of two arrays corresponds to an element-wise product or <em>Hadamard product</em>. Consider matrix <code>X</code> and <code>Y</code>. The Hadamard product corresponds to multiplying each of the elements in the same position, i.e. multiplying elements contained in the same color boxes together. The result is a new matrix that is the same size as matrix <code>Y</code> or <code>X</code>, as shown in the following figure.\n"
      ]
    },
    {
      "cell_type": "markdown",
      "metadata": {},
      "source": [
        "<img src=\"https://cf-courses-data.s3.us.cloud-object-storage.appdomain.cloud/IBMDeveloperSkillsNetwork-PY0101EN-SkillsNetwork/labs/Module%205/images/NumTwoMul.png\" width=\"500\" />\n"
      ]
    },
    {
      "cell_type": "markdown",
      "metadata": {},
      "source": [
        "We can perform element-wise product of the array <code>X</code> and <code>Y</code> as follows:\n"
      ]
    },
    {
      "cell_type": "code",
      "execution_count": null,
      "metadata": {},
      "outputs": [],
      "source": [
        "# Create a numpy array Y\n",
        "\n",
        "Y = np.array([[2, 1], [1, 2]]) \n",
        "Y"
      ]
    },
    {
      "cell_type": "code",
      "execution_count": null,
      "metadata": {},
      "outputs": [],
      "source": [
        "# Create a numpy array X\n",
        "\n",
        "X = np.array([[1, 0], [0, 1]]) \n",
        "X"
      ]
    },
    {
      "cell_type": "code",
      "execution_count": null,
      "metadata": {},
      "outputs": [],
      "source": [
        "# Multiply X with Y\n",
        "\n",
        "Z = X * Y\n",
        "Z"
      ]
    },
    {
      "cell_type": "markdown",
      "metadata": {},
      "source": [
        "We can also perform matrix multiplication with the numpy arrays <code>A</code> and <code>B</code> as follows:\n"
      ]
    },
    {
      "cell_type": "markdown",
      "metadata": {},
      "source": [
        "First, we define matrix <code>A</code> and <code>B</code>:\n"
      ]
    },
    {
      "cell_type": "code",
      "execution_count": null,
      "metadata": {},
      "outputs": [],
      "source": [
        "# Create a matrix A\n",
        "\n",
        "A = np.array([[0, 1, 1], [1, 0, 1]])\n",
        "A"
      ]
    },
    {
      "cell_type": "code",
      "execution_count": null,
      "metadata": {},
      "outputs": [],
      "source": [
        "# Create a matrix B\n",
        "\n",
        "B = np.array([[1, 1], [1, 1], [-1, 1]])\n",
        "B"
      ]
    },
    {
      "cell_type": "markdown",
      "metadata": {},
      "source": [
        "We use the numpy function <code>dot</code> to multiply the arrays together.\n"
      ]
    },
    {
      "cell_type": "code",
      "execution_count": null,
      "metadata": {},
      "outputs": [],
      "source": [
        "# Calculate the dot product\n",
        "\n",
        "Z = np.dot(A,B)\n",
        "Z"
      ]
    },
    {
      "cell_type": "code",
      "execution_count": null,
      "metadata": {},
      "outputs": [],
      "source": [
        "# Calculate the sine of Z\n",
        "\n",
        "np.sin(Z)"
      ]
    },
    {
      "cell_type": "markdown",
      "metadata": {},
      "source": [
        "We use the numpy attribute <code>T</code> to calculate the transposed matrix\n"
      ]
    },
    {
      "cell_type": "code",
      "execution_count": null,
      "metadata": {},
      "outputs": [],
      "source": [
        "# Create a matrix C\n",
        "\n",
        "C = np.array([[1,1],[2,2],[3,3]])\n",
        "C"
      ]
    },
    {
      "cell_type": "code",
      "execution_count": null,
      "metadata": {},
      "outputs": [],
      "source": [
        "# Get the transposed of C\n",
        "\n",
        "C.T"
      ]
    },
    {
      "cell_type": "markdown",
      "metadata": {},
      "source": [
        "<h2 id=\"PandasAPI\">Pandas is an API </h2>\n"
      ]
    },
    {
      "cell_type": "markdown",
      "metadata": {},
      "source": [
        "You will use this function in the lab:\n"
      ]
    },
    {
      "cell_type": "code",
      "execution_count": null,
      "metadata": {
        "collapsed": false,
        "jupyter": {
          "outputs_hidden": false
        },
        "trusted": true
      },
      "outputs": [],
      "source": [
        "def one_dict(list_dict):\n",
        "    keys=list_dict[0].keys()\n",
        "    out_dict={key:[] for key in keys}\n",
        "    for dict_ in list_dict:\n",
        "        for key, value in dict_.items():\n",
        "            out_dict[key].append(value)\n",
        "    return out_dict    "
      ]
    },
    {
      "cell_type": "markdown",
      "metadata": {},
      "source": [
        "<h2 id=\"PandasAPI\">Pandas is an API </h2>\n"
      ]
    },
    {
      "cell_type": "markdown",
      "metadata": {},
      "source": [
        "Pandas is actually set of software components , much of  which is not even written in Python.\n"
      ]
    },
    {
      "cell_type": "code",
      "execution_count": null,
      "metadata": {
        "collapsed": false,
        "jupyter": {
          "outputs_hidden": false
        },
        "trusted": true
      },
      "outputs": [
        {
          "name": "stderr",
          "output_type": "stream",
          "text": [
            "/lib/python3.9/site-packages/pandas/compat/__init__.py:124: UserWarning: Could not import the lzma module. Your installed Python is incomplete. Attempting to use lzma compression will result in a RuntimeError.\n",
            "  warnings.warn(msg)\n"
          ]
        }
      ],
      "source": [
        "import pandas as pd\n",
        "import matplotlib.pyplot as plt"
      ]
    },
    {
      "cell_type": "markdown",
      "metadata": {},
      "source": [
        "You create a dictionary, this is just data.\n"
      ]
    },
    {
      "cell_type": "code",
      "execution_count": null,
      "metadata": {
        "collapsed": false,
        "jupyter": {
          "outputs_hidden": false
        },
        "trusted": true
      },
      "outputs": [],
      "source": [
        "dict_={'a':[11,21,31],'b':[12,22,32]}"
      ]
    },
    {
      "cell_type": "markdown",
      "metadata": {},
      "source": [
        "When you create a Pandas object with the Dataframe constructor, in API lingo this is an \"instance\". The data in the dictionary is passed along to the pandas API. You then use the dataframe to communicate with the API.\n"
      ]
    },
    {
      "cell_type": "code",
      "execution_count": null,
      "metadata": {
        "collapsed": false,
        "jupyter": {
          "outputs_hidden": false
        },
        "trusted": true
      },
      "outputs": [
        {
          "data": {
            "text/plain": [
              "pandas.core.frame.DataFrame"
            ]
          },
          "metadata": {},
          "output_type": "display_data"
        }
      ],
      "source": [
        "df=pd.DataFrame(dict_)\n",
        "type(df)"
      ]
    },
    {
      "cell_type": "markdown",
      "metadata": {},
      "source": [
        "<img src = \"https://cf-courses-data.s3.us.cloud-object-storage.appdomain.cloud/IBMDeveloperSkillsNetwork-PY0101EN-SkillsNetwork/labs/Module%205/images/pandas_api.png\" width = 800, align = \"center\" alt=\"logistic regression block diagram\" />\n"
      ]
    },
    {
      "cell_type": "markdown",
      "metadata": {},
      "source": [
        "When you call the method `head` the dataframe communicates with the API displaying the first few rows of the dataframe.\n"
      ]
    },
    {
      "cell_type": "code",
      "execution_count": null,
      "metadata": {
        "collapsed": false,
        "jupyter": {
          "outputs_hidden": false
        },
        "trusted": true
      },
      "outputs": [
        {
          "data": {
            "text/html": [
              "<div>\n",
              "<style scoped>\n",
              "    .dataframe tbody tr th:only-of-type {\n",
              "        vertical-align: middle;\n",
              "    }\n",
              "\n",
              "    .dataframe tbody tr th {\n",
              "        vertical-align: top;\n",
              "    }\n",
              "\n",
              "    .dataframe thead th {\n",
              "        text-align: right;\n",
              "    }\n",
              "</style>\n",
              "<table border=\"1\" class=\"dataframe\">\n",
              "  <thead>\n",
              "    <tr style=\"text-align: right;\">\n",
              "      <th></th>\n",
              "      <th>a</th>\n",
              "      <th>b</th>\n",
              "    </tr>\n",
              "  </thead>\n",
              "  <tbody>\n",
              "    <tr>\n",
              "      <th>0</th>\n",
              "      <td>11</td>\n",
              "      <td>12</td>\n",
              "    </tr>\n",
              "    <tr>\n",
              "      <th>1</th>\n",
              "      <td>21</td>\n",
              "      <td>22</td>\n",
              "    </tr>\n",
              "    <tr>\n",
              "      <th>2</th>\n",
              "      <td>31</td>\n",
              "      <td>32</td>\n",
              "    </tr>\n",
              "  </tbody>\n",
              "</table>\n",
              "</div>"
            ],
            "text/plain": [
              "    a   b\n",
              "0  11  12\n",
              "1  21  22\n",
              "2  31  32"
            ]
          },
          "metadata": {},
          "output_type": "display_data"
        }
      ],
      "source": [
        "df.head()"
      ]
    },
    {
      "cell_type": "markdown",
      "metadata": {},
      "source": [
        "When you call the method `mean`, the API will calculate the mean and return the value.\n"
      ]
    },
    {
      "cell_type": "code",
      "execution_count": null,
      "metadata": {
        "collapsed": false,
        "jupyter": {
          "outputs_hidden": false
        },
        "trusted": true
      },
      "outputs": [
        {
          "data": {
            "text/plain": [
              "a    21.0\n",
              "b    22.0\n",
              "dtype: float64"
            ]
          },
          "metadata": {},
          "output_type": "display_data"
        }
      ],
      "source": [
        "df.mean()"
      ]
    },
    {
      "cell_type": "markdown",
      "metadata": {},
      "source": [
        "<h2 id=\"ref1\">REST APIs</h2>\n"
      ]
    },
    {
      "cell_type": "markdown",
      "metadata": {},
      "source": [
        "<p>Rest API’s function by sending a <b>request</b>, the request is communicated via HTTP message. The HTTP message usually contains a JSON file. This contains instructions for what operation we would like the service or <b>resource</b> to perform. In a similar manner, API returns a <b>response</b>, via an HTTP message, this response is usually contained within a JSON.</p>\n",
        "<p>In this lab, we will use the <a href=https://pypi.org/project/nba-api/?utm_medium=Exinfluencer&utm_source=Exinfluencer&utm_content=000026UJ&utm_term=10006555&utm_id=NA-SkillsNetwork-Channel-SkillsNetworkCoursesIBMDeveloperSkillsNetworkPY0101ENSkillsNetwork19487395-2021-01-01>NBA API</a> to determine how well the Golden State Warriors performed against the Toronto Raptors. We will use the API to determine the number of points the Golden State Warriors won or lost by for each game. So if the value is three, the Golden State Warriors won by three points. Similarly it the  Golden State Warriors lost  by two points the result will be negative two. The API will handle a lot of the details, such a Endpoints and Authentication </p>\n"
      ]
    },
    {
      "cell_type": "markdown",
      "metadata": {},
      "source": [
        "It's quite simple to use the nba api to make a request for a specific team. We don't require a JSON, all we require is an id. This information is stored locally in the API. We import the module `teams`\n"
      ]
    },
    {
      "cell_type": "code",
      "execution_count": null,
      "metadata": {
        "trusted": true
      },
      "outputs": [],
      "source": [
        "from nba_api.stats.static import teams\n",
        "import matplotlib.pyplot as plt"
      ]
    },
    {
      "cell_type": "code",
      "execution_count": null,
      "metadata": {
        "trusted": true
      },
      "outputs": [],
      "source": [
        "#https://pypi.org/project/nba-api/"
      ]
    },
    {
      "cell_type": "markdown",
      "metadata": {},
      "source": [
        "The method <code>get_teams()</code> returns a list of dictionaries.\n"
      ]
    },
    {
      "cell_type": "code",
      "execution_count": null,
      "metadata": {
        "trusted": true
      },
      "outputs": [],
      "source": [
        "nba_teams = teams.get_teams()"
      ]
    },
    {
      "cell_type": "markdown",
      "metadata": {},
      "source": [
        "The dictionary key id has a unique identifier for each team as a value. Let's look at the first three elements of the list:\n"
      ]
    },
    {
      "cell_type": "code",
      "execution_count": null,
      "metadata": {
        "trusted": true
      },
      "outputs": [
        {
          "data": {
            "text/plain": [
              "[{'id': 1610612737,\n",
              "  'full_name': 'Atlanta Hawks',\n",
              "  'abbreviation': 'ATL',\n",
              "  'nickname': 'Hawks',\n",
              "  'city': 'Atlanta',\n",
              "  'state': 'Atlanta',\n",
              "  'year_founded': 1949},\n",
              " {'id': 1610612738,\n",
              "  'full_name': 'Boston Celtics',\n",
              "  'abbreviation': 'BOS',\n",
              "  'nickname': 'Celtics',\n",
              "  'city': 'Boston',\n",
              "  'state': 'Massachusetts',\n",
              "  'year_founded': 1946},\n",
              " {'id': 1610612739,\n",
              "  'full_name': 'Cleveland Cavaliers',\n",
              "  'abbreviation': 'CLE',\n",
              "  'nickname': 'Cavaliers',\n",
              "  'city': 'Cleveland',\n",
              "  'state': 'Ohio',\n",
              "  'year_founded': 1970}]"
            ]
          },
          "metadata": {},
          "output_type": "display_data"
        }
      ],
      "source": [
        "nba_teams[0:3]"
      ]
    },
    {
      "cell_type": "markdown",
      "metadata": {},
      "source": [
        "To make things easier, we can convert the dictionary to a table. First, we use the function <code>one dict</code>, to create a dictionary. We use the common keys for each team as the keys, the value is a list; each element of the list corresponds to the values for each team.\n",
        "We then convert the dictionary to a dataframe, each row contains the information for a different team.\n"
      ]
    },
    {
      "cell_type": "code",
      "execution_count": null,
      "metadata": {
        "trusted": true
      },
      "outputs": [
        {
          "data": {
            "text/html": [
              "<div>\n",
              "<style scoped>\n",
              "    .dataframe tbody tr th:only-of-type {\n",
              "        vertical-align: middle;\n",
              "    }\n",
              "\n",
              "    .dataframe tbody tr th {\n",
              "        vertical-align: top;\n",
              "    }\n",
              "\n",
              "    .dataframe thead th {\n",
              "        text-align: right;\n",
              "    }\n",
              "</style>\n",
              "<table border=\"1\" class=\"dataframe\">\n",
              "  <thead>\n",
              "    <tr style=\"text-align: right;\">\n",
              "      <th></th>\n",
              "      <th>id</th>\n",
              "      <th>full_name</th>\n",
              "      <th>abbreviation</th>\n",
              "      <th>nickname</th>\n",
              "      <th>city</th>\n",
              "      <th>state</th>\n",
              "      <th>year_founded</th>\n",
              "    </tr>\n",
              "  </thead>\n",
              "  <tbody>\n",
              "    <tr>\n",
              "      <th>0</th>\n",
              "      <td>1610612737</td>\n",
              "      <td>Atlanta Hawks</td>\n",
              "      <td>ATL</td>\n",
              "      <td>Hawks</td>\n",
              "      <td>Atlanta</td>\n",
              "      <td>Atlanta</td>\n",
              "      <td>1949</td>\n",
              "    </tr>\n",
              "    <tr>\n",
              "      <th>1</th>\n",
              "      <td>1610612738</td>\n",
              "      <td>Boston Celtics</td>\n",
              "      <td>BOS</td>\n",
              "      <td>Celtics</td>\n",
              "      <td>Boston</td>\n",
              "      <td>Massachusetts</td>\n",
              "      <td>1946</td>\n",
              "    </tr>\n",
              "    <tr>\n",
              "      <th>2</th>\n",
              "      <td>1610612739</td>\n",
              "      <td>Cleveland Cavaliers</td>\n",
              "      <td>CLE</td>\n",
              "      <td>Cavaliers</td>\n",
              "      <td>Cleveland</td>\n",
              "      <td>Ohio</td>\n",
              "      <td>1970</td>\n",
              "    </tr>\n",
              "    <tr>\n",
              "      <th>3</th>\n",
              "      <td>1610612740</td>\n",
              "      <td>New Orleans Pelicans</td>\n",
              "      <td>NOP</td>\n",
              "      <td>Pelicans</td>\n",
              "      <td>New Orleans</td>\n",
              "      <td>Louisiana</td>\n",
              "      <td>2002</td>\n",
              "    </tr>\n",
              "    <tr>\n",
              "      <th>4</th>\n",
              "      <td>1610612741</td>\n",
              "      <td>Chicago Bulls</td>\n",
              "      <td>CHI</td>\n",
              "      <td>Bulls</td>\n",
              "      <td>Chicago</td>\n",
              "      <td>Illinois</td>\n",
              "      <td>1966</td>\n",
              "    </tr>\n",
              "  </tbody>\n",
              "</table>\n",
              "</div>"
            ],
            "text/plain": [
              "           id             full_name abbreviation   nickname         city  \\\n",
              "0  1610612737         Atlanta Hawks          ATL      Hawks      Atlanta   \n",
              "1  1610612738        Boston Celtics          BOS    Celtics       Boston   \n",
              "2  1610612739   Cleveland Cavaliers          CLE  Cavaliers    Cleveland   \n",
              "3  1610612740  New Orleans Pelicans          NOP   Pelicans  New Orleans   \n",
              "4  1610612741         Chicago Bulls          CHI      Bulls      Chicago   \n",
              "\n",
              "           state  year_founded  \n",
              "0        Atlanta          1949  \n",
              "1  Massachusetts          1946  \n",
              "2           Ohio          1970  \n",
              "3      Louisiana          2002  \n",
              "4       Illinois          1966  "
            ]
          },
          "metadata": {},
          "output_type": "display_data"
        }
      ],
      "source": [
        "dict_nba_team=one_dict(nba_teams)\n",
        "df_teams=pd.DataFrame(dict_nba_team)\n",
        "df_teams.head()"
      ]
    },
    {
      "cell_type": "markdown",
      "metadata": {},
      "source": [
        "Will use the team's nickname to find the unique id, we can see the row that contains the warriors by using the column nickname as follows:\n"
      ]
    },
    {
      "cell_type": "code",
      "execution_count": null,
      "metadata": {
        "collapsed": false,
        "jupyter": {
          "outputs_hidden": false
        },
        "trusted": true
      },
      "outputs": [
        {
          "data": {
            "text/html": [
              "<div>\n",
              "<style scoped>\n",
              "    .dataframe tbody tr th:only-of-type {\n",
              "        vertical-align: middle;\n",
              "    }\n",
              "\n",
              "    .dataframe tbody tr th {\n",
              "        vertical-align: top;\n",
              "    }\n",
              "\n",
              "    .dataframe thead th {\n",
              "        text-align: right;\n",
              "    }\n",
              "</style>\n",
              "<table border=\"1\" class=\"dataframe\">\n",
              "  <thead>\n",
              "    <tr style=\"text-align: right;\">\n",
              "      <th></th>\n",
              "      <th>id</th>\n",
              "      <th>full_name</th>\n",
              "      <th>abbreviation</th>\n",
              "      <th>nickname</th>\n",
              "      <th>city</th>\n",
              "      <th>state</th>\n",
              "      <th>year_founded</th>\n",
              "    </tr>\n",
              "  </thead>\n",
              "  <tbody>\n",
              "    <tr>\n",
              "      <th>7</th>\n",
              "      <td>1610612744</td>\n",
              "      <td>Golden State Warriors</td>\n",
              "      <td>GSW</td>\n",
              "      <td>Warriors</td>\n",
              "      <td>Golden State</td>\n",
              "      <td>California</td>\n",
              "      <td>1946</td>\n",
              "    </tr>\n",
              "  </tbody>\n",
              "</table>\n",
              "</div>"
            ],
            "text/plain": [
              "           id              full_name abbreviation  nickname          city  \\\n",
              "7  1610612744  Golden State Warriors          GSW  Warriors  Golden State   \n",
              "\n",
              "        state  year_founded  \n",
              "7  California          1946  "
            ]
          },
          "metadata": {},
          "output_type": "display_data"
        }
      ],
      "source": [
        "df_warriors=df_teams[df_teams['nickname']=='Warriors']\n",
        "df_warriors"
      ]
    },
    {
      "cell_type": "markdown",
      "metadata": {},
      "source": [
        "we can use the following line of code to access the first column of the dataframe:\n"
      ]
    },
    {
      "cell_type": "code",
      "execution_count": null,
      "metadata": {
        "collapsed": false,
        "jupyter": {
          "outputs_hidden": false
        },
        "trusted": true
      },
      "outputs": [
        {
          "data": {
            "text/plain": [
              "1610612744"
            ]
          },
          "metadata": {},
          "output_type": "display_data"
        }
      ],
      "source": [
        "id_warriors=df_warriors[['id']].values[0][0]\n",
        "# we now have an integer that can be used to request the Warriors information \n",
        "id_warriors"
      ]
    },
    {
      "cell_type": "markdown",
      "metadata": {},
      "source": [
        "The function \"League Game Finder \" will make an API call, it's in the module <code>stats.endpoints</code>\n"
      ]
    },
    {
      "cell_type": "code",
      "execution_count": null,
      "metadata": {
        "trusted": true
      },
      "outputs": [],
      "source": [
        "from nba_api.stats.endpoints import leaguegamefinder"
      ]
    },
    {
      "cell_type": "markdown",
      "metadata": {},
      "source": [
        "The parameter <code>team_id_nullable</code> is the unique ID for the warriors. Under the hood, the NBA API is making a HTTP request.\\\n",
        "The information requested is provided and is transmitted via an HTTP response this is assigned to the object <code>gamefinder</code>.\n"
      ]
    },
    {
      "cell_type": "code",
      "execution_count": null,
      "metadata": {
        "collapsed": false,
        "jupyter": {
          "outputs_hidden": false
        },
        "trusted": true
      },
      "outputs": [],
      "source": [
        "# Since https://stats.nba.com does not allow api calls from Cloud IPs and Skills Network Labs uses a Cloud IP.\n",
        "# The following code is commented out, you can run it on jupyter labs on your own computer.\n",
        "# gamefinder = leaguegamefinder.LeagueGameFinder(team_id_nullable=id_warriors)"
      ]
    },
    {
      "cell_type": "markdown",
      "metadata": {},
      "source": [
        "we can see the json file by running the following line of code.\n"
      ]
    },
    {
      "cell_type": "code",
      "execution_count": null,
      "metadata": {
        "trusted": true
      },
      "outputs": [],
      "source": [
        "# Since https://stats.nba.com does not allow api calls from Cloud IPs and Skills Network Labs uses a Cloud IP.\n",
        "# The following code is commented out, you can run it on jupyter labs on your own computer.\n",
        "# gamefinder.get_json()"
      ]
    },
    {
      "cell_type": "markdown",
      "metadata": {},
      "source": [
        "The game finder object has a method <code>get_data_frames()</code>, that returns a dataframe.  If we view the dataframe, we can see it contains information about all the games the Warriors played.  The <code>PLUS_MINUS</code> column contains information on the score, if the value is negative, the Warriors lost by that many points, if the value is positive, the warriors won by that amount of points. The column <code>MATCHUP</code> has the team the Warriors were playing, GSW stands for Golden State Warriors and TOR means Toronto Raptors. <code>vs</code> signifies it was a home game and the <code>@ </code>symbol means an away game.\n"
      ]
    },
    {
      "cell_type": "code",
      "execution_count": null,
      "metadata": {
        "trusted": true
      },
      "outputs": [],
      "source": [
        "# Since https://stats.nba.com does not allow api calls from Cloud IPs and Skills Network Labs uses a Cloud IP.\n",
        "# The following code is comment out, you can run it on jupyter labs on your own computer.\n",
        "# games = gamefinder.get_data_frames()[0]\n",
        "# games.head()"
      ]
    },
    {
      "cell_type": "markdown",
      "metadata": {},
      "source": [
        "you can download the dataframe from the API call for Golden State and run the rest like a video.\n"
      ]
    },
    {
      "cell_type": "code",
      "execution_count": null,
      "metadata": {
        "trusted": true
      },
      "outputs": [],
      "source": [
        "from pyodide.http import pyfetch\n",
        "\n",
        "filename = \"https://s3-api.us-geo.objectstorage.softlayer.net/cf-courses-data/CognitiveClass/PY0101EN/Chapter%205/Labs/Golden_State.pkl\"\n",
        "\n",
        "async def download(url, filename):\n",
        "    response = await pyfetch(url)\n",
        "    if response.status == 200:\n",
        "        with open(filename, \"wb\") as f:\n",
        "            f.write(await response.bytes())\n",
        "\n",
        "\n",
        "await download(filename, \"Golden_State.pkl\")\n",
        "\n",
        "# ! wget https://s3-api.us-geo.objectstorage.softlayer.net/cf-courses-data/CognitiveClass/PY0101EN/Chapter%205/Labs/Golden_State.pkl"
      ]
    },
    {
      "cell_type": "code",
      "execution_count": null,
      "metadata": {
        "trusted": true
      },
      "outputs": [
        {
          "data": {
            "text/html": [
              "<div>\n",
              "<style scoped>\n",
              "    .dataframe tbody tr th:only-of-type {\n",
              "        vertical-align: middle;\n",
              "    }\n",
              "\n",
              "    .dataframe tbody tr th {\n",
              "        vertical-align: top;\n",
              "    }\n",
              "\n",
              "    .dataframe thead th {\n",
              "        text-align: right;\n",
              "    }\n",
              "</style>\n",
              "<table border=\"1\" class=\"dataframe\">\n",
              "  <thead>\n",
              "    <tr style=\"text-align: right;\">\n",
              "      <th></th>\n",
              "      <th>SEASON_ID</th>\n",
              "      <th>TEAM_ID</th>\n",
              "      <th>TEAM_ABBREVIATION</th>\n",
              "      <th>TEAM_NAME</th>\n",
              "      <th>GAME_ID</th>\n",
              "      <th>GAME_DATE</th>\n",
              "      <th>MATCHUP</th>\n",
              "      <th>WL</th>\n",
              "      <th>MIN</th>\n",
              "      <th>PTS</th>\n",
              "      <th>...</th>\n",
              "      <th>FT_PCT</th>\n",
              "      <th>OREB</th>\n",
              "      <th>DREB</th>\n",
              "      <th>REB</th>\n",
              "      <th>AST</th>\n",
              "      <th>STL</th>\n",
              "      <th>BLK</th>\n",
              "      <th>TOV</th>\n",
              "      <th>PF</th>\n",
              "      <th>PLUS_MINUS</th>\n",
              "    </tr>\n",
              "  </thead>\n",
              "  <tbody>\n",
              "    <tr>\n",
              "      <th>0</th>\n",
              "      <td>22019</td>\n",
              "      <td>1610612744</td>\n",
              "      <td>GSW</td>\n",
              "      <td>Golden State Warriors</td>\n",
              "      <td>1521900066</td>\n",
              "      <td>2019-07-12</td>\n",
              "      <td>GSW vs. LAL</td>\n",
              "      <td>L</td>\n",
              "      <td>200</td>\n",
              "      <td>87</td>\n",
              "      <td>...</td>\n",
              "      <td>0.800</td>\n",
              "      <td>13.0</td>\n",
              "      <td>29.0</td>\n",
              "      <td>42.0</td>\n",
              "      <td>13</td>\n",
              "      <td>10.0</td>\n",
              "      <td>3</td>\n",
              "      <td>11.0</td>\n",
              "      <td>21</td>\n",
              "      <td>3.2</td>\n",
              "    </tr>\n",
              "    <tr>\n",
              "      <th>1</th>\n",
              "      <td>22019</td>\n",
              "      <td>1610612744</td>\n",
              "      <td>GSW</td>\n",
              "      <td>Golden State Warriors</td>\n",
              "      <td>1521900058</td>\n",
              "      <td>2019-07-10</td>\n",
              "      <td>GSW @ DEN</td>\n",
              "      <td>W</td>\n",
              "      <td>201</td>\n",
              "      <td>73</td>\n",
              "      <td>...</td>\n",
              "      <td>0.867</td>\n",
              "      <td>7.0</td>\n",
              "      <td>27.0</td>\n",
              "      <td>34.0</td>\n",
              "      <td>10</td>\n",
              "      <td>11.0</td>\n",
              "      <td>7</td>\n",
              "      <td>20.0</td>\n",
              "      <td>20</td>\n",
              "      <td>-8.0</td>\n",
              "    </tr>\n",
              "    <tr>\n",
              "      <th>2</th>\n",
              "      <td>22019</td>\n",
              "      <td>1610612744</td>\n",
              "      <td>GSW</td>\n",
              "      <td>Golden State Warriors</td>\n",
              "      <td>1521900039</td>\n",
              "      <td>2019-07-08</td>\n",
              "      <td>GSW @ LAL</td>\n",
              "      <td>W</td>\n",
              "      <td>200</td>\n",
              "      <td>88</td>\n",
              "      <td>...</td>\n",
              "      <td>0.621</td>\n",
              "      <td>8.0</td>\n",
              "      <td>29.0</td>\n",
              "      <td>37.0</td>\n",
              "      <td>21</td>\n",
              "      <td>10.0</td>\n",
              "      <td>4</td>\n",
              "      <td>13.0</td>\n",
              "      <td>22</td>\n",
              "      <td>8.0</td>\n",
              "    </tr>\n",
              "    <tr>\n",
              "      <th>3</th>\n",
              "      <td>22019</td>\n",
              "      <td>1610612744</td>\n",
              "      <td>GSW</td>\n",
              "      <td>Golden State Warriors</td>\n",
              "      <td>1521900020</td>\n",
              "      <td>2019-07-07</td>\n",
              "      <td>GSW vs. TOR</td>\n",
              "      <td>W</td>\n",
              "      <td>201</td>\n",
              "      <td>80</td>\n",
              "      <td>...</td>\n",
              "      <td>0.923</td>\n",
              "      <td>6.0</td>\n",
              "      <td>37.0</td>\n",
              "      <td>43.0</td>\n",
              "      <td>18</td>\n",
              "      <td>8.0</td>\n",
              "      <td>3</td>\n",
              "      <td>20.0</td>\n",
              "      <td>25</td>\n",
              "      <td>10.0</td>\n",
              "    </tr>\n",
              "    <tr>\n",
              "      <th>4</th>\n",
              "      <td>22019</td>\n",
              "      <td>1610612744</td>\n",
              "      <td>GSW</td>\n",
              "      <td>Golden State Warriors</td>\n",
              "      <td>1521900007</td>\n",
              "      <td>2019-07-05</td>\n",
              "      <td>GSW vs. CHA</td>\n",
              "      <td>L</td>\n",
              "      <td>200</td>\n",
              "      <td>85</td>\n",
              "      <td>...</td>\n",
              "      <td>0.889</td>\n",
              "      <td>8.0</td>\n",
              "      <td>28.0</td>\n",
              "      <td>36.0</td>\n",
              "      <td>19</td>\n",
              "      <td>9.0</td>\n",
              "      <td>3</td>\n",
              "      <td>13.0</td>\n",
              "      <td>15</td>\n",
              "      <td>-8.0</td>\n",
              "    </tr>\n",
              "  </tbody>\n",
              "</table>\n",
              "<p>5 rows × 28 columns</p>\n",
              "</div>"
            ],
            "text/plain": [
              "  SEASON_ID     TEAM_ID TEAM_ABBREVIATION              TEAM_NAME     GAME_ID  \\\n",
              "0     22019  1610612744               GSW  Golden State Warriors  1521900066   \n",
              "1     22019  1610612744               GSW  Golden State Warriors  1521900058   \n",
              "2     22019  1610612744               GSW  Golden State Warriors  1521900039   \n",
              "3     22019  1610612744               GSW  Golden State Warriors  1521900020   \n",
              "4     22019  1610612744               GSW  Golden State Warriors  1521900007   \n",
              "\n",
              "    GAME_DATE      MATCHUP WL  MIN  PTS  ...  FT_PCT  OREB  DREB   REB  AST  \\\n",
              "0  2019-07-12  GSW vs. LAL  L  200   87  ...   0.800  13.0  29.0  42.0   13   \n",
              "1  2019-07-10    GSW @ DEN  W  201   73  ...   0.867   7.0  27.0  34.0   10   \n",
              "2  2019-07-08    GSW @ LAL  W  200   88  ...   0.621   8.0  29.0  37.0   21   \n",
              "3  2019-07-07  GSW vs. TOR  W  201   80  ...   0.923   6.0  37.0  43.0   18   \n",
              "4  2019-07-05  GSW vs. CHA  L  200   85  ...   0.889   8.0  28.0  36.0   19   \n",
              "\n",
              "    STL  BLK   TOV  PF  PLUS_MINUS  \n",
              "0  10.0    3  11.0  21         3.2  \n",
              "1  11.0    7  20.0  20        -8.0  \n",
              "2  10.0    4  13.0  22         8.0  \n",
              "3   8.0    3  20.0  25        10.0  \n",
              "4   9.0    3  13.0  15        -8.0  \n",
              "\n",
              "[5 rows x 28 columns]"
            ]
          },
          "metadata": {},
          "output_type": "display_data"
        }
      ],
      "source": [
        "file_name = \"Golden_State.pkl\"\n",
        "games = pd.read_pickle(file_name)\n",
        "games.head()"
      ]
    },
    {
      "cell_type": "markdown",
      "metadata": {},
      "source": [
        "We can create two dataframes, one for the games that the Warriors faced the raptors at home, and the second for away games.\n"
      ]
    },
    {
      "cell_type": "code",
      "execution_count": null,
      "metadata": {
        "collapsed": false,
        "jupyter": {
          "outputs_hidden": false
        },
        "trusted": true
      },
      "outputs": [],
      "source": [
        "games_home=games [games ['MATCHUP']=='GSW vs. TOR']\n",
        "games_away=games [games ['MATCHUP']=='GSW @ TOR']"
      ]
    },
    {
      "cell_type": "markdown",
      "metadata": {},
      "source": [
        "We can calculate the mean for the column <code>PLUS_MINUS</code> for the dataframes <code>games_home</code> and <code> games_away</code>:\n"
      ]
    },
    {
      "cell_type": "code",
      "execution_count": null,
      "metadata": {
        "collapsed": false,
        "jupyter": {
          "outputs_hidden": false
        },
        "trusted": true
      },
      "outputs": [
        {
          "name": "stderr",
          "output_type": "stream",
          "text": [
            "<ipython-input-22-1a4d8d789457>:1: FutureWarning: Dropping of nuisance columns in DataFrame reductions (with 'numeric_only=None') is deprecated; in a future version this will raise TypeError.  Select only valid columns before calling the reduction.\n",
            "  games_home.mean()['PLUS_MINUS']\n"
          ]
        },
        {
          "data": {
            "text/plain": [
              "3.730769230769231"
            ]
          },
          "metadata": {},
          "output_type": "display_data"
        }
      ],
      "source": [
        "games_home.mean()['PLUS_MINUS']"
      ]
    },
    {
      "cell_type": "code",
      "execution_count": null,
      "metadata": {
        "collapsed": false,
        "jupyter": {
          "outputs_hidden": false
        },
        "trusted": true
      },
      "outputs": [
        {
          "name": "stderr",
          "output_type": "stream",
          "text": [
            "<ipython-input-23-1d9eb37c74c0>:1: FutureWarning: Dropping of nuisance columns in DataFrame reductions (with 'numeric_only=None') is deprecated; in a future version this will raise TypeError.  Select only valid columns before calling the reduction.\n",
            "  games_away.mean()['PLUS_MINUS']\n"
          ]
        },
        {
          "data": {
            "text/plain": [
              "-0.6071428571428571"
            ]
          },
          "metadata": {},
          "output_type": "display_data"
        }
      ],
      "source": [
        "games_away.mean()['PLUS_MINUS']"
      ]
    },
    {
      "cell_type": "markdown",
      "metadata": {},
      "source": [
        "We can plot out the <code>PLUS MINUS</code> column for the dataframes <code>games_home</code> and <code> games_away</code>.\n",
        "We see the warriors played better at home.\n"
      ]
    },
    {
      "cell_type": "code",
      "execution_count": null,
      "metadata": {
        "collapsed": false,
        "jupyter": {
          "outputs_hidden": false
        },
        "trusted": true
      },
      "outputs": [
        {
          "data": {
            "image/png": "[encoded data removed]",
            "text/plain": [
              "<pyolite.display.Image at 0x46d9be8>"
            ]
          },
          "metadata": {},
          "output_type": "display_data"
        }
      ],
      "source": [
        "fig, ax = plt.subplots()\n",
        "\n",
        "games_away.plot(x='GAME_DATE',y='PLUS_MINUS', ax=ax)\n",
        "games_home.plot(x='GAME_DATE',y='PLUS_MINUS', ax=ax)\n",
        "ax.legend([\"away\", \"home\"])\n",
        "plt.show()"
      ]
    },
    {
      "cell_type": "markdown",
      "metadata": {},
      "source": [
        "<h2 id=\"\">Overview of HTTP </h2>\n"
      ]
    },
    {
      "cell_type": "markdown",
      "metadata": {},
      "source": [
        "When you, the **client**, use a web page your browser sends an **HTTP** request to the **server** where the page is hosted. The server tries to find the desired **resource** by default \"<code>index.html</code>\". If your request is successful, the server will send the object to the client in an **HTTP response**. This includes information like the type of the **resource**, the length of the **resource**, and other information.\n",
        "\n",
        "<p>\n",
        "The figure below represents the process. The circle on the left represents the client, the circle on the right represents the Web server. The table under the Web server represents a list of resources stored in the web server. In  this case an <code>HTML</code> file, <code>png</code> image, and <code>txt</code> file .\n",
        "</p>\n",
        "<p>\n",
        "The <b>HTTP</b> protocol allows you to send and receive information through the web including webpages, images, and other web resources. In this lab, we will provide an overview of the Requests library for interacting with the <code>HTTP</code> protocol. \n",
        "</p\n"
      ]
    },
    {
      "cell_type": "markdown",
      "metadata": {},
      "source": [
        "<div class=\"alert alert-block alert-info\" style=\"margin-top: 20px\">\n",
        "         <img src=\"https://cf-courses-data.s3.us.cloud-object-storage.appdomain.cloud/IBMDeveloperSkillsNetwork-PY0101EN-SkillsNetwork/labs/Module%205/images/reqest_basics.png\" width=\"750\" align=\"center\">\n",
        "\n",
        "</div>\n"
      ]
    },
    {
      "cell_type": "markdown",
      "metadata": {},
      "source": [
        "<h2 id=\"URL\">Uniform Resource Locator: URL</h2>\n"
      ]
    },
    {
      "cell_type": "markdown",
      "metadata": {},
      "source": [
        "Uniform resource locator (URL) is the most popular way to find resources on the web.  We can break the URL into three parts.\n",
        "\n",
        "<ul>\n",
        "    <li><b>scheme</b> this is this protocol, for this lab it will always be <code>http://</code>  </li>\n",
        "    <li><b> Internet address or  Base URL </b> this will be used to find the location here are some examples: <code>www.ibm.com</code> and  <code> www.gitlab.com </code> </li>\n",
        "    <li><b>route</b> location on the web server for example: <code>/images/IDSNlogo.png</code> </li>\n",
        "</ul>\n"
      ]
    },
    {
      "cell_type": "markdown",
      "metadata": {},
      "source": [
        "You may also hear the term Uniform Resource Identifier (URI), URL are actually a subset of URIs. Another popular term is endpoint, this is the URL of an operation provided by a Web server.\n"
      ]
    },
    {
      "cell_type": "markdown",
      "metadata": {},
      "source": [
        "<h2 id=\"RE\">Request </h2>\n"
      ]
    },
    {
      "cell_type": "markdown",
      "metadata": {},
      "source": [
        "The process can be broken into the <b>request</b> and <b>response </b> process.  The request using the get method is partially illustrated below. In the start line we have the <code>GET</code> method, this is an <code>HTTP</code> method. Also the location of the resource  <code>/index.html</code> and the <code>HTTP</code> version. The Request header passes additional information with an <code>HTTP</code> request:\n"
      ]
    },
    {
      "cell_type": "markdown",
      "metadata": {},
      "source": [
        "<div class=\"alert alert-block alert-info\" style=\"margin-top: 20px\">\n",
        "         <img src=\"https://cf-courses-data.s3.us.cloud-object-storage.appdomain.cloud/IBMDeveloperSkillsNetwork-PY0101EN-SkillsNetwork/labs/Module%205/images/reqest_messege.png\" width=\"400\" align=\"center\">\n",
        "</div>\n"
      ]
    },
    {
      "cell_type": "markdown",
      "metadata": {},
      "source": [
        "When an <code>HTTP</code> request is made, an <code>HTTP</code> method is sent, this tells the server what action to perform.  A list of several <code>HTTP</code> methods is shown below. We will go over more examples later.\n"
      ]
    },
    {
      "cell_type": "markdown",
      "metadata": {},
      "source": [
        "<div class=\"alert alert-block alert-info\" style=\"margin-top: 20px\">\n",
        "         <img src=\"https://cf-courses-data.s3.us.cloud-object-storage.appdomain.cloud/IBMDeveloperSkillsNetwork-PY0101EN-SkillsNetwork/labs/Module%205/images/http_methods.png\" width=\"400\" align=\"center\">\n",
        "</div>\n"
      ]
    },
    {
      "cell_type": "markdown",
      "metadata": {},
      "source": [
        "<h2 id=\"RES\">Response</h2>\n"
      ]
    },
    {
      "cell_type": "markdown",
      "metadata": {},
      "source": [
        "The figure below represents the response; the response start line contains the version number <code>HTTP/1.0</code>, a status code (200) meaning success, followed by a descriptive phrase (OK). The response header contains useful information. Finally, we have the response body containing the requested file, an <code> HTML </code> document.  It should be noted that some requests have headers.\n"
      ]
    },
    {
      "cell_type": "markdown",
      "metadata": {},
      "source": [
        "<div class=\"alert alert-block alert-info\" style=\"margin-top: 20px\">\n",
        "         <img src=\"https://cf-courses-data.s3.us.cloud-object-storage.appdomain.cloud/IBMDeveloperSkillsNetwork-PY0101EN-SkillsNetwork/labs/Module%205/images/response_message.png\" width=\"400\" align=\"center\">\n",
        "</div>\n"
      ]
    },
    {
      "cell_type": "markdown",
      "metadata": {},
      "source": [
        "Some status code examples are shown in the table below, the prefix indicates the class. These are shown in yellow, with actual status codes shown in  white. Check out the following <a href=\"https://developer.mozilla.org/en-US/docs/Web/HTTP/Status?utm_medium=Exinfluencer&utm_source=Exinfluencer&utm_content=000026UJ&utm_term=10006555&utm_id=NA-SkillsNetwork-Channel-SkillsNetworkCoursesIBMDeveloperSkillsNetworkPY0101ENSkillsNetwork19487395-2021-01-01\">link </a> for more descriptions.\n"
      ]
    },
    {
      "cell_type": "markdown",
      "metadata": {},
      "source": [
        "<div class=\"alert alert-block alert-info\" style=\"margin-top: 20px\">\n",
        "         <img src=\"https://cf-courses-data.s3.us.cloud-object-storage.appdomain.cloud/IBMDeveloperSkillsNetwork-PY0101EN-SkillsNetwork/labs/Module%205/images/status_code.png\" width=\"300\" align=\"center\">\n",
        "</div>\n"
      ]
    },
    {
      "cell_type": "markdown",
      "metadata": {},
      "source": [
        "<h2 id=\"RP\">Requests in Python</h2>\n"
      ]
    },
    {
      "cell_type": "markdown",
      "metadata": {},
      "source": [
        "Requests is a Python Library that allows you to send <code>HTTP/1.1</code> requests easily. We can import the library as follows:\n"
      ]
    },
    {
      "cell_type": "code",
      "execution_count": null,
      "metadata": {},
      "outputs": [],
      "source": [
        "import requests"
      ]
    },
    {
      "cell_type": "markdown",
      "metadata": {},
      "source": [
        "We will also use the following libraries:\n"
      ]
    },
    {
      "cell_type": "code",
      "execution_count": null,
      "metadata": {},
      "outputs": [],
      "source": [
        "import os \n",
        "from PIL import Image\n",
        "from IPython.display import IFrame"
      ]
    },
    {
      "cell_type": "markdown",
      "metadata": {},
      "source": [
        "You can make a <code>GET</code> request via the method <code>get</code> to [www.ibm.com](http://www.ibm.com/?utm_medium=Exinfluencer&utm_source=Exinfluencer&utm_content=000026UJ&utm_term=10006555&utm_id=NA-SkillsNetwork-Channel-SkillsNetworkCoursesIBMDeveloperSkillsNetworkPY0101ENSkillsNetwork19487395-2021-01-01):\n"
      ]
    },
    {
      "cell_type": "code",
      "execution_count": null,
      "metadata": {},
      "outputs": [],
      "source": [
        "url='https://www.ibm.com/'\n",
        "r=requests.get(url)\n"
      ]
    },
    {
      "cell_type": "markdown",
      "metadata": {},
      "source": [
        "We have the response object <code>r</code>, this has information about the request, like the status of the request. We can view the status code using the attribute <code>status_code</code>.\n"
      ]
    },
    {
      "cell_type": "code",
      "execution_count": null,
      "metadata": {},
      "outputs": [],
      "source": [
        "r.status_code"
      ]
    },
    {
      "cell_type": "markdown",
      "metadata": {},
      "source": [
        "You can view the request headers:\n"
      ]
    },
    {
      "cell_type": "code",
      "execution_count": null,
      "metadata": {},
      "outputs": [],
      "source": [
        "print(r.request.headers)"
      ]
    },
    {
      "cell_type": "markdown",
      "metadata": {},
      "source": [
        "You can view the request body, in the following line, as there is no body for a get request we get a <code>None</code>:\n"
      ]
    },
    {
      "cell_type": "code",
      "execution_count": null,
      "metadata": {},
      "outputs": [],
      "source": [
        "print(\"request body:\", r.request.body)"
      ]
    },
    {
      "cell_type": "markdown",
      "metadata": {},
      "source": [
        "You can view the <code>HTTP</code> response header using the attribute <code>headers</code>. This returns a python dictionary of <code>HTTP</code> response headers.\n"
      ]
    },
    {
      "cell_type": "code",
      "execution_count": null,
      "metadata": {},
      "outputs": [],
      "source": [
        "header=r.headers\n",
        "print(r.headers)"
      ]
    },
    {
      "cell_type": "markdown",
      "metadata": {},
      "source": [
        "We can obtain the date the request was sent using the key <code>Date</code>\n"
      ]
    },
    {
      "cell_type": "code",
      "execution_count": null,
      "metadata": {},
      "outputs": [],
      "source": [
        "header['date']"
      ]
    },
    {
      "cell_type": "markdown",
      "metadata": {},
      "source": [
        "<code>Content-Type</code> indicates the type of data:\n"
      ]
    },
    {
      "cell_type": "code",
      "execution_count": null,
      "metadata": {},
      "outputs": [],
      "source": [
        "header['Content-Type']"
      ]
    },
    {
      "cell_type": "markdown",
      "metadata": {},
      "source": [
        "You can also check the <code>encoding</code>:\n"
      ]
    },
    {
      "cell_type": "code",
      "execution_count": null,
      "metadata": {},
      "outputs": [],
      "source": [
        " r.encoding"
      ]
    },
    {
      "cell_type": "markdown",
      "metadata": {},
      "source": [
        "As the <code>Content-Type</code> is <code>text/html</code> we can use the attribute <code>text</code> to display the <code>HTML</code> in the body. We can review the first 100 characters:\n"
      ]
    },
    {
      "cell_type": "code",
      "execution_count": null,
      "metadata": {},
      "outputs": [],
      "source": [
        "r.text[0:100]"
      ]
    },
    {
      "cell_type": "markdown",
      "metadata": {},
      "source": [
        "You can load other types of data for non-text requests, like images. Consider the URL of the following image:\n"
      ]
    },
    {
      "cell_type": "code",
      "execution_count": null,
      "metadata": {},
      "outputs": [],
      "source": [
        "# Use single quotation marks for defining string\n",
        "url='https://cf-courses-data.s3.us.cloud-object-storage.appdomain.cloud/IBMDeveloperSkillsNetwork-PY0101EN-SkillsNetwork/IDSNlogo.png'"
      ]
    },
    {
      "cell_type": "markdown",
      "metadata": {},
      "source": [
        "We can make a get request:\n"
      ]
    },
    {
      "cell_type": "code",
      "execution_count": null,
      "metadata": {},
      "outputs": [],
      "source": [
        "r=requests.get(url)"
      ]
    },
    {
      "cell_type": "markdown",
      "metadata": {},
      "source": [
        "We can look at the response header:\n"
      ]
    },
    {
      "cell_type": "code",
      "execution_count": null,
      "metadata": {},
      "outputs": [],
      "source": [
        "print(r.headers)"
      ]
    },
    {
      "cell_type": "markdown",
      "metadata": {},
      "source": [
        "We can see the <code>'Content-Type'</code>\n"
      ]
    },
    {
      "cell_type": "code",
      "execution_count": null,
      "metadata": {},
      "outputs": [],
      "source": [
        "r.headers['Content-Type']"
      ]
    },
    {
      "cell_type": "markdown",
      "metadata": {},
      "source": [
        "An image is a response object that contains the image as a <a href=\"https://docs.python.org/3/glossary.html?utm_medium=Exinfluencer&utm_source=Exinfluencer&utm_content=000026UJ&utm_term=10006555&utm_id=NA-SkillsNetwork-Channel-SkillsNetworkCoursesIBMDeveloperSkillsNetworkPY0101ENSkillsNetwork19487395-2021-01-01#term-bytes-like-object\">bytes-like object</a>. As a result, we must save it using a file object. First, we specify the file path and\n",
        "name\n"
      ]
    },
    {
      "cell_type": "code",
      "execution_count": null,
      "metadata": {},
      "outputs": [],
      "source": [
        "path=os.path.join(os.getcwd(),'image.png')\n",
        "path"
      ]
    },
    {
      "cell_type": "markdown",
      "metadata": {},
      "source": [
        "We save the file, in order to access the body of the response we use the attribute <code>content</code> then save it using the <code>open</code> function and write <code>method</code>:\n"
      ]
    },
    {
      "cell_type": "code",
      "execution_count": null,
      "metadata": {},
      "outputs": [],
      "source": [
        "with open(path,'wb') as f:\n",
        "    f.write(r.content)"
      ]
    },
    {
      "cell_type": "markdown",
      "metadata": {},
      "source": [
        "We can view the image:\n"
      ]
    },
    {
      "cell_type": "code",
      "execution_count": null,
      "metadata": {},
      "outputs": [],
      "source": [
        "Image.open(path)  "
      ]
    },
    {
      "cell_type": "markdown",
      "metadata": {},
      "source": [
        "<h2 id=\"URL_P\">Get Request with URL Parameters </h2>\n"
      ]
    },
    {
      "cell_type": "markdown",
      "metadata": {},
      "source": [
        "You can use the <b>GET</b> method to modify the results of your query, for example retrieving data from an API. We send a <b>GET</b> request to the  server. Like before we have the <b>Base URL</b>, in the <b>Route</b> we append <code>/get</code>, this indicates we would like to preform a <code>GET</code> request. This is demonstrated in the following table:\n"
      ]
    },
    {
      "cell_type": "markdown",
      "metadata": {},
      "source": [
        "<div class=\"alert alert-block alert-info\" style=\"margin-top: 20px\">\n",
        "         <img src=\"https://cf-courses-data.s3.us.cloud-object-storage.appdomain.cloud/IBMDeveloperSkillsNetwork-PY0101EN-SkillsNetwork/labs/Module%205/images/base_URL_Route.png\" width=\"400\" align=\"center\">\n",
        "</div>\n"
      ]
    },
    {
      "cell_type": "markdown",
      "metadata": {},
      "source": [
        "The Base URL is for <code>[http://httpbin.org/](http://httpbin.org/?utm_medium=Exinfluencer&utm_source=Exinfluencer&utm_content=000026UJ&utm_term=10006555&utm_id=NA-SkillsNetwork-Channel-SkillsNetworkCoursesIBMDeveloperSkillsNetworkPY0101ENSkillsNetwork19487395-2021-01-01)</code> is a simple HTTP Request & Response Service. The <code>URL</code> in Python is given by:\n"
      ]
    },
    {
      "cell_type": "code",
      "execution_count": null,
      "metadata": {},
      "outputs": [],
      "source": [
        "url_get='http://httpbin.org/get'"
      ]
    },
    {
      "cell_type": "markdown",
      "metadata": {},
      "source": [
        "A <a href=\"https://en.wikipedia.org/wiki/Query_string?utm_medium=Exinfluencer&utm_source=Exinfluencer&utm_content=000026UJ&utm_term=10006555&utm_id=NA-SkillsNetwork-Channel-SkillsNetworkCoursesIBMDeveloperSkillsNetworkPY0101ENSkillsNetwork19487395-2021-01-01\">query string</a> is a part of a uniform resource locator (URL), this sends other information to the web server. The start of the query is a <code>?</code>, followed by a series of parameter and value pairs, as shown in the table below. The first parameter name is <code>name</code> and the value is <code>Joseph</code>. The second parameter name is <code>ID</code> and the Value is <code>123</code>. Each pair, parameter, and value is separated by an equals sign, <code>=</code>.\n",
        "The series of pairs is separated by the ampersand <code>&</code>.\n"
      ]
    },
    {
      "cell_type": "markdown",
      "metadata": {},
      "source": [
        "<div class=\"alert alert-block alert-info\" style=\"margin-top: 20px\">\n",
        "         <img src=\"https://cf-courses-data.s3.us.cloud-object-storage.appdomain.cloud/IBMDeveloperSkillsNetwork-PY0101EN-SkillsNetwork/labs/Module%205/images/query_string.png\" width=\"500\" align=\"center\">\n",
        "</div>\n"
      ]
    },
    {
      "cell_type": "markdown",
      "metadata": {},
      "source": [
        "To create a Query string, add a dictionary. The keys are the parameter names and the values are the value of the Query string.\n"
      ]
    },
    {
      "cell_type": "code",
      "execution_count": null,
      "metadata": {},
      "outputs": [],
      "source": [
        "payload={\"name\":\"Joseph\",\"ID\":\"123\"}"
      ]
    },
    {
      "cell_type": "markdown",
      "metadata": {},
      "source": [
        "Then passing the dictionary <code>payload</code> to the <code>params</code> parameter of the <code> get()</code> function:\n"
      ]
    },
    {
      "cell_type": "code",
      "execution_count": null,
      "metadata": {},
      "outputs": [],
      "source": [
        "r=requests.get(url_get,params=payload)"
      ]
    },
    {
      "cell_type": "markdown",
      "metadata": {},
      "source": [
        "We can print out the <code>URL</code> and see the name and values\n"
      ]
    },
    {
      "cell_type": "code",
      "execution_count": null,
      "metadata": {},
      "outputs": [],
      "source": [
        "r.url"
      ]
    },
    {
      "cell_type": "markdown",
      "metadata": {},
      "source": [
        "There is no request body\n"
      ]
    },
    {
      "cell_type": "code",
      "execution_count": null,
      "metadata": {},
      "outputs": [],
      "source": [
        "print(\"request body:\", r.request.body)"
      ]
    },
    {
      "cell_type": "markdown",
      "metadata": {},
      "source": [
        "We can print out the status code\n"
      ]
    },
    {
      "cell_type": "code",
      "execution_count": null,
      "metadata": {},
      "outputs": [],
      "source": [
        "print(r.status_code)"
      ]
    },
    {
      "cell_type": "markdown",
      "metadata": {},
      "source": [
        "We can view the response as text:\n"
      ]
    },
    {
      "cell_type": "code",
      "execution_count": null,
      "metadata": {},
      "outputs": [],
      "source": [
        "print(r.text)"
      ]
    },
    {
      "cell_type": "markdown",
      "metadata": {},
      "source": [
        "We can look at the <code>'Content-Type'</code>.\n"
      ]
    },
    {
      "cell_type": "code",
      "execution_count": null,
      "metadata": {},
      "outputs": [],
      "source": [
        "r.headers['Content-Type']"
      ]
    },
    {
      "cell_type": "markdown",
      "metadata": {},
      "source": [
        "As the content <code>'Content-Type'</code> is in the <code>JSON</code> format we can use the method <code>json()</code>, it returns a Python <code>dict</code>:\n"
      ]
    },
    {
      "cell_type": "code",
      "execution_count": null,
      "metadata": {},
      "outputs": [],
      "source": [
        "r.json()"
      ]
    },
    {
      "cell_type": "markdown",
      "metadata": {},
      "source": [
        "The key <code>args</code> has the name and values:\n"
      ]
    },
    {
      "cell_type": "code",
      "execution_count": null,
      "metadata": {},
      "outputs": [],
      "source": [
        "r.json()['args']"
      ]
    },
    {
      "cell_type": "markdown",
      "metadata": {},
      "source": [
        "<h2 id=\"POST\">Post Requests  </h2>\n"
      ]
    },
    {
      "cell_type": "markdown",
      "metadata": {},
      "source": [
        "Like a <code>GET</code> request, a <code>POST</code> is used to send data to a server, but the <code>POST</code> request sends the data in a request body. In order to send the Post Request in Python, in the <code>URL</code> we change the route to <code>POST</code>:\n"
      ]
    },
    {
      "cell_type": "code",
      "execution_count": null,
      "metadata": {},
      "outputs": [],
      "source": [
        "url_post='http://httpbin.org/post'"
      ]
    },
    {
      "cell_type": "markdown",
      "metadata": {},
      "source": [
        "This endpoint will expect data as a file or as a form. A form is convenient way to configure an HTTP request to send data to a server.\n"
      ]
    },
    {
      "cell_type": "markdown",
      "metadata": {},
      "source": [
        "To make a <code>POST</code> request we use the <code>post()</code> function, the variable <code>payload</code> is passed to the parameter <code> data </code>:\n"
      ]
    },
    {
      "cell_type": "code",
      "execution_count": null,
      "metadata": {},
      "outputs": [],
      "source": [
        "r_post=requests.post(url_post,data=payload)"
      ]
    },
    {
      "cell_type": "markdown",
      "metadata": {},
      "source": [
        "Comparing the URL from the response object of the <code>GET</code> and <code>POST</code> request we see the <code>POST</code> request has no name or value pairs.\n"
      ]
    },
    {
      "cell_type": "code",
      "execution_count": null,
      "metadata": {},
      "outputs": [],
      "source": [
        "print(\"POST request URL:\",r_post.url )\n",
        "print(\"GET request URL:\",r.url)"
      ]
    },
    {
      "cell_type": "markdown",
      "metadata": {},
      "source": [
        "We can compare the <code>POST</code> and <code>GET</code> request body, we see only the <code>POST</code> request has a body:\n"
      ]
    },
    {
      "cell_type": "code",
      "execution_count": null,
      "metadata": {},
      "outputs": [],
      "source": [
        "print(\"POST request body:\",r_post.request.body)\n",
        "print(\"GET request body:\",r.request.body)"
      ]
    },
    {
      "cell_type": "markdown",
      "metadata": {},
      "source": [
        "We can view the form as well:\n"
      ]
    },
    {
      "cell_type": "code",
      "execution_count": null,
      "metadata": {},
      "outputs": [],
      "source": [
        "r_post.json()['form']"
      ]
    }
  ],
  "metadata": {
    "colab": {
      "include_colab_link": true,
      "name": "assignment01.ipynb",
      "provenance": [],
      "toc_visible": true
    },
    "kernelspec": {
      "display_name": "Python 3",
      "name": "python3"
    },
    "language_info": {
      "name": "python"
    }
  },
  "nbformat": 4,
  "nbformat_minor": 0
}
